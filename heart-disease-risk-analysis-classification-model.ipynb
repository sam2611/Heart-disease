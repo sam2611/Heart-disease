{
 "cells": [
  {
   "attachments": {},
   "cell_type": "markdown",
   "id": "d020246e",
   "metadata": {
    "papermill": {
     "duration": 0.020525,
     "end_time": "2023-04-12T19:51:50.057829",
     "exception": false,
     "start_time": "2023-04-12T19:51:50.037304",
     "status": "completed"
    },
    "tags": []
   },
   "source": [
    "# Heart Disease Risk Analysis\n",
    "* **Risk Analysis and Prediction of future coronary heart disease (CHD) based on cardiovascular study on residents of the town of Framingham, Massachusetts.**\n",
    "* **The classification goal is to predict whether the patient has 10-year risk of future coronary heart disease (CHD).The dataset provides the patients’ information. It includes over 4,000 records and 15 attributes.**\n",
    "> Above info is obtained from the information provided alongwith the dataset.\n",
    "* **For this dataset, we will be using Logistic Regression and Decision Trees for predictions.**"
   ]
  },
  {
   "attachments": {},
   "cell_type": "markdown",
   "id": "5af117dd",
   "metadata": {
    "papermill": {
     "duration": 0.018615,
     "end_time": "2023-04-12T19:51:50.098082",
     "exception": false,
     "start_time": "2023-04-12T19:51:50.079467",
     "status": "completed"
    },
    "tags": []
   },
   "source": [
    "## Major Headings:\n",
    "* *Part 1:*\n",
    "    * **Data Preprocessing and Visualization**\n",
    "    * **Model Building (using Logistic Regression)**\n",
    "    * **Improving Recall (Sensitivity)**\n",
    "* *Part 2:*\n",
    "    * **Preprocessing using Backward Elimination Method**\n",
    "* *Part 3:*\n",
    "    * **Using Decision Trees**\n",
    "* *Part 4:*\n",
    "    * **Using Random Forest classifier**"
   ]
  },
  {
   "cell_type": "code",
   "execution_count": 1,
   "id": "b7091ba5",
   "metadata": {
    "execution": {
     "iopub.execute_input": "2023-04-12T19:51:50.138923Z",
     "iopub.status.busy": "2023-04-12T19:51:50.138431Z",
     "iopub.status.idle": "2023-04-12T19:51:51.446969Z",
     "shell.execute_reply": "2023-04-12T19:51:51.445427Z"
    },
    "papermill": {
     "duration": 1.332742,
     "end_time": "2023-04-12T19:51:51.449920",
     "exception": false,
     "start_time": "2023-04-12T19:51:50.117178",
     "status": "completed"
    },
    "tags": []
   },
   "outputs": [
    {
     "name": "stdout",
     "output_type": "stream",
     "text": [
      "/kaggle/input/heart-disease-prediction-using-logistic-regression/framingham.csv\n"
     ]
    }
   ],
   "source": [
    "import numpy as np\n",
    "import pandas as pd\n",
    "\n",
    "import matplotlib.pyplot as plt\n",
    "import seaborn as sns\n",
    "\n",
    "import warnings\n",
    "warnings.filterwarnings(\"ignore\")\n",
    "\n",
    "import os\n",
    "for dirname, _, filenames in os.walk('/kaggle/input'):\n",
    "    for filename in filenames:\n",
    "        print(os.path.join(dirname, filename))"
   ]
  },
  {
   "attachments": {},
   "cell_type": "markdown",
   "id": "82dba2f0",
   "metadata": {
    "papermill": {
     "duration": 0.019099,
     "end_time": "2023-04-12T19:51:51.489255",
     "exception": false,
     "start_time": "2023-04-12T19:51:51.470156",
     "status": "completed"
    },
    "tags": []
   },
   "source": [
    "#### Loading Dataset:"
   ]
  },
  {
   "cell_type": "code",
   "execution_count": 2,
   "id": "869b8096",
   "metadata": {
    "execution": {
     "iopub.execute_input": "2023-04-12T19:51:51.530679Z",
     "iopub.status.busy": "2023-04-12T19:51:51.529342Z",
     "iopub.status.idle": "2023-04-12T19:51:51.602935Z",
     "shell.execute_reply": "2023-04-12T19:51:51.601704Z"
    },
    "papermill": {
     "duration": 0.097121,
     "end_time": "2023-04-12T19:51:51.605734",
     "exception": false,
     "start_time": "2023-04-12T19:51:51.508613",
     "status": "completed"
    },
    "tags": []
   },
   "outputs": [
    {
     "data": {
      "text/html": [
       "<div>\n",
       "<style scoped>\n",
       "    .dataframe tbody tr th:only-of-type {\n",
       "        vertical-align: middle;\n",
       "    }\n",
       "\n",
       "    .dataframe tbody tr th {\n",
       "        vertical-align: top;\n",
       "    }\n",
       "\n",
       "    .dataframe thead th {\n",
       "        text-align: right;\n",
       "    }\n",
       "</style>\n",
       "<table border=\"1\" class=\"dataframe\">\n",
       "  <thead>\n",
       "    <tr style=\"text-align: right;\">\n",
       "      <th></th>\n",
       "      <th>male</th>\n",
       "      <th>age</th>\n",
       "      <th>education</th>\n",
       "      <th>currentSmoker</th>\n",
       "      <th>cigsPerDay</th>\n",
       "      <th>BPMeds</th>\n",
       "      <th>prevalentStroke</th>\n",
       "      <th>prevalentHyp</th>\n",
       "      <th>diabetes</th>\n",
       "      <th>totChol</th>\n",
       "      <th>sysBP</th>\n",
       "      <th>diaBP</th>\n",
       "      <th>BMI</th>\n",
       "      <th>heartRate</th>\n",
       "      <th>glucose</th>\n",
       "      <th>TenYearCHD</th>\n",
       "    </tr>\n",
       "  </thead>\n",
       "  <tbody>\n",
       "    <tr>\n",
       "      <th>0</th>\n",
       "      <td>1</td>\n",
       "      <td>39</td>\n",
       "      <td>4.0</td>\n",
       "      <td>0</td>\n",
       "      <td>0.0</td>\n",
       "      <td>0.0</td>\n",
       "      <td>0</td>\n",
       "      <td>0</td>\n",
       "      <td>0</td>\n",
       "      <td>195.0</td>\n",
       "      <td>106.0</td>\n",
       "      <td>70.0</td>\n",
       "      <td>26.97</td>\n",
       "      <td>80.0</td>\n",
       "      <td>77.0</td>\n",
       "      <td>0</td>\n",
       "    </tr>\n",
       "    <tr>\n",
       "      <th>1</th>\n",
       "      <td>0</td>\n",
       "      <td>46</td>\n",
       "      <td>2.0</td>\n",
       "      <td>0</td>\n",
       "      <td>0.0</td>\n",
       "      <td>0.0</td>\n",
       "      <td>0</td>\n",
       "      <td>0</td>\n",
       "      <td>0</td>\n",
       "      <td>250.0</td>\n",
       "      <td>121.0</td>\n",
       "      <td>81.0</td>\n",
       "      <td>28.73</td>\n",
       "      <td>95.0</td>\n",
       "      <td>76.0</td>\n",
       "      <td>0</td>\n",
       "    </tr>\n",
       "    <tr>\n",
       "      <th>2</th>\n",
       "      <td>1</td>\n",
       "      <td>48</td>\n",
       "      <td>1.0</td>\n",
       "      <td>1</td>\n",
       "      <td>20.0</td>\n",
       "      <td>0.0</td>\n",
       "      <td>0</td>\n",
       "      <td>0</td>\n",
       "      <td>0</td>\n",
       "      <td>245.0</td>\n",
       "      <td>127.5</td>\n",
       "      <td>80.0</td>\n",
       "      <td>25.34</td>\n",
       "      <td>75.0</td>\n",
       "      <td>70.0</td>\n",
       "      <td>0</td>\n",
       "    </tr>\n",
       "    <tr>\n",
       "      <th>3</th>\n",
       "      <td>0</td>\n",
       "      <td>61</td>\n",
       "      <td>3.0</td>\n",
       "      <td>1</td>\n",
       "      <td>30.0</td>\n",
       "      <td>0.0</td>\n",
       "      <td>0</td>\n",
       "      <td>1</td>\n",
       "      <td>0</td>\n",
       "      <td>225.0</td>\n",
       "      <td>150.0</td>\n",
       "      <td>95.0</td>\n",
       "      <td>28.58</td>\n",
       "      <td>65.0</td>\n",
       "      <td>103.0</td>\n",
       "      <td>1</td>\n",
       "    </tr>\n",
       "    <tr>\n",
       "      <th>4</th>\n",
       "      <td>0</td>\n",
       "      <td>46</td>\n",
       "      <td>3.0</td>\n",
       "      <td>1</td>\n",
       "      <td>23.0</td>\n",
       "      <td>0.0</td>\n",
       "      <td>0</td>\n",
       "      <td>0</td>\n",
       "      <td>0</td>\n",
       "      <td>285.0</td>\n",
       "      <td>130.0</td>\n",
       "      <td>84.0</td>\n",
       "      <td>23.10</td>\n",
       "      <td>85.0</td>\n",
       "      <td>85.0</td>\n",
       "      <td>0</td>\n",
       "    </tr>\n",
       "    <tr>\n",
       "      <th>...</th>\n",
       "      <td>...</td>\n",
       "      <td>...</td>\n",
       "      <td>...</td>\n",
       "      <td>...</td>\n",
       "      <td>...</td>\n",
       "      <td>...</td>\n",
       "      <td>...</td>\n",
       "      <td>...</td>\n",
       "      <td>...</td>\n",
       "      <td>...</td>\n",
       "      <td>...</td>\n",
       "      <td>...</td>\n",
       "      <td>...</td>\n",
       "      <td>...</td>\n",
       "      <td>...</td>\n",
       "      <td>...</td>\n",
       "    </tr>\n",
       "    <tr>\n",
       "      <th>4233</th>\n",
       "      <td>1</td>\n",
       "      <td>50</td>\n",
       "      <td>1.0</td>\n",
       "      <td>1</td>\n",
       "      <td>1.0</td>\n",
       "      <td>0.0</td>\n",
       "      <td>0</td>\n",
       "      <td>1</td>\n",
       "      <td>0</td>\n",
       "      <td>313.0</td>\n",
       "      <td>179.0</td>\n",
       "      <td>92.0</td>\n",
       "      <td>25.97</td>\n",
       "      <td>66.0</td>\n",
       "      <td>86.0</td>\n",
       "      <td>1</td>\n",
       "    </tr>\n",
       "    <tr>\n",
       "      <th>4234</th>\n",
       "      <td>1</td>\n",
       "      <td>51</td>\n",
       "      <td>3.0</td>\n",
       "      <td>1</td>\n",
       "      <td>43.0</td>\n",
       "      <td>0.0</td>\n",
       "      <td>0</td>\n",
       "      <td>0</td>\n",
       "      <td>0</td>\n",
       "      <td>207.0</td>\n",
       "      <td>126.5</td>\n",
       "      <td>80.0</td>\n",
       "      <td>19.71</td>\n",
       "      <td>65.0</td>\n",
       "      <td>68.0</td>\n",
       "      <td>0</td>\n",
       "    </tr>\n",
       "    <tr>\n",
       "      <th>4235</th>\n",
       "      <td>0</td>\n",
       "      <td>48</td>\n",
       "      <td>2.0</td>\n",
       "      <td>1</td>\n",
       "      <td>20.0</td>\n",
       "      <td>NaN</td>\n",
       "      <td>0</td>\n",
       "      <td>0</td>\n",
       "      <td>0</td>\n",
       "      <td>248.0</td>\n",
       "      <td>131.0</td>\n",
       "      <td>72.0</td>\n",
       "      <td>22.00</td>\n",
       "      <td>84.0</td>\n",
       "      <td>86.0</td>\n",
       "      <td>0</td>\n",
       "    </tr>\n",
       "    <tr>\n",
       "      <th>4236</th>\n",
       "      <td>0</td>\n",
       "      <td>44</td>\n",
       "      <td>1.0</td>\n",
       "      <td>1</td>\n",
       "      <td>15.0</td>\n",
       "      <td>0.0</td>\n",
       "      <td>0</td>\n",
       "      <td>0</td>\n",
       "      <td>0</td>\n",
       "      <td>210.0</td>\n",
       "      <td>126.5</td>\n",
       "      <td>87.0</td>\n",
       "      <td>19.16</td>\n",
       "      <td>86.0</td>\n",
       "      <td>NaN</td>\n",
       "      <td>0</td>\n",
       "    </tr>\n",
       "    <tr>\n",
       "      <th>4237</th>\n",
       "      <td>0</td>\n",
       "      <td>52</td>\n",
       "      <td>2.0</td>\n",
       "      <td>0</td>\n",
       "      <td>0.0</td>\n",
       "      <td>0.0</td>\n",
       "      <td>0</td>\n",
       "      <td>0</td>\n",
       "      <td>0</td>\n",
       "      <td>269.0</td>\n",
       "      <td>133.5</td>\n",
       "      <td>83.0</td>\n",
       "      <td>21.47</td>\n",
       "      <td>80.0</td>\n",
       "      <td>107.0</td>\n",
       "      <td>0</td>\n",
       "    </tr>\n",
       "  </tbody>\n",
       "</table>\n",
       "<p>4238 rows × 16 columns</p>\n",
       "</div>"
      ],
      "text/plain": [
       "      male  age  education  currentSmoker  cigsPerDay  BPMeds  \\\n",
       "0        1   39        4.0              0         0.0     0.0   \n",
       "1        0   46        2.0              0         0.0     0.0   \n",
       "2        1   48        1.0              1        20.0     0.0   \n",
       "3        0   61        3.0              1        30.0     0.0   \n",
       "4        0   46        3.0              1        23.0     0.0   \n",
       "...    ...  ...        ...            ...         ...     ...   \n",
       "4233     1   50        1.0              1         1.0     0.0   \n",
       "4234     1   51        3.0              1        43.0     0.0   \n",
       "4235     0   48        2.0              1        20.0     NaN   \n",
       "4236     0   44        1.0              1        15.0     0.0   \n",
       "4237     0   52        2.0              0         0.0     0.0   \n",
       "\n",
       "      prevalentStroke  prevalentHyp  diabetes  totChol  sysBP  diaBP    BMI  \\\n",
       "0                   0             0         0    195.0  106.0   70.0  26.97   \n",
       "1                   0             0         0    250.0  121.0   81.0  28.73   \n",
       "2                   0             0         0    245.0  127.5   80.0  25.34   \n",
       "3                   0             1         0    225.0  150.0   95.0  28.58   \n",
       "4                   0             0         0    285.0  130.0   84.0  23.10   \n",
       "...               ...           ...       ...      ...    ...    ...    ...   \n",
       "4233                0             1         0    313.0  179.0   92.0  25.97   \n",
       "4234                0             0         0    207.0  126.5   80.0  19.71   \n",
       "4235                0             0         0    248.0  131.0   72.0  22.00   \n",
       "4236                0             0         0    210.0  126.5   87.0  19.16   \n",
       "4237                0             0         0    269.0  133.5   83.0  21.47   \n",
       "\n",
       "      heartRate  glucose  TenYearCHD  \n",
       "0          80.0     77.0           0  \n",
       "1          95.0     76.0           0  \n",
       "2          75.0     70.0           0  \n",
       "3          65.0    103.0           1  \n",
       "4          85.0     85.0           0  \n",
       "...         ...      ...         ...  \n",
       "4233       66.0     86.0           1  \n",
       "4234       65.0     68.0           0  \n",
       "4235       84.0     86.0           0  \n",
       "4236       86.0      NaN           0  \n",
       "4237       80.0    107.0           0  \n",
       "\n",
       "[4238 rows x 16 columns]"
      ]
     },
     "execution_count": 2,
     "metadata": {},
     "output_type": "execute_result"
    }
   ],
   "source": [
    "df=pd.read_csv('/kaggle/input/heart-disease-prediction-using-logistic-regression/framingham.csv')\n",
    "df"
   ]
  },
  {
   "attachments": {},
   "cell_type": "markdown",
   "id": "28b0c689",
   "metadata": {
    "papermill": {
     "duration": 0.019544,
     "end_time": "2023-04-12T19:51:51.645313",
     "exception": false,
     "start_time": "2023-04-12T19:51:51.625769",
     "status": "completed"
    },
    "tags": []
   },
   "source": [
    "# Data Preprocessing and Visualization"
   ]
  },
  {
   "cell_type": "code",
   "execution_count": 3,
   "id": "85594708",
   "metadata": {
    "execution": {
     "iopub.execute_input": "2023-04-12T19:51:51.687114Z",
     "iopub.status.busy": "2023-04-12T19:51:51.686677Z",
     "iopub.status.idle": "2023-04-12T19:51:51.695052Z",
     "shell.execute_reply": "2023-04-12T19:51:51.693598Z"
    },
    "papermill": {
     "duration": 0.032299,
     "end_time": "2023-04-12T19:51:51.697577",
     "exception": false,
     "start_time": "2023-04-12T19:51:51.665278",
     "status": "completed"
    },
    "tags": []
   },
   "outputs": [
    {
     "data": {
      "text/plain": [
       "(4238, 16)"
      ]
     },
     "execution_count": 3,
     "metadata": {},
     "output_type": "execute_result"
    }
   ],
   "source": [
    "data=df.copy()\n",
    "data.shape"
   ]
  },
  {
   "attachments": {},
   "cell_type": "markdown",
   "id": "ec286ae1",
   "metadata": {
    "papermill": {
     "duration": 0.019665,
     "end_time": "2023-04-12T19:51:51.738339",
     "exception": false,
     "start_time": "2023-04-12T19:51:51.718674",
     "status": "completed"
    },
    "tags": []
   },
   "source": [
    "### Null Value and cardinality check:"
   ]
  },
  {
   "cell_type": "code",
   "execution_count": 4,
   "id": "13d10213",
   "metadata": {
    "execution": {
     "iopub.execute_input": "2023-04-12T19:51:51.780840Z",
     "iopub.status.busy": "2023-04-12T19:51:51.780386Z",
     "iopub.status.idle": "2023-04-12T19:51:51.819808Z",
     "shell.execute_reply": "2023-04-12T19:51:51.818515Z"
    },
    "papermill": {
     "duration": 0.063817,
     "end_time": "2023-04-12T19:51:51.822287",
     "exception": false,
     "start_time": "2023-04-12T19:51:51.758470",
     "status": "completed"
    },
    "tags": []
   },
   "outputs": [
    {
     "data": {
      "text/html": [
       "<div>\n",
       "<style scoped>\n",
       "    .dataframe tbody tr th:only-of-type {\n",
       "        vertical-align: middle;\n",
       "    }\n",
       "\n",
       "    .dataframe tbody tr th {\n",
       "        vertical-align: top;\n",
       "    }\n",
       "\n",
       "    .dataframe thead th {\n",
       "        text-align: right;\n",
       "    }\n",
       "</style>\n",
       "<table border=\"1\" class=\"dataframe\">\n",
       "  <thead>\n",
       "    <tr style=\"text-align: right;\">\n",
       "      <th></th>\n",
       "      <th>male</th>\n",
       "      <th>age</th>\n",
       "      <th>education</th>\n",
       "      <th>currentSmoker</th>\n",
       "      <th>cigsPerDay</th>\n",
       "      <th>BPMeds</th>\n",
       "      <th>prevalentStroke</th>\n",
       "      <th>prevalentHyp</th>\n",
       "      <th>diabetes</th>\n",
       "      <th>totChol</th>\n",
       "      <th>sysBP</th>\n",
       "      <th>diaBP</th>\n",
       "      <th>BMI</th>\n",
       "      <th>heartRate</th>\n",
       "      <th>glucose</th>\n",
       "      <th>TenYearCHD</th>\n",
       "    </tr>\n",
       "  </thead>\n",
       "  <tbody>\n",
       "    <tr>\n",
       "      <th>Null counts</th>\n",
       "      <td>0.0</td>\n",
       "      <td>0.0</td>\n",
       "      <td>105.000000</td>\n",
       "      <td>0.0</td>\n",
       "      <td>29.000000</td>\n",
       "      <td>53.00000</td>\n",
       "      <td>0.0</td>\n",
       "      <td>0.0</td>\n",
       "      <td>0.0</td>\n",
       "      <td>50.000000</td>\n",
       "      <td>0.0</td>\n",
       "      <td>0.0</td>\n",
       "      <td>19.000000</td>\n",
       "      <td>1.000000</td>\n",
       "      <td>388.000000</td>\n",
       "      <td>0.0</td>\n",
       "    </tr>\n",
       "    <tr>\n",
       "      <th>Null %</th>\n",
       "      <td>0.0</td>\n",
       "      <td>0.0</td>\n",
       "      <td>2.477584</td>\n",
       "      <td>0.0</td>\n",
       "      <td>0.684285</td>\n",
       "      <td>1.25059</td>\n",
       "      <td>0.0</td>\n",
       "      <td>0.0</td>\n",
       "      <td>0.0</td>\n",
       "      <td>1.179802</td>\n",
       "      <td>0.0</td>\n",
       "      <td>0.0</td>\n",
       "      <td>0.448325</td>\n",
       "      <td>0.023596</td>\n",
       "      <td>9.155262</td>\n",
       "      <td>0.0</td>\n",
       "    </tr>\n",
       "    <tr>\n",
       "      <th>Cardinality</th>\n",
       "      <td>2.0</td>\n",
       "      <td>39.0</td>\n",
       "      <td>4.000000</td>\n",
       "      <td>2.0</td>\n",
       "      <td>33.000000</td>\n",
       "      <td>2.00000</td>\n",
       "      <td>2.0</td>\n",
       "      <td>2.0</td>\n",
       "      <td>2.0</td>\n",
       "      <td>248.000000</td>\n",
       "      <td>234.0</td>\n",
       "      <td>146.0</td>\n",
       "      <td>1363.000000</td>\n",
       "      <td>73.000000</td>\n",
       "      <td>143.000000</td>\n",
       "      <td>2.0</td>\n",
       "    </tr>\n",
       "  </tbody>\n",
       "</table>\n",
       "</div>"
      ],
      "text/plain": [
       "             male   age   education  currentSmoker  cigsPerDay    BPMeds  \\\n",
       "Null counts   0.0   0.0  105.000000            0.0   29.000000  53.00000   \n",
       "Null %        0.0   0.0    2.477584            0.0    0.684285   1.25059   \n",
       "Cardinality   2.0  39.0    4.000000            2.0   33.000000   2.00000   \n",
       "\n",
       "             prevalentStroke  prevalentHyp  diabetes     totChol  sysBP  \\\n",
       "Null counts              0.0           0.0       0.0   50.000000    0.0   \n",
       "Null %                   0.0           0.0       0.0    1.179802    0.0   \n",
       "Cardinality              2.0           2.0       2.0  248.000000  234.0   \n",
       "\n",
       "             diaBP          BMI  heartRate     glucose  TenYearCHD  \n",
       "Null counts    0.0    19.000000   1.000000  388.000000         0.0  \n",
       "Null %         0.0     0.448325   0.023596    9.155262         0.0  \n",
       "Cardinality  146.0  1363.000000  73.000000  143.000000         2.0  "
      ]
     },
     "execution_count": 4,
     "metadata": {},
     "output_type": "execute_result"
    }
   ],
   "source": [
    "null_perc=data.isnull().sum()/len(data)*100\n",
    "null=data.isnull().sum()\n",
    "overview=pd.concat((null,null_perc,data.nunique()),axis=1, keys=['Null counts','Null %','Cardinality'])\n",
    "overview.T"
   ]
  },
  {
   "attachments": {},
   "cell_type": "markdown",
   "id": "32e72ae0",
   "metadata": {
    "papermill": {
     "duration": 0.020477,
     "end_time": "2023-04-12T19:51:51.864159",
     "exception": false,
     "start_time": "2023-04-12T19:51:51.843682",
     "status": "completed"
    },
    "tags": []
   },
   "source": [
    "*Inference:*\n",
    "* We observe that the % null values for all columns are very less compared to size of data, (<10%)"
   ]
  },
  {
   "attachments": {},
   "cell_type": "markdown",
   "id": "dbccee07",
   "metadata": {
    "papermill": {
     "duration": 0.019743,
     "end_time": "2023-04-12T19:51:51.904080",
     "exception": false,
     "start_time": "2023-04-12T19:51:51.884337",
     "status": "completed"
    },
    "tags": []
   },
   "source": [
    "* For **categorical** data, we will update null values to the **most dominant** category value.\n",
    "* For **non-categorical** data, we will apply **Linear Interpolation** to that column.\n",
    "> **For Categorical Data**, we **can not use interpolation** **because** Interpolation requires a mathematical relationship between data points that can be used to estimate missing values, but **categorical data does not have a natural mathematical relationship.**"
   ]
  },
  {
   "cell_type": "code",
   "execution_count": 5,
   "id": "e0980fc7",
   "metadata": {
    "execution": {
     "iopub.execute_input": "2023-04-12T19:51:51.946901Z",
     "iopub.status.busy": "2023-04-12T19:51:51.945999Z",
     "iopub.status.idle": "2023-04-12T19:51:51.966566Z",
     "shell.execute_reply": "2023-04-12T19:51:51.965077Z"
    },
    "papermill": {
     "duration": 0.045232,
     "end_time": "2023-04-12T19:51:51.969426",
     "exception": false,
     "start_time": "2023-04-12T19:51:51.924194",
     "status": "completed"
    },
    "tags": []
   },
   "outputs": [],
   "source": [
    "# generating list of categorical factors:\n",
    "temp=data.drop(columns=['TenYearCHD']).nunique()\n",
    "cat=temp.loc[temp.values <5].index.to_list()\n",
    "\n",
    "# updating null values to the most dominant category:\n",
    "for factor in cat:\n",
    "    data[factor].fillna(data[factor].value_counts().idxmax(),inplace=True)"
   ]
  },
  {
   "cell_type": "code",
   "execution_count": 6,
   "id": "4cabf970",
   "metadata": {
    "execution": {
     "iopub.execute_input": "2023-04-12T19:51:52.012833Z",
     "iopub.status.busy": "2023-04-12T19:51:52.011995Z",
     "iopub.status.idle": "2023-04-12T19:51:52.027448Z",
     "shell.execute_reply": "2023-04-12T19:51:52.026338Z"
    },
    "papermill": {
     "duration": 0.040283,
     "end_time": "2023-04-12T19:51:52.030166",
     "exception": false,
     "start_time": "2023-04-12T19:51:51.989883",
     "status": "completed"
    },
    "tags": []
   },
   "outputs": [],
   "source": [
    "# generating list of non-categorical factors:\n",
    "temp=data.drop(columns=['TenYearCHD']).nunique()\n",
    "non_cat=temp.loc[temp.values > 5].index.to_list()\n",
    "\n",
    "# Implementing interpolation (with linear method), on known data for null values:\n",
    "for factor in non_cat:\n",
    "    data[factor]=data[factor].interpolate(method='linear')"
   ]
  },
  {
   "cell_type": "code",
   "execution_count": 7,
   "id": "64364811",
   "metadata": {
    "execution": {
     "iopub.execute_input": "2023-04-12T19:51:52.072893Z",
     "iopub.status.busy": "2023-04-12T19:51:52.072385Z",
     "iopub.status.idle": "2023-04-12T19:51:52.105016Z",
     "shell.execute_reply": "2023-04-12T19:51:52.103731Z"
    },
    "papermill": {
     "duration": 0.057184,
     "end_time": "2023-04-12T19:51:52.107736",
     "exception": false,
     "start_time": "2023-04-12T19:51:52.050552",
     "status": "completed"
    },
    "tags": []
   },
   "outputs": [
    {
     "data": {
      "text/html": [
       "<div>\n",
       "<style scoped>\n",
       "    .dataframe tbody tr th:only-of-type {\n",
       "        vertical-align: middle;\n",
       "    }\n",
       "\n",
       "    .dataframe tbody tr th {\n",
       "        vertical-align: top;\n",
       "    }\n",
       "\n",
       "    .dataframe thead th {\n",
       "        text-align: right;\n",
       "    }\n",
       "</style>\n",
       "<table border=\"1\" class=\"dataframe\">\n",
       "  <thead>\n",
       "    <tr style=\"text-align: right;\">\n",
       "      <th></th>\n",
       "      <th>male</th>\n",
       "      <th>age</th>\n",
       "      <th>education</th>\n",
       "      <th>currentSmoker</th>\n",
       "      <th>cigsPerDay</th>\n",
       "      <th>BPMeds</th>\n",
       "      <th>prevalentStroke</th>\n",
       "      <th>prevalentHyp</th>\n",
       "      <th>diabetes</th>\n",
       "      <th>totChol</th>\n",
       "      <th>sysBP</th>\n",
       "      <th>diaBP</th>\n",
       "      <th>BMI</th>\n",
       "      <th>heartRate</th>\n",
       "      <th>glucose</th>\n",
       "      <th>TenYearCHD</th>\n",
       "    </tr>\n",
       "  </thead>\n",
       "  <tbody>\n",
       "    <tr>\n",
       "      <th>Null counts</th>\n",
       "      <td>0.0</td>\n",
       "      <td>0.0</td>\n",
       "      <td>0.0</td>\n",
       "      <td>0.0</td>\n",
       "      <td>0.0</td>\n",
       "      <td>0.0</td>\n",
       "      <td>0.0</td>\n",
       "      <td>0.0</td>\n",
       "      <td>0.0</td>\n",
       "      <td>0.0</td>\n",
       "      <td>0.0</td>\n",
       "      <td>0.0</td>\n",
       "      <td>0.0</td>\n",
       "      <td>0.0</td>\n",
       "      <td>0.0</td>\n",
       "      <td>0.0</td>\n",
       "    </tr>\n",
       "    <tr>\n",
       "      <th>Null %</th>\n",
       "      <td>0.0</td>\n",
       "      <td>0.0</td>\n",
       "      <td>0.0</td>\n",
       "      <td>0.0</td>\n",
       "      <td>0.0</td>\n",
       "      <td>0.0</td>\n",
       "      <td>0.0</td>\n",
       "      <td>0.0</td>\n",
       "      <td>0.0</td>\n",
       "      <td>0.0</td>\n",
       "      <td>0.0</td>\n",
       "      <td>0.0</td>\n",
       "      <td>0.0</td>\n",
       "      <td>0.0</td>\n",
       "      <td>0.0</td>\n",
       "      <td>0.0</td>\n",
       "    </tr>\n",
       "    <tr>\n",
       "      <th>Cardinality</th>\n",
       "      <td>2.0</td>\n",
       "      <td>39.0</td>\n",
       "      <td>4.0</td>\n",
       "      <td>2.0</td>\n",
       "      <td>41.0</td>\n",
       "      <td>2.0</td>\n",
       "      <td>2.0</td>\n",
       "      <td>2.0</td>\n",
       "      <td>2.0</td>\n",
       "      <td>274.0</td>\n",
       "      <td>234.0</td>\n",
       "      <td>146.0</td>\n",
       "      <td>1375.0</td>\n",
       "      <td>73.0</td>\n",
       "      <td>231.0</td>\n",
       "      <td>2.0</td>\n",
       "    </tr>\n",
       "  </tbody>\n",
       "</table>\n",
       "</div>"
      ],
      "text/plain": [
       "             male   age  education  currentSmoker  cigsPerDay  BPMeds  \\\n",
       "Null counts   0.0   0.0        0.0            0.0         0.0     0.0   \n",
       "Null %        0.0   0.0        0.0            0.0         0.0     0.0   \n",
       "Cardinality   2.0  39.0        4.0            2.0        41.0     2.0   \n",
       "\n",
       "             prevalentStroke  prevalentHyp  diabetes  totChol  sysBP  diaBP  \\\n",
       "Null counts              0.0           0.0       0.0      0.0    0.0    0.0   \n",
       "Null %                   0.0           0.0       0.0      0.0    0.0    0.0   \n",
       "Cardinality              2.0           2.0       2.0    274.0  234.0  146.0   \n",
       "\n",
       "                BMI  heartRate  glucose  TenYearCHD  \n",
       "Null counts     0.0        0.0      0.0         0.0  \n",
       "Null %          0.0        0.0      0.0         0.0  \n",
       "Cardinality  1375.0       73.0    231.0         2.0  "
      ]
     },
     "execution_count": 7,
     "metadata": {},
     "output_type": "execute_result"
    }
   ],
   "source": [
    "null_perc=data.isnull().sum()/len(data)*100\n",
    "null=data.isnull().sum()\n",
    "overview=pd.concat((null,null_perc,data.nunique()),axis=1, keys=['Null counts','Null %','Cardinality'])\n",
    "overview.T"
   ]
  },
  {
   "attachments": {},
   "cell_type": "markdown",
   "id": "5bb322c5",
   "metadata": {
    "papermill": {
     "duration": 0.020055,
     "end_time": "2023-04-12T19:51:52.148249",
     "exception": false,
     "start_time": "2023-04-12T19:51:52.128194",
     "status": "completed"
    },
    "tags": []
   },
   "source": [
    "* **No Null values left**"
   ]
  },
  {
   "cell_type": "code",
   "execution_count": 8,
   "id": "9bfea335",
   "metadata": {
    "execution": {
     "iopub.execute_input": "2023-04-12T19:51:52.191187Z",
     "iopub.status.busy": "2023-04-12T19:51:52.190330Z",
     "iopub.status.idle": "2023-04-12T19:51:52.196017Z",
     "shell.execute_reply": "2023-04-12T19:51:52.195004Z"
    },
    "papermill": {
     "duration": 0.030064,
     "end_time": "2023-04-12T19:51:52.198601",
     "exception": false,
     "start_time": "2023-04-12T19:51:52.168537",
     "status": "completed"
    },
    "tags": []
   },
   "outputs": [],
   "source": [
    "data_clean=data.copy()"
   ]
  },
  {
   "attachments": {},
   "cell_type": "markdown",
   "id": "02e34d29",
   "metadata": {
    "papermill": {
     "duration": 0.020081,
     "end_time": "2023-04-12T19:51:52.239014",
     "exception": false,
     "start_time": "2023-04-12T19:51:52.218933",
     "status": "completed"
    },
    "tags": []
   },
   "source": [
    "### Analysis of Density Distribution of Factors:"
   ]
  },
  {
   "cell_type": "code",
   "execution_count": 9,
   "id": "10472bf8",
   "metadata": {
    "execution": {
     "iopub.execute_input": "2023-04-12T19:51:52.281937Z",
     "iopub.status.busy": "2023-04-12T19:51:52.281086Z",
     "iopub.status.idle": "2023-04-12T19:51:55.424144Z",
     "shell.execute_reply": "2023-04-12T19:51:55.423118Z"
    },
    "papermill": {
     "duration": 3.169888,
     "end_time": "2023-04-12T19:51:55.429044",
     "exception": false,
     "start_time": "2023-04-12T19:51:52.259156",
     "status": "completed"
    },
    "tags": []
   },
   "outputs": [
    {
     "data": {
      "image/png": "[encoded data removed]",
      "text/plain": [
       "<Figure size 2200x1800 with 15 Axes>"
      ]
     },
     "metadata": {},
     "output_type": "display_data"
    }
   ],
   "source": [
    "fac=cat+non_cat\n",
    "plt.figure(figsize=(22,18))\n",
    "i=1\n",
    "for factor in fac:\n",
    "    plt.subplot(4,4,i)\n",
    "    sns.distplot(data[factor].loc[data['TenYearCHD']==0], hist=False,color='green')\n",
    "    sns.distplot(data[factor].loc[data['TenYearCHD']==1], hist=False,color='red')\n",
    "    i+=1"
   ]
  },
  {
   "attachments": {},
   "cell_type": "markdown",
   "id": "3c90e714",
   "metadata": {
    "papermill": {
     "duration": 0.02784,
     "end_time": "2023-04-12T19:51:55.485546",
     "exception": false,
     "start_time": "2023-04-12T19:51:55.457706",
     "status": "completed"
    },
    "tags": []
   },
   "source": [
    "* *Inference:*\n",
    "    * **diabetes**, **BPMeds** and **prevalentStroke** are categorical factors (with 2 classes), and they are **highly imbalanced.** Such that one type of class is looking like **outlier.** (**minority class's** data points **are too small compared to the majority class.**)\n",
    "        * For **imbalanced features**, instead of dropping, we will apply **SMOTE(Synthetic-Minority-OverSampling-Technique)**\n",
    "> SMOTE: A popular **minority oversampling method** used to address the class imbalance problem in classification models.\n",
    "    * **BMI**, **heartRate** and **totChol** are non-categorical factors, and they are **highly balanced**.\n",
    "    * **Male audience** had **more** chances of being **affected** by CHD.\n",
    "    * Higher values of **sysBP and diaBP** had more cases of CHD.\n",
    "    * People of **age >50** are more **prone** to CHD."
   ]
  },
  {
   "attachments": {},
   "cell_type": "markdown",
   "id": "f0ec5aea",
   "metadata": {
    "papermill": {
     "duration": 0.026201,
     "end_time": "2023-04-12T19:51:55.538608",
     "exception": false,
     "start_time": "2023-04-12T19:51:55.512407",
     "status": "completed"
    },
    "tags": []
   },
   "source": [
    "### Correlation Analysis:"
   ]
  },
  {
   "cell_type": "code",
   "execution_count": 10,
   "id": "eee40c22",
   "metadata": {
    "execution": {
     "iopub.execute_input": "2023-04-12T19:51:55.597559Z",
     "iopub.status.busy": "2023-04-12T19:51:55.596733Z",
     "iopub.status.idle": "2023-04-12T19:51:55.614997Z",
     "shell.execute_reply": "2023-04-12T19:51:55.613856Z"
    },
    "papermill": {
     "duration": 0.051288,
     "end_time": "2023-04-12T19:51:55.617591",
     "exception": false,
     "start_time": "2023-04-12T19:51:55.566303",
     "status": "completed"
    },
    "tags": []
   },
   "outputs": [
    {
     "data": {
      "text/plain": [
       "male                 8.842757\n",
       "age                 22.525610\n",
       "education           -5.281226\n",
       "currentSmoker        1.945627\n",
       "cigsPerDay           5.787081\n",
       "BPMeds               8.641714\n",
       "prevalentStroke      6.180995\n",
       "prevalentHyp        17.760273\n",
       "diabetes             9.731651\n",
       "totChol              8.256616\n",
       "sysBP               21.642904\n",
       "diaBP               14.529910\n",
       "BMI                  7.366877\n",
       "heartRate            2.290313\n",
       "glucose             11.804604\n",
       "TenYearCHD         100.000000\n",
       "dtype: float64"
      ]
     },
     "execution_count": 10,
     "metadata": {},
     "output_type": "execute_result"
    }
   ],
   "source": [
    "# Checking correlation % with target column:\n",
    "data.corrwith(data['TenYearCHD'])*100"
   ]
  },
  {
   "cell_type": "code",
   "execution_count": 11,
   "id": "fc65e02e",
   "metadata": {
    "execution": {
     "iopub.execute_input": "2023-04-12T19:51:55.674030Z",
     "iopub.status.busy": "2023-04-12T19:51:55.673567Z",
     "iopub.status.idle": "2023-04-12T19:51:56.354436Z",
     "shell.execute_reply": "2023-04-12T19:51:56.353449Z"
    },
    "papermill": {
     "duration": 0.713085,
     "end_time": "2023-04-12T19:51:56.358357",
     "exception": false,
     "start_time": "2023-04-12T19:51:55.645272",
     "status": "completed"
    },
    "tags": []
   },
   "outputs": [
    {
     "data": {
      "text/plain": [
       "<AxesSubplot:>"
      ]
     },
     "execution_count": 11,
     "metadata": {},
     "output_type": "execute_result"
    },
    {
     "data": {
      "image/png": "[encoded data removed]",
      "text/plain": [
       "<Figure size 800x600 with 2 Axes>"
      ]
     },
     "metadata": {},
     "output_type": "display_data"
    }
   ],
   "source": [
    "corr=data.drop(columns=['TenYearCHD']).corr()\n",
    "plt.subplots(figsize=(8,6))\n",
    "sns.heatmap(corr, cmap='BuGn')"
   ]
  },
  {
   "attachments": {},
   "cell_type": "markdown",
   "id": "eab34fe3",
   "metadata": {
    "papermill": {
     "duration": 0.029712,
     "end_time": "2023-04-12T19:51:56.420605",
     "exception": false,
     "start_time": "2023-04-12T19:51:56.390893",
     "status": "completed"
    },
    "tags": []
   },
   "source": [
    "* *Inferences:*\n",
    "    * **sysBP**, **diaBP** and **prevalentHyp** have high correlation.\n",
    "    * **cigsPerDay** and **currentSmoker** have high correlation.\n",
    "    * **glucose** and **diabetes** have high correlation."
   ]
  },
  {
   "cell_type": "code",
   "execution_count": 12,
   "id": "a03b5da6",
   "metadata": {
    "execution": {
     "iopub.execute_input": "2023-04-12T19:51:56.479941Z",
     "iopub.status.busy": "2023-04-12T19:51:56.479394Z",
     "iopub.status.idle": "2023-04-12T19:51:56.490154Z",
     "shell.execute_reply": "2023-04-12T19:51:56.489149Z"
    },
    "papermill": {
     "duration": 0.043238,
     "end_time": "2023-04-12T19:51:56.492721",
     "exception": false,
     "start_time": "2023-04-12T19:51:56.449483",
     "status": "completed"
    },
    "tags": []
   },
   "outputs": [
    {
     "data": {
      "text/plain": [
       "(4238, 12)"
      ]
     },
     "execution_count": 12,
     "metadata": {},
     "output_type": "execute_result"
    }
   ],
   "source": [
    "# dropping factors according to inferences:\n",
    "data.drop(columns=['diaBP','prevalentHyp','currentSmoker','diabetes'], inplace=True)\n",
    "data.shape"
   ]
  },
  {
   "cell_type": "code",
   "execution_count": 13,
   "id": "297ea74b",
   "metadata": {
    "execution": {
     "iopub.execute_input": "2023-04-12T19:51:56.553284Z",
     "iopub.status.busy": "2023-04-12T19:51:56.552346Z",
     "iopub.status.idle": "2023-04-12T19:51:56.992272Z",
     "shell.execute_reply": "2023-04-12T19:51:56.990808Z"
    },
    "papermill": {
     "duration": 0.473061,
     "end_time": "2023-04-12T19:51:56.995363",
     "exception": false,
     "start_time": "2023-04-12T19:51:56.522302",
     "status": "completed"
    },
    "tags": []
   },
   "outputs": [
    {
     "data": {
      "text/plain": [
       "<AxesSubplot:>"
      ]
     },
     "execution_count": 13,
     "metadata": {},
     "output_type": "execute_result"
    },
    {
     "data": {
      "image/png": "[encoded data removed]",
      "text/plain": [
       "<Figure size 800x600 with 2 Axes>"
      ]
     },
     "metadata": {},
     "output_type": "display_data"
    }
   ],
   "source": [
    "corr=data.drop(columns=['TenYearCHD']).corr()\n",
    "plt.subplots(figsize=(8,6))\n",
    "sns.heatmap(corr, cmap='BuGn')"
   ]
  },
  {
   "attachments": {},
   "cell_type": "markdown",
   "id": "1ea381cf",
   "metadata": {
    "papermill": {
     "duration": 0.028546,
     "end_time": "2023-04-12T19:51:57.053506",
     "exception": false,
     "start_time": "2023-04-12T19:51:57.024960",
     "status": "completed"
    },
    "tags": []
   },
   "source": [
    "*Inferences:* **No high correlations left**"
   ]
  },
  {
   "attachments": {},
   "cell_type": "markdown",
   "id": "152b90a0",
   "metadata": {
    "papermill": {
     "duration": 0.029419,
     "end_time": "2023-04-12T19:51:57.111876",
     "exception": false,
     "start_time": "2023-04-12T19:51:57.082457",
     "status": "completed"
    },
    "tags": []
   },
   "source": [
    "# Model Building"
   ]
  },
  {
   "attachments": {},
   "cell_type": "markdown",
   "id": "5f8d45d2",
   "metadata": {
    "papermill": {
     "duration": 0.029135,
     "end_time": "2023-04-12T19:51:57.171115",
     "exception": false,
     "start_time": "2023-04-12T19:51:57.141980",
     "status": "completed"
    },
    "tags": []
   },
   "source": [
    "### X-Y split:"
   ]
  },
  {
   "cell_type": "code",
   "execution_count": 14,
   "id": "5f3e3843",
   "metadata": {
    "execution": {
     "iopub.execute_input": "2023-04-12T19:51:57.234787Z",
     "iopub.status.busy": "2023-04-12T19:51:57.233901Z",
     "iopub.status.idle": "2023-04-12T19:51:57.243356Z",
     "shell.execute_reply": "2023-04-12T19:51:57.241872Z"
    },
    "papermill": {
     "duration": 0.044453,
     "end_time": "2023-04-12T19:51:57.246002",
     "exception": false,
     "start_time": "2023-04-12T19:51:57.201549",
     "status": "completed"
    },
    "tags": []
   },
   "outputs": [
    {
     "data": {
      "text/plain": [
       "((4238, 12), (4238, 11), (4238,))"
      ]
     },
     "execution_count": 14,
     "metadata": {},
     "output_type": "execute_result"
    }
   ],
   "source": [
    "X=data.drop(columns=['TenYearCHD'])\n",
    "Y=data.TenYearCHD\n",
    "# to ensure proper split:\n",
    "data.shape,X.shape,Y.shape"
   ]
  },
  {
   "attachments": {},
   "cell_type": "markdown",
   "id": "ab76b22c",
   "metadata": {
    "papermill": {
     "duration": 0.029529,
     "end_time": "2023-04-12T19:51:57.304886",
     "exception": false,
     "start_time": "2023-04-12T19:51:57.275357",
     "status": "completed"
    },
    "tags": []
   },
   "source": [
    "### Train-Test Split:"
   ]
  },
  {
   "cell_type": "code",
   "execution_count": 15,
   "id": "066838ba",
   "metadata": {
    "execution": {
     "iopub.execute_input": "2023-04-12T19:51:57.367816Z",
     "iopub.status.busy": "2023-04-12T19:51:57.366342Z",
     "iopub.status.idle": "2023-04-12T19:51:57.653952Z",
     "shell.execute_reply": "2023-04-12T19:51:57.652592Z"
    },
    "papermill": {
     "duration": 0.321787,
     "end_time": "2023-04-12T19:51:57.656941",
     "exception": false,
     "start_time": "2023-04-12T19:51:57.335154",
     "status": "completed"
    },
    "tags": []
   },
   "outputs": [
    {
     "data": {
      "text/plain": [
       "((3390, 11), (3390,), (848, 11), (848,))"
      ]
     },
     "execution_count": 15,
     "metadata": {},
     "output_type": "execute_result"
    }
   ],
   "source": [
    "from sklearn.model_selection import train_test_split as tts\n",
    "\n",
    "x_train,x_test,y_train,y_test=tts(X,Y,test_size=0.2,random_state=1500)\n",
    "x_train.shape,y_train.shape,x_test.shape,y_test.shape"
   ]
  },
  {
   "attachments": {},
   "cell_type": "markdown",
   "id": "e2313a96",
   "metadata": {
    "papermill": {
     "duration": 0.035366,
     "end_time": "2023-04-12T19:51:57.725173",
     "exception": false,
     "start_time": "2023-04-12T19:51:57.689807",
     "status": "completed"
    },
    "tags": []
   },
   "source": [
    "### Applying SMOTE on training data:\n",
    "* To correct **imbalanced features**"
   ]
  },
  {
   "cell_type": "code",
   "execution_count": 16,
   "id": "d2ecc98e",
   "metadata": {
    "execution": {
     "iopub.execute_input": "2023-04-12T19:51:57.786761Z",
     "iopub.status.busy": "2023-04-12T19:51:57.786314Z",
     "iopub.status.idle": "2023-04-12T19:51:58.462821Z",
     "shell.execute_reply": "2023-04-12T19:51:58.461634Z"
    },
    "papermill": {
     "duration": 0.711767,
     "end_time": "2023-04-12T19:51:58.466229",
     "exception": false,
     "start_time": "2023-04-12T19:51:57.754462",
     "status": "completed"
    },
    "tags": []
   },
   "outputs": [],
   "source": [
    "from imblearn.over_sampling import SMOTE\n",
    "\n",
    "# Applying SMOTE:\n",
    "smote=SMOTE(random_state=500, sampling_strategy=0.25)\n",
    "# sampling stratergy: ratio of (minority values)/(majority values), currently set to: 0.25 (1/4 ratio)\n",
    "x_train_resample,y_train_resample=smote.fit_resample(x_train, y_train)"
   ]
  },
  {
   "attachments": {},
   "cell_type": "markdown",
   "id": "bf36aa67",
   "metadata": {
    "papermill": {
     "duration": 0.02931,
     "end_time": "2023-04-12T19:51:58.524462",
     "exception": false,
     "start_time": "2023-04-12T19:51:58.495152",
     "status": "completed"
    },
    "tags": []
   },
   "source": [
    "### Fitting in logistic regression model:"
   ]
  },
  {
   "attachments": {},
   "cell_type": "markdown",
   "id": "6f2299bb",
   "metadata": {
    "papermill": {
     "duration": 0.030529,
     "end_time": "2023-04-12T19:51:58.584992",
     "exception": false,
     "start_time": "2023-04-12T19:51:58.554463",
     "status": "completed"
    },
    "tags": []
   },
   "source": [
    "We are using **statsmodels**"
   ]
  },
  {
   "cell_type": "code",
   "execution_count": 17,
   "id": "e90bbdb0",
   "metadata": {
    "execution": {
     "iopub.execute_input": "2023-04-12T19:51:58.645960Z",
     "iopub.status.busy": "2023-04-12T19:51:58.645234Z",
     "iopub.status.idle": "2023-04-12T19:52:00.348029Z",
     "shell.execute_reply": "2023-04-12T19:52:00.346068Z"
    },
    "papermill": {
     "duration": 1.738791,
     "end_time": "2023-04-12T19:52:00.353002",
     "exception": false,
     "start_time": "2023-04-12T19:51:58.614211",
     "status": "completed"
    },
    "tags": []
   },
   "outputs": [
    {
     "name": "stdout",
     "output_type": "stream",
     "text": [
      "Optimization terminated successfully.\n",
      "         Current function value: 0.454891\n",
      "         Iterations 6\n"
     ]
    }
   ],
   "source": [
    "import statsmodels.api as sm\n",
    "logReg=sm.Logit(y_train_resample, sm.add_constant(x_train_resample)).fit()"
   ]
  },
  {
   "attachments": {},
   "cell_type": "markdown",
   "id": "e50ca2e5",
   "metadata": {
    "papermill": {
     "duration": 0.050247,
     "end_time": "2023-04-12T19:52:00.482575",
     "exception": false,
     "start_time": "2023-04-12T19:52:00.432328",
     "status": "completed"
    },
    "tags": []
   },
   "source": [
    "### Performance Metrices:"
   ]
  },
  {
   "attachments": {},
   "cell_type": "markdown",
   "id": "3d987066",
   "metadata": {
    "papermill": {
     "duration": 0.030094,
     "end_time": "2023-04-12T19:52:00.543625",
     "exception": false,
     "start_time": "2023-04-12T19:52:00.513531",
     "status": "completed"
    },
    "tags": []
   },
   "source": [
    "* *In case of classification problems, there are certain defined performance metrices:*\n",
    "    * **Confusion Matrix**\n",
    "    * **Precision and Recall**\n",
    "    * **Accuracy**\n",
    "* Because, here, metrices like **mean square error** and **mean absolute error** will not represent performace of the model correctly."
   ]
  },
  {
   "cell_type": "code",
   "execution_count": 18,
   "id": "c094ea2b",
   "metadata": {
    "execution": {
     "iopub.execute_input": "2023-04-12T19:52:00.607013Z",
     "iopub.status.busy": "2023-04-12T19:52:00.605714Z",
     "iopub.status.idle": "2023-04-12T19:52:00.610915Z",
     "shell.execute_reply": "2023-04-12T19:52:00.609852Z"
    },
    "papermill": {
     "duration": 0.039523,
     "end_time": "2023-04-12T19:52:00.613607",
     "exception": false,
     "start_time": "2023-04-12T19:52:00.574084",
     "status": "completed"
    },
    "tags": []
   },
   "outputs": [],
   "source": [
    "model=[]\n",
    "ac=[]"
   ]
  },
  {
   "cell_type": "code",
   "execution_count": 19,
   "id": "e8a632e5",
   "metadata": {
    "execution": {
     "iopub.execute_input": "2023-04-12T19:52:00.675168Z",
     "iopub.status.busy": "2023-04-12T19:52:00.673922Z",
     "iopub.status.idle": "2023-04-12T19:52:00.680092Z",
     "shell.execute_reply": "2023-04-12T19:52:00.679007Z"
    },
    "papermill": {
     "duration": 0.040241,
     "end_time": "2023-04-12T19:52:00.682911",
     "exception": false,
     "start_time": "2023-04-12T19:52:00.642670",
     "status": "completed"
    },
    "tags": []
   },
   "outputs": [],
   "source": [
    "# importing performance metrices:\n",
    "from sklearn.metrics import classification_report as report\n",
    "from sklearn.metrics import accuracy_score as accuracy\n",
    "from sklearn.metrics import recall_score as recall\n",
    "from sklearn.metrics import precision_score as precision\n",
    "from sklearn.metrics import confusion_matrix as conf"
   ]
  },
  {
   "cell_type": "code",
   "execution_count": 20,
   "id": "982f7990",
   "metadata": {
    "execution": {
     "iopub.execute_input": "2023-04-12T19:52:00.743587Z",
     "iopub.status.busy": "2023-04-12T19:52:00.743188Z",
     "iopub.status.idle": "2023-04-12T19:52:00.762898Z",
     "shell.execute_reply": "2023-04-12T19:52:00.761517Z"
    },
    "papermill": {
     "duration": 0.055262,
     "end_time": "2023-04-12T19:52:00.767637",
     "exception": false,
     "start_time": "2023-04-12T19:52:00.712375",
     "status": "completed"
    },
    "tags": []
   },
   "outputs": [
    {
     "data": {
      "text/plain": [
       "4202    0.108623\n",
       "2192    0.144175\n",
       "1996    0.108107\n",
       "3001    0.206453\n",
       "3883    0.372218\n",
       "          ...   \n",
       "3484    0.300504\n",
       "2320    0.141846\n",
       "3649    0.127231\n",
       "3118    0.101590\n",
       "1525    0.142641\n",
       "Length: 848, dtype: float64"
      ]
     },
     "execution_count": 20,
     "metadata": {},
     "output_type": "execute_result"
    }
   ],
   "source": [
    "# Generaing Predictions:\n",
    "# predicted values:\n",
    "y_pred=logReg.predict(sm.add_constant(x_test))\n",
    "y_pred\n",
    "# here, logReg.predict(), gave probabilities instead of binary values\n",
    "# because, in statsmodels, there is no default threshold value fixed for regression.\n",
    "# hence we have to define our own threshold and convert probabilities to binary."
   ]
  },
  {
   "attachments": {},
   "cell_type": "markdown",
   "id": "ad026347",
   "metadata": {
    "papermill": {
     "duration": 0.048418,
     "end_time": "2023-04-12T19:52:00.891767",
     "exception": false,
     "start_time": "2023-04-12T19:52:00.843349",
     "status": "completed"
    },
    "tags": []
   },
   "source": [
    "#### Converting probabilities into binary values:"
   ]
  },
  {
   "cell_type": "code",
   "execution_count": 21,
   "id": "e2622fd2",
   "metadata": {
    "execution": {
     "iopub.execute_input": "2023-04-12T19:52:00.954610Z",
     "iopub.status.busy": "2023-04-12T19:52:00.953426Z",
     "iopub.status.idle": "2023-04-12T19:52:00.959517Z",
     "shell.execute_reply": "2023-04-12T19:52:00.958586Z"
    },
    "papermill": {
     "duration": 0.040274,
     "end_time": "2023-04-12T19:52:00.961943",
     "exception": false,
     "start_time": "2023-04-12T19:52:00.921669",
     "status": "completed"
    },
    "tags": []
   },
   "outputs": [],
   "source": [
    "# Setting Threshold value:\n",
    "# let threshold = t\n",
    "t=0.5\n",
    "# converting probabilities to binary values (as per threshold):\n",
    "y_pred_binary=np.where(y_pred.values >= t, 1, 0)"
   ]
  },
  {
   "attachments": {},
   "cell_type": "markdown",
   "id": "bb5e4faf",
   "metadata": {
    "papermill": {
     "duration": 0.029736,
     "end_time": "2023-04-12T19:52:01.021016",
     "exception": false,
     "start_time": "2023-04-12T19:52:00.991280",
     "status": "completed"
    },
    "tags": []
   },
   "source": [
    "#### Confusion Matrix:"
   ]
  },
  {
   "cell_type": "code",
   "execution_count": 22,
   "id": "9754d441",
   "metadata": {
    "execution": {
     "iopub.execute_input": "2023-04-12T19:52:01.083902Z",
     "iopub.status.busy": "2023-04-12T19:52:01.083048Z",
     "iopub.status.idle": "2023-04-12T19:52:01.246138Z",
     "shell.execute_reply": "2023-04-12T19:52:01.244585Z"
    },
    "papermill": {
     "duration": 0.198134,
     "end_time": "2023-04-12T19:52:01.249104",
     "exception": false,
     "start_time": "2023-04-12T19:52:01.050970",
     "status": "completed"
    },
    "tags": []
   },
   "outputs": [
    {
     "data": {
      "image/png": "[encoded data removed]",
      "text/plain": [
       "<Figure size 350x350 with 1 Axes>"
      ]
     },
     "metadata": {},
     "output_type": "display_data"
    }
   ],
   "source": [
    "cm=conf(y_test,y_pred_binary)\n",
    "cm[0][0],cm[1][1]=cm[1][1],cm[0][0]\n",
    "cm=pd.DataFrame(cm,index=['True_predicted','False_predicted'],columns=['True_Actual','False_Actual'])\n",
    "\n",
    "plt.subplots(figsize=(3.5,3.5))\n",
    "sns.heatmap(cm,cmap='BuGn',annot=True,fmt='.0f',cbar=False)\n",
    "plt.show()"
   ]
  },
  {
   "attachments": {},
   "cell_type": "markdown",
   "id": "b5d3dedd",
   "metadata": {
    "papermill": {
     "duration": 0.030072,
     "end_time": "2023-04-12T19:52:01.310484",
     "exception": false,
     "start_time": "2023-04-12T19:52:01.280412",
     "status": "completed"
    },
    "tags": []
   },
   "source": [
    "#### Accuracy, Recall and Precision:"
   ]
  },
  {
   "cell_type": "code",
   "execution_count": 23,
   "id": "6014a3c1",
   "metadata": {
    "execution": {
     "iopub.execute_input": "2023-04-12T19:52:01.374715Z",
     "iopub.status.busy": "2023-04-12T19:52:01.374290Z",
     "iopub.status.idle": "2023-04-12T19:52:01.385969Z",
     "shell.execute_reply": "2023-04-12T19:52:01.384250Z"
    },
    "papermill": {
     "duration": 0.047135,
     "end_time": "2023-04-12T19:52:01.388929",
     "exception": false,
     "start_time": "2023-04-12T19:52:01.341794",
     "status": "completed"
    },
    "tags": []
   },
   "outputs": [
    {
     "name": "stdout",
     "output_type": "stream",
     "text": [
      "Accuracy: 87.85377358490565 %\n",
      "Recall: 10.81081081081081 %\n",
      "Precision: 75.0 %\n"
     ]
    }
   ],
   "source": [
    "print(\"Accuracy:\",accuracy(y_test,y_pred_binary)*100,\"%\")\n",
    "print(\"Recall:\",recall(y_test,y_pred_binary)*100,\"%\")\n",
    "print(\"Precision:\",precision(y_test,y_pred_binary)*100,\"%\")"
   ]
  },
  {
   "cell_type": "code",
   "execution_count": 24,
   "id": "2b5de750",
   "metadata": {
    "execution": {
     "iopub.execute_input": "2023-04-12T19:52:01.451579Z",
     "iopub.status.busy": "2023-04-12T19:52:01.450682Z",
     "iopub.status.idle": "2023-04-12T19:52:01.457626Z",
     "shell.execute_reply": "2023-04-12T19:52:01.456324Z"
    },
    "papermill": {
     "duration": 0.041544,
     "end_time": "2023-04-12T19:52:01.460160",
     "exception": false,
     "start_time": "2023-04-12T19:52:01.418616",
     "status": "completed"
    },
    "tags": []
   },
   "outputs": [],
   "source": [
    "model.append('LogReg')\n",
    "ac.append(accuracy(y_test,y_pred_binary)*100)"
   ]
  },
  {
   "attachments": {},
   "cell_type": "markdown",
   "id": "7ba8a675",
   "metadata": {
    "papermill": {
     "duration": 0.030303,
     "end_time": "2023-04-12T19:52:01.520205",
     "exception": false,
     "start_time": "2023-04-12T19:52:01.489902",
     "status": "completed"
    },
    "tags": []
   },
   "source": [
    "* *Observations:*\n",
    "    * Our Model is currently **more selective than sensitive** in nature, as **precision > recall**."
   ]
  },
  {
   "attachments": {},
   "cell_type": "markdown",
   "id": "9301ae75",
   "metadata": {
    "papermill": {
     "duration": 0.030463,
     "end_time": "2023-04-12T19:52:01.581261",
     "exception": false,
     "start_time": "2023-04-12T19:52:01.550798",
     "status": "completed"
    },
    "tags": []
   },
   "source": [
    "* In case of any disease detection, **Recall** is a very significant metric.\n",
    "* Because **False Negative** detections can be **fatal** for the life of person.\n",
    "* Hence our aim is to **improve** the **recall metric (or sensitivity)** of our model."
   ]
  },
  {
   "attachments": {},
   "cell_type": "markdown",
   "id": "b9a08d1d",
   "metadata": {
    "papermill": {
     "duration": 0.030568,
     "end_time": "2023-04-12T19:52:01.644013",
     "exception": false,
     "start_time": "2023-04-12T19:52:01.613445",
     "status": "completed"
    },
    "tags": []
   },
   "source": [
    "* In order to make model more sensetive to the **Risk**:\n",
    "    *  **We need to lower the threshold of our model**\n",
    "    * we have used initial threshold as **0.5**\n",
    "    * We have to carefully **lower our threshold** to some value, such that recall becomes significantly higher, without heavily hampering accuracy."
   ]
  },
  {
   "attachments": {},
   "cell_type": "markdown",
   "id": "87a46b14",
   "metadata": {
    "papermill": {
     "duration": 0.031106,
     "end_time": "2023-04-12T19:52:01.707138",
     "exception": false,
     "start_time": "2023-04-12T19:52:01.676032",
     "status": "completed"
    },
    "tags": []
   },
   "source": [
    "# Improving Recall (sensitivity):"
   ]
  },
  {
   "cell_type": "code",
   "execution_count": 25,
   "id": "d2d480f8",
   "metadata": {
    "execution": {
     "iopub.execute_input": "2023-04-12T19:52:01.770266Z",
     "iopub.status.busy": "2023-04-12T19:52:01.769800Z",
     "iopub.status.idle": "2023-04-12T19:52:02.071999Z",
     "shell.execute_reply": "2023-04-12T19:52:02.070638Z"
    },
    "papermill": {
     "duration": 0.336699,
     "end_time": "2023-04-12T19:52:02.074884",
     "exception": false,
     "start_time": "2023-04-12T19:52:01.738185",
     "status": "completed"
    },
    "tags": []
   },
   "outputs": [
    {
     "data": {
      "image/png": "[encoded data removed]",
      "text/plain": [
       "<Figure size 640x480 with 1 Axes>"
      ]
     },
     "metadata": {},
     "output_type": "display_data"
    }
   ],
   "source": [
    "y_pred_binary_curr=y_pred_binary\n",
    "# plotting threshold against, accuracy, recall and precision:\n",
    "threshold=[0.50,0.45,0.40,0.35,0.30,0.25,0.20,0.15,0.10,0.05]\n",
    "rec=[]\n",
    "acc=[]\n",
    "pre=[]\n",
    "\n",
    "for t in threshold:\n",
    "    y_pred_binary_curr=np.where(y_pred >= t, 1, 0)\n",
    "    acc.append(accuracy(y_test,y_pred_binary_curr))\n",
    "    rec.append(recall(y_test,y_pred_binary_curr))\n",
    "    pre.append(precision(y_test,y_pred_binary_curr))\n",
    "    \n",
    "plt.plot(threshold,acc,label='Accuracy')\n",
    "plt.plot(threshold,rec,label='Recall')\n",
    "plt.plot(threshold,pre,label='Precision')\n",
    "plt.xlim(max(threshold), min(threshold))\n",
    "plt.title(\"Accuracy-Recall trade-off\")\n",
    "plt.xlabel(\"Threshold\")\n",
    "plt.ylabel(\"Score\")\n",
    "plt.legend()\n",
    "plt.show()"
   ]
  },
  {
   "attachments": {},
   "cell_type": "markdown",
   "id": "0f54e31f",
   "metadata": {
    "papermill": {
     "duration": 0.030502,
     "end_time": "2023-04-12T19:52:02.137168",
     "exception": false,
     "start_time": "2023-04-12T19:52:02.106666",
     "status": "completed"
    },
    "tags": []
   },
   "source": [
    "* *Inferences:*\n",
    "    * **Accuracy decreases exponentially**, with decrease in threshold.\n",
    "    * **Precision decreases linearly**, with decrease in threshold.\n",
    "    * **Recall increases linearly**, with decrease in threshold.\n",
    "* **Most suitable value of threshold is somewhere around 0.3**"
   ]
  },
  {
   "cell_type": "code",
   "execution_count": 26,
   "id": "d79db8cf",
   "metadata": {
    "execution": {
     "iopub.execute_input": "2023-04-12T19:52:02.200735Z",
     "iopub.status.busy": "2023-04-12T19:52:02.200285Z",
     "iopub.status.idle": "2023-04-12T19:52:02.207072Z",
     "shell.execute_reply": "2023-04-12T19:52:02.205551Z"
    },
    "papermill": {
     "duration": 0.042037,
     "end_time": "2023-04-12T19:52:02.209891",
     "exception": false,
     "start_time": "2023-04-12T19:52:02.167854",
     "status": "completed"
    },
    "tags": []
   },
   "outputs": [],
   "source": [
    "# Updating threshold:\n",
    "t=0.3\n",
    "y_pred_binary_curr=np.where(y_pred.values >= t, 1, 0)"
   ]
  },
  {
   "cell_type": "code",
   "execution_count": 27,
   "id": "c6debc99",
   "metadata": {
    "execution": {
     "iopub.execute_input": "2023-04-12T19:52:02.273310Z",
     "iopub.status.busy": "2023-04-12T19:52:02.272874Z",
     "iopub.status.idle": "2023-04-12T19:52:02.374453Z",
     "shell.execute_reply": "2023-04-12T19:52:02.372597Z"
    },
    "papermill": {
     "duration": 0.138613,
     "end_time": "2023-04-12T19:52:02.379255",
     "exception": false,
     "start_time": "2023-04-12T19:52:02.240642",
     "status": "completed"
    },
    "tags": []
   },
   "outputs": [
    {
     "data": {
      "image/png": "[encoded data removed]",
      "text/plain": [
       "<Figure size 350x350 with 1 Axes>"
      ]
     },
     "metadata": {},
     "output_type": "display_data"
    }
   ],
   "source": [
    "cmat=conf(y_test,y_pred_binary_curr)\n",
    "cmat[0][0],cmat[1][1]=cmat[1][1],cmat[0][0]\n",
    "cmat=pd.DataFrame(cmat,index=['True_predicted','False_predicted'],columns=['True_Actual','False_Actual'])\n",
    "plt.subplots(figsize=(3.5,3.5))\n",
    "sns.heatmap(cmat,cmap='BuGn',annot=True,fmt='.0f',cbar=False)\n",
    "plt.show()"
   ]
  },
  {
   "cell_type": "code",
   "execution_count": 28,
   "id": "35afd3e5",
   "metadata": {
    "execution": {
     "iopub.execute_input": "2023-04-12T19:52:02.471715Z",
     "iopub.status.busy": "2023-04-12T19:52:02.471246Z",
     "iopub.status.idle": "2023-04-12T19:52:02.482296Z",
     "shell.execute_reply": "2023-04-12T19:52:02.480847Z"
    },
    "papermill": {
     "duration": 0.04658,
     "end_time": "2023-04-12T19:52:02.485176",
     "exception": false,
     "start_time": "2023-04-12T19:52:02.438596",
     "status": "completed"
    },
    "tags": []
   },
   "outputs": [
    {
     "name": "stdout",
     "output_type": "stream",
     "text": [
      "Accuracy: 80.89622641509435 %\n",
      "Recall: 41.44144144144144 %\n",
      "Precision: 32.16783216783217 %\n"
     ]
    }
   ],
   "source": [
    "print(\"Accuracy:\",accuracy(y_test,y_pred_binary_curr)*100,\"%\")\n",
    "print(\"Recall:\",recall(y_test,y_pred_binary_curr)*100,\"%\")\n",
    "print(\"Precision:\",precision(y_test,y_pred_binary_curr)*100,\"%\")"
   ]
  },
  {
   "attachments": {},
   "cell_type": "markdown",
   "id": "488cbdb3",
   "metadata": {
    "papermill": {
     "duration": 0.031447,
     "end_time": "2023-04-12T19:52:02.548647",
     "exception": false,
     "start_time": "2023-04-12T19:52:02.517200",
     "status": "completed"
    },
    "tags": []
   },
   "source": [
    "* *Conclusions:*\n",
    "    * **Maximum accuracy** obtained by our model was around **88%** at initial threshold **t=0.5**\n",
    "    * But our **recall**(sensitivity) metric was **very low** **7%** at **t=0.5**.\n",
    "    * Hence we had to **trade-off** some **accuracy** in order to make our model **more sensetive.** (i.e. to **increase Recall**)\n",
    "    * We have finally at **t=0.3**, obtained a significant **41% recall** with **80% accuracy**. (A very fair trade-off)\n",
    "    * We can further **decrease threshold** in order to make model **more sensitive than selective.**\n",
    "* **Different models like DTrees, SVM or Neural Nets can be used for better Accuracy and Sensitivity.**"
   ]
  },
  {
   "attachments": {},
   "cell_type": "markdown",
   "id": "6b9f7018",
   "metadata": {
    "papermill": {
     "duration": 0.032313,
     "end_time": "2023-04-12T19:52:02.613052",
     "exception": false,
     "start_time": "2023-04-12T19:52:02.580739",
     "status": "completed"
    },
    "tags": []
   },
   "source": [
    "# Preprocessing using Backward Elimination Method"
   ]
  },
  {
   "attachments": {},
   "cell_type": "markdown",
   "id": "ef84a23b",
   "metadata": {
    "papermill": {
     "duration": 0.031231,
     "end_time": "2023-04-12T19:52:02.675664",
     "exception": false,
     "start_time": "2023-04-12T19:52:02.644433",
     "status": "completed"
    },
    "tags": []
   },
   "source": [
    "* In this method, **we will simply fit already cleaned data into the logistic regression model.**\n",
    "* Then we will calculate the p-values of all features, **drop the feature with highest p-value**.\n",
    "* We will keep **repeating step above 2 steps** till **all the p-values of remaining data becomes <= 0.05**"
   ]
  },
  {
   "cell_type": "code",
   "execution_count": 29,
   "id": "bcc2fd67",
   "metadata": {
    "execution": {
     "iopub.execute_input": "2023-04-12T19:52:02.741785Z",
     "iopub.status.busy": "2023-04-12T19:52:02.740378Z",
     "iopub.status.idle": "2023-04-12T19:52:02.761462Z",
     "shell.execute_reply": "2023-04-12T19:52:02.760066Z"
    },
    "papermill": {
     "duration": 0.057141,
     "end_time": "2023-04-12T19:52:02.764209",
     "exception": false,
     "start_time": "2023-04-12T19:52:02.707068",
     "status": "completed"
    },
    "tags": []
   },
   "outputs": [
    {
     "data": {
      "text/html": [
       "<div>\n",
       "<style scoped>\n",
       "    .dataframe tbody tr th:only-of-type {\n",
       "        vertical-align: middle;\n",
       "    }\n",
       "\n",
       "    .dataframe tbody tr th {\n",
       "        vertical-align: top;\n",
       "    }\n",
       "\n",
       "    .dataframe thead th {\n",
       "        text-align: right;\n",
       "    }\n",
       "</style>\n",
       "<table border=\"1\" class=\"dataframe\">\n",
       "  <thead>\n",
       "    <tr style=\"text-align: right;\">\n",
       "      <th></th>\n",
       "      <th>male</th>\n",
       "      <th>age</th>\n",
       "      <th>education</th>\n",
       "      <th>currentSmoker</th>\n",
       "      <th>cigsPerDay</th>\n",
       "      <th>BPMeds</th>\n",
       "      <th>prevalentStroke</th>\n",
       "      <th>prevalentHyp</th>\n",
       "      <th>diabetes</th>\n",
       "      <th>totChol</th>\n",
       "      <th>sysBP</th>\n",
       "      <th>diaBP</th>\n",
       "      <th>BMI</th>\n",
       "      <th>heartRate</th>\n",
       "      <th>glucose</th>\n",
       "      <th>TenYearCHD</th>\n",
       "    </tr>\n",
       "  </thead>\n",
       "  <tbody>\n",
       "    <tr>\n",
       "      <th>0</th>\n",
       "      <td>1</td>\n",
       "      <td>39</td>\n",
       "      <td>4.0</td>\n",
       "      <td>0</td>\n",
       "      <td>0.0</td>\n",
       "      <td>0.0</td>\n",
       "      <td>0</td>\n",
       "      <td>0</td>\n",
       "      <td>0</td>\n",
       "      <td>195.0</td>\n",
       "      <td>106.0</td>\n",
       "      <td>70.0</td>\n",
       "      <td>26.97</td>\n",
       "      <td>80.0</td>\n",
       "      <td>77.0</td>\n",
       "      <td>0</td>\n",
       "    </tr>\n",
       "    <tr>\n",
       "      <th>1</th>\n",
       "      <td>0</td>\n",
       "      <td>46</td>\n",
       "      <td>2.0</td>\n",
       "      <td>0</td>\n",
       "      <td>0.0</td>\n",
       "      <td>0.0</td>\n",
       "      <td>0</td>\n",
       "      <td>0</td>\n",
       "      <td>0</td>\n",
       "      <td>250.0</td>\n",
       "      <td>121.0</td>\n",
       "      <td>81.0</td>\n",
       "      <td>28.73</td>\n",
       "      <td>95.0</td>\n",
       "      <td>76.0</td>\n",
       "      <td>0</td>\n",
       "    </tr>\n",
       "    <tr>\n",
       "      <th>2</th>\n",
       "      <td>1</td>\n",
       "      <td>48</td>\n",
       "      <td>1.0</td>\n",
       "      <td>1</td>\n",
       "      <td>20.0</td>\n",
       "      <td>0.0</td>\n",
       "      <td>0</td>\n",
       "      <td>0</td>\n",
       "      <td>0</td>\n",
       "      <td>245.0</td>\n",
       "      <td>127.5</td>\n",
       "      <td>80.0</td>\n",
       "      <td>25.34</td>\n",
       "      <td>75.0</td>\n",
       "      <td>70.0</td>\n",
       "      <td>0</td>\n",
       "    </tr>\n",
       "  </tbody>\n",
       "</table>\n",
       "</div>"
      ],
      "text/plain": [
       "   male  age  education  currentSmoker  cigsPerDay  BPMeds  prevalentStroke  \\\n",
       "0     1   39        4.0              0         0.0     0.0                0   \n",
       "1     0   46        2.0              0         0.0     0.0                0   \n",
       "2     1   48        1.0              1        20.0     0.0                0   \n",
       "\n",
       "   prevalentHyp  diabetes  totChol  sysBP  diaBP    BMI  heartRate  glucose  \\\n",
       "0             0         0    195.0  106.0   70.0  26.97       80.0     77.0   \n",
       "1             0         0    250.0  121.0   81.0  28.73       95.0     76.0   \n",
       "2             0         0    245.0  127.5   80.0  25.34       75.0     70.0   \n",
       "\n",
       "   TenYearCHD  \n",
       "0           0  \n",
       "1           0  \n",
       "2           0  "
      ]
     },
     "execution_count": 29,
     "metadata": {},
     "output_type": "execute_result"
    }
   ],
   "source": [
    "data_clean.head(3)"
   ]
  },
  {
   "cell_type": "code",
   "execution_count": 30,
   "id": "b2897461",
   "metadata": {
    "execution": {
     "iopub.execute_input": "2023-04-12T19:52:02.830331Z",
     "iopub.status.busy": "2023-04-12T19:52:02.829920Z",
     "iopub.status.idle": "2023-04-12T19:52:03.107777Z",
     "shell.execute_reply": "2023-04-12T19:52:03.105880Z"
    },
    "papermill": {
     "duration": 0.317409,
     "end_time": "2023-04-12T19:52:03.113588",
     "exception": false,
     "start_time": "2023-04-12T19:52:02.796179",
     "status": "completed"
    },
    "tags": []
   },
   "outputs": [
    {
     "name": "stdout",
     "output_type": "stream",
     "text": [
      "Optimization terminated successfully.\n",
      "         Current function value: 0.384940\n",
      "         Iterations 7\n",
      "currentSmoker : 0.9901301794125181\n",
      "Optimization terminated successfully.\n",
      "         Current function value: 0.384940\n",
      "         Iterations 7\n",
      "education : 0.9146164102701849\n",
      "Optimization terminated successfully.\n",
      "         Current function value: 0.384942\n",
      "         Iterations 7\n",
      "diaBP : 0.8130501356555632\n",
      "Optimization terminated successfully.\n",
      "         Current function value: 0.384950\n",
      "         Iterations 7\n",
      "heartRate : 0.7866378376508116\n",
      "Optimization terminated successfully.\n",
      "         Current function value: 0.384961\n",
      "         Iterations 7\n",
      "BMI : 0.36957409324051915\n",
      "Optimization terminated successfully.\n",
      "         Current function value: 0.385080\n",
      "         Iterations 7\n",
      "diabetes : 0.3859803286896841\n",
      "Optimization terminated successfully.\n",
      "         Current function value: 0.385189\n",
      "         Iterations 7\n",
      "prevalentHyp : 0.25974508828252474\n",
      "Optimization terminated successfully.\n",
      "         Current function value: 0.385375\n",
      "         Iterations 7\n"
     ]
    }
   ],
   "source": [
    "Xn=data_clean.drop(columns=['TenYearCHD'])\n",
    "Yn=data_clean.TenYearCHD\n",
    "\n",
    "Xn_train,Xn_test,Yn_train,Yn_test=tts(Xn,Yn,test_size=0.2, random_state=500)\n",
    "\n",
    "reg=sm.Logit(Yn_train, sm.add_constant(Xn_train)).fit()\n",
    "\n",
    "curr=reg.pvalues.max()\n",
    "\n",
    "while(curr>0.05):\n",
    "    # dropping maxm pvalued label:\n",
    "    label=reg.pvalues.idxmax()\n",
    "    print(label,\":\",curr)\n",
    "    data_clean.drop(columns=[label], inplace=True)\n",
    "    # fitting updated data:\n",
    "    Xn=data_clean.drop(columns=['TenYearCHD'])\n",
    "    Yn=data_clean.TenYearCHD\n",
    "    Xn_train,Xn_test,Yn_train,Yn_test=tts(Xn,Yn,test_size=0.2, random_state=500)\n",
    "    reg=sm.Logit(Yn_train, sm.add_constant(Xn_train)).fit()\n",
    "    curr=reg.pvalues.max()\n"
   ]
  },
  {
   "cell_type": "code",
   "execution_count": 31,
   "id": "10054623",
   "metadata": {
    "execution": {
     "iopub.execute_input": "2023-04-12T19:52:03.242902Z",
     "iopub.status.busy": "2023-04-12T19:52:03.242472Z",
     "iopub.status.idle": "2023-04-12T19:52:03.250268Z",
     "shell.execute_reply": "2023-04-12T19:52:03.248949Z"
    },
    "papermill": {
     "duration": 0.06006,
     "end_time": "2023-04-12T19:52:03.252953",
     "exception": false,
     "start_time": "2023-04-12T19:52:03.192893",
     "status": "completed"
    },
    "tags": []
   },
   "outputs": [
    {
     "data": {
      "text/plain": [
       "(4238, 9)"
      ]
     },
     "execution_count": 31,
     "metadata": {},
     "output_type": "execute_result"
    }
   ],
   "source": [
    "data_clean.shape"
   ]
  },
  {
   "cell_type": "code",
   "execution_count": 32,
   "id": "5795f676",
   "metadata": {
    "execution": {
     "iopub.execute_input": "2023-04-12T19:52:03.319336Z",
     "iopub.status.busy": "2023-04-12T19:52:03.317955Z",
     "iopub.status.idle": "2023-04-12T19:52:03.328466Z",
     "shell.execute_reply": "2023-04-12T19:52:03.327386Z"
    },
    "papermill": {
     "duration": 0.045856,
     "end_time": "2023-04-12T19:52:03.330915",
     "exception": false,
     "start_time": "2023-04-12T19:52:03.285059",
     "status": "completed"
    },
    "tags": []
   },
   "outputs": [
    {
     "data": {
      "text/plain": [
       "const              2.925578e-68\n",
       "male               2.330902e-05\n",
       "age                1.039077e-23\n",
       "cigsPerDay         3.564594e-08\n",
       "BPMeds             1.486011e-02\n",
       "prevalentStroke    4.957512e-02\n",
       "totChol            4.407141e-02\n",
       "sysBP              1.470953e-08\n",
       "glucose            1.932921e-05\n",
       "dtype: float64"
      ]
     },
     "execution_count": 32,
     "metadata": {},
     "output_type": "execute_result"
    }
   ],
   "source": [
    "reg.pvalues"
   ]
  },
  {
   "attachments": {},
   "cell_type": "markdown",
   "id": "3f1efd8c",
   "metadata": {
    "papermill": {
     "duration": 0.033693,
     "end_time": "2023-04-12T19:52:03.396919",
     "exception": false,
     "start_time": "2023-04-12T19:52:03.363226",
     "status": "completed"
    },
    "tags": []
   },
   "source": [
    "*Inference*: **Now all features have p-value < 0.05, hence, we will not drop anything** and check metrices."
   ]
  },
  {
   "cell_type": "code",
   "execution_count": 33,
   "id": "5b49622b",
   "metadata": {
    "execution": {
     "iopub.execute_input": "2023-04-12T19:52:03.464302Z",
     "iopub.status.busy": "2023-04-12T19:52:03.463861Z",
     "iopub.status.idle": "2023-04-12T19:52:03.478612Z",
     "shell.execute_reply": "2023-04-12T19:52:03.477384Z"
    },
    "papermill": {
     "duration": 0.05174,
     "end_time": "2023-04-12T19:52:03.481059",
     "exception": false,
     "start_time": "2023-04-12T19:52:03.429319",
     "status": "completed"
    },
    "tags": []
   },
   "outputs": [
    {
     "data": {
      "text/plain": [
       "3236    0.056673\n",
       "1316    0.117131\n",
       "574     0.104045\n",
       "3412    0.032471\n",
       "2679    0.112841\n",
       "          ...   \n",
       "2313    0.112124\n",
       "3401    0.258430\n",
       "232     0.104771\n",
       "2260    0.053868\n",
       "387     0.125385\n",
       "Length: 848, dtype: float64"
      ]
     },
     "execution_count": 33,
     "metadata": {},
     "output_type": "execute_result"
    }
   ],
   "source": [
    "Yn_pred=reg.predict(sm.add_constant(Xn_test))\n",
    "Yn_pred"
   ]
  },
  {
   "cell_type": "code",
   "execution_count": 34,
   "id": "34082488",
   "metadata": {
    "execution": {
     "iopub.execute_input": "2023-04-12T19:52:03.548695Z",
     "iopub.status.busy": "2023-04-12T19:52:03.547912Z",
     "iopub.status.idle": "2023-04-12T19:52:03.556984Z",
     "shell.execute_reply": "2023-04-12T19:52:03.555873Z"
    },
    "papermill": {
     "duration": 0.046056,
     "end_time": "2023-04-12T19:52:03.559539",
     "exception": false,
     "start_time": "2023-04-12T19:52:03.513483",
     "status": "completed"
    },
    "tags": []
   },
   "outputs": [
    {
     "data": {
      "text/plain": [
       "((848,), (848,))"
      ]
     },
     "execution_count": 34,
     "metadata": {},
     "output_type": "execute_result"
    }
   ],
   "source": [
    "# at threshold t\n",
    "t=0.5\n",
    "Yn_pred_binary=np.where(Yn_pred >= t, 1, 0)\n",
    "Yn_pred_binary.shape,Yn_test.shape"
   ]
  },
  {
   "cell_type": "code",
   "execution_count": 35,
   "id": "d9050f71",
   "metadata": {
    "execution": {
     "iopub.execute_input": "2023-04-12T19:52:03.628768Z",
     "iopub.status.busy": "2023-04-12T19:52:03.628296Z",
     "iopub.status.idle": "2023-04-12T19:52:03.637545Z",
     "shell.execute_reply": "2023-04-12T19:52:03.636115Z"
    },
    "papermill": {
     "duration": 0.046892,
     "end_time": "2023-04-12T19:52:03.640182",
     "exception": false,
     "start_time": "2023-04-12T19:52:03.593290",
     "status": "completed"
    },
    "tags": []
   },
   "outputs": [
    {
     "name": "stdout",
     "output_type": "stream",
     "text": [
      "Accuracy%: 86.55660377358491\n",
      "Recall%: 7.6923076923076925\n"
     ]
    }
   ],
   "source": [
    "print(\"Accuracy%:\",accuracy(Yn_test,Yn_pred_binary)*100)\n",
    "print(\"Recall%:\",recall(Yn_test,Yn_pred_binary)*100)"
   ]
  },
  {
   "cell_type": "code",
   "execution_count": 36,
   "id": "22d23ef3",
   "metadata": {
    "execution": {
     "iopub.execute_input": "2023-04-12T19:52:03.708148Z",
     "iopub.status.busy": "2023-04-12T19:52:03.707646Z",
     "iopub.status.idle": "2023-04-12T19:52:03.718005Z",
     "shell.execute_reply": "2023-04-12T19:52:03.716885Z"
    },
    "papermill": {
     "duration": 0.047685,
     "end_time": "2023-04-12T19:52:03.721004",
     "exception": false,
     "start_time": "2023-04-12T19:52:03.673319",
     "status": "completed"
    },
    "tags": []
   },
   "outputs": [
    {
     "name": "stdout",
     "output_type": "stream",
     "text": [
      "Accuracy%: 83.13679245283019\n",
      "Recall%: 28.205128205128204\n"
     ]
    }
   ],
   "source": [
    "# decresaing threshold:\n",
    "t=0.3\n",
    "Yn_pred_binary=np.where(Yn_pred >= t, 1, 0)\n",
    "Yn_pred_binary.shape,Yn_test.shape\n",
    "\n",
    "print(\"Accuracy%:\",accuracy(Yn_test,Yn_pred_binary)*100)\n",
    "print(\"Recall%:\",recall(Yn_test,Yn_pred_binary)*100)"
   ]
  },
  {
   "attachments": {},
   "cell_type": "markdown",
   "id": "f6124c2a",
   "metadata": {
    "papermill": {
     "duration": 0.034776,
     "end_time": "2023-04-12T19:52:03.789125",
     "exception": false,
     "start_time": "2023-04-12T19:52:03.754349",
     "status": "completed"
    },
    "tags": []
   },
   "source": [
    "*Observation*:\n",
    "* we got **similar results as earlier**, **even after using backward elimination method**"
   ]
  },
  {
   "attachments": {},
   "cell_type": "markdown",
   "id": "6c043ba3",
   "metadata": {
    "papermill": {
     "duration": 0.032571,
     "end_time": "2023-04-12T19:52:03.857173",
     "exception": false,
     "start_time": "2023-04-12T19:52:03.824602",
     "status": "completed"
    },
    "tags": []
   },
   "source": [
    "# Using Decision Trees"
   ]
  },
  {
   "attachments": {},
   "cell_type": "markdown",
   "id": "1e37d1d5",
   "metadata": {
    "papermill": {
     "duration": 0.033021,
     "end_time": "2023-04-12T19:52:03.923303",
     "exception": false,
     "start_time": "2023-04-12T19:52:03.890282",
     "status": "completed"
    },
    "tags": []
   },
   "source": [
    "We will not do preprocessing again, we will use the **already preprocessed** and **train-test-splitted** data. (i.e. **x_train_resample**, **y_train_resample**)"
   ]
  },
  {
   "cell_type": "code",
   "execution_count": 37,
   "id": "183dd497",
   "metadata": {
    "execution": {
     "iopub.execute_input": "2023-04-12T19:52:03.990914Z",
     "iopub.status.busy": "2023-04-12T19:52:03.989302Z",
     "iopub.status.idle": "2023-04-12T19:52:04.012402Z",
     "shell.execute_reply": "2023-04-12T19:52:04.010983Z"
    },
    "papermill": {
     "duration": 0.060121,
     "end_time": "2023-04-12T19:52:04.015363",
     "exception": false,
     "start_time": "2023-04-12T19:52:03.955242",
     "status": "completed"
    },
    "tags": []
   },
   "outputs": [
    {
     "data": {
      "text/plain": [
       "87.61792452830188"
      ]
     },
     "execution_count": 37,
     "metadata": {},
     "output_type": "execute_result"
    }
   ],
   "source": [
    "from sklearn import tree\n",
    "\n",
    "clf=tree.DecisionTreeClassifier(max_depth=4).fit(x_train_resample,y_train_resample)\n",
    "clf.score(x_test,y_test)*100"
   ]
  },
  {
   "attachments": {},
   "cell_type": "markdown",
   "id": "4912d13f",
   "metadata": {
    "papermill": {
     "duration": 0.032884,
     "end_time": "2023-04-12T19:52:04.081110",
     "exception": false,
     "start_time": "2023-04-12T19:52:04.048226",
     "status": "completed"
    },
    "tags": []
   },
   "source": [
    "#### DTree Criterion and Splitter analysis:"
   ]
  },
  {
   "cell_type": "code",
   "execution_count": 38,
   "id": "e353be7a",
   "metadata": {
    "execution": {
     "iopub.execute_input": "2023-04-12T19:52:04.149954Z",
     "iopub.status.busy": "2023-04-12T19:52:04.149134Z",
     "iopub.status.idle": "2023-04-12T19:52:04.172195Z",
     "shell.execute_reply": "2023-04-12T19:52:04.170760Z"
    },
    "papermill": {
     "duration": 0.061445,
     "end_time": "2023-04-12T19:52:04.174807",
     "exception": false,
     "start_time": "2023-04-12T19:52:04.113362",
     "status": "completed"
    },
    "tags": []
   },
   "outputs": [
    {
     "data": {
      "text/plain": [
       "DecisionTreeClassifier(max_depth=4)"
      ]
     },
     "execution_count": 38,
     "metadata": {},
     "output_type": "execute_result"
    }
   ],
   "source": [
    "clf = tree.DecisionTreeClassifier(max_depth=4)\n",
    "clf.fit(x_train_resample,y_train_resample)"
   ]
  },
  {
   "cell_type": "code",
   "execution_count": 39,
   "id": "32ac16a8",
   "metadata": {
    "execution": {
     "iopub.execute_input": "2023-04-12T19:52:04.241604Z",
     "iopub.status.busy": "2023-04-12T19:52:04.240624Z",
     "iopub.status.idle": "2023-04-12T19:52:04.249303Z",
     "shell.execute_reply": "2023-04-12T19:52:04.247900Z"
    },
    "papermill": {
     "duration": 0.04493,
     "end_time": "2023-04-12T19:52:04.251878",
     "exception": false,
     "start_time": "2023-04-12T19:52:04.206948",
     "status": "completed"
    },
    "tags": []
   },
   "outputs": [
    {
     "name": "stdout",
     "output_type": "stream",
     "text": [
      "Accuracy%: 87.61792452830188\n"
     ]
    }
   ],
   "source": [
    "print(\"Accuracy%:\",clf.score(x_test,y_test)*100)"
   ]
  },
  {
   "attachments": {},
   "cell_type": "markdown",
   "id": "eaf206a8",
   "metadata": {
    "papermill": {
     "duration": 0.031802,
     "end_time": "2023-04-12T19:52:04.317359",
     "exception": false,
     "start_time": "2023-04-12T19:52:04.285557",
     "status": "completed"
    },
    "tags": []
   },
   "source": [
    "### HyperParameter Tuning:"
   ]
  },
  {
   "cell_type": "code",
   "execution_count": 40,
   "id": "d2f7407a",
   "metadata": {
    "execution": {
     "iopub.execute_input": "2023-04-12T19:52:04.385000Z",
     "iopub.status.busy": "2023-04-12T19:52:04.384393Z",
     "iopub.status.idle": "2023-04-12T19:52:04.390695Z",
     "shell.execute_reply": "2023-04-12T19:52:04.389339Z"
    },
    "papermill": {
     "duration": 0.043148,
     "end_time": "2023-04-12T19:52:04.393234",
     "exception": false,
     "start_time": "2023-04-12T19:52:04.350086",
     "status": "completed"
    },
    "tags": []
   },
   "outputs": [],
   "source": [
    "from sklearn.model_selection import GridSearchCV\n",
    "\n",
    "param = {\n",
    "    'criterion':['gini','entropy'],\n",
    "    'max_depth':[1,2,3,4,5,6,7,8,9,10]\n",
    "}"
   ]
  },
  {
   "cell_type": "code",
   "execution_count": 41,
   "id": "a847c933",
   "metadata": {
    "execution": {
     "iopub.execute_input": "2023-04-12T19:52:04.466449Z",
     "iopub.status.busy": "2023-04-12T19:52:04.466028Z",
     "iopub.status.idle": "2023-04-12T19:52:05.960323Z",
     "shell.execute_reply": "2023-04-12T19:52:05.958859Z"
    },
    "papermill": {
     "duration": 1.532075,
     "end_time": "2023-04-12T19:52:05.963589",
     "exception": false,
     "start_time": "2023-04-12T19:52:04.431514",
     "status": "completed"
    },
    "tags": []
   },
   "outputs": [
    {
     "data": {
      "text/html": [
       "<div>\n",
       "<style scoped>\n",
       "    .dataframe tbody tr th:only-of-type {\n",
       "        vertical-align: middle;\n",
       "    }\n",
       "\n",
       "    .dataframe tbody tr th {\n",
       "        vertical-align: top;\n",
       "    }\n",
       "\n",
       "    .dataframe thead th {\n",
       "        text-align: right;\n",
       "    }\n",
       "</style>\n",
       "<table border=\"1\" class=\"dataframe\">\n",
       "  <thead>\n",
       "    <tr style=\"text-align: right;\">\n",
       "      <th></th>\n",
       "      <th>0</th>\n",
       "      <th>1</th>\n",
       "      <th>2</th>\n",
       "      <th>3</th>\n",
       "      <th>4</th>\n",
       "      <th>5</th>\n",
       "      <th>6</th>\n",
       "      <th>7</th>\n",
       "      <th>8</th>\n",
       "      <th>9</th>\n",
       "      <th>10</th>\n",
       "      <th>11</th>\n",
       "      <th>12</th>\n",
       "      <th>13</th>\n",
       "      <th>14</th>\n",
       "      <th>15</th>\n",
       "      <th>16</th>\n",
       "      <th>17</th>\n",
       "      <th>18</th>\n",
       "      <th>19</th>\n",
       "    </tr>\n",
       "  </thead>\n",
       "  <tbody>\n",
       "    <tr>\n",
       "      <th>mean_fit_time</th>\n",
       "      <td>0.004513</td>\n",
       "      <td>0.005907</td>\n",
       "      <td>0.007531</td>\n",
       "      <td>0.009016</td>\n",
       "      <td>0.010182</td>\n",
       "      <td>0.011738</td>\n",
       "      <td>0.013188</td>\n",
       "      <td>0.014535</td>\n",
       "      <td>0.015809</td>\n",
       "      <td>0.017005</td>\n",
       "      <td>0.004542</td>\n",
       "      <td>0.006195</td>\n",
       "      <td>0.007869</td>\n",
       "      <td>0.009635</td>\n",
       "      <td>0.011416</td>\n",
       "      <td>0.013129</td>\n",
       "      <td>0.014629</td>\n",
       "      <td>0.01634</td>\n",
       "      <td>0.017701</td>\n",
       "      <td>0.019727</td>\n",
       "    </tr>\n",
       "    <tr>\n",
       "      <th>std_fit_time</th>\n",
       "      <td>0.000146</td>\n",
       "      <td>0.000089</td>\n",
       "      <td>0.000149</td>\n",
       "      <td>0.000324</td>\n",
       "      <td>0.000124</td>\n",
       "      <td>0.000225</td>\n",
       "      <td>0.000093</td>\n",
       "      <td>0.000245</td>\n",
       "      <td>0.000194</td>\n",
       "      <td>0.000203</td>\n",
       "      <td>0.000031</td>\n",
       "      <td>0.000116</td>\n",
       "      <td>0.00014</td>\n",
       "      <td>0.000049</td>\n",
       "      <td>0.000166</td>\n",
       "      <td>0.000136</td>\n",
       "      <td>0.000098</td>\n",
       "      <td>0.000291</td>\n",
       "      <td>0.000187</td>\n",
       "      <td>0.001469</td>\n",
       "    </tr>\n",
       "    <tr>\n",
       "      <th>mean_score_time</th>\n",
       "      <td>0.002122</td>\n",
       "      <td>0.002242</td>\n",
       "      <td>0.002362</td>\n",
       "      <td>0.002262</td>\n",
       "      <td>0.002206</td>\n",
       "      <td>0.002258</td>\n",
       "      <td>0.002305</td>\n",
       "      <td>0.002305</td>\n",
       "      <td>0.00264</td>\n",
       "      <td>0.002341</td>\n",
       "      <td>0.001996</td>\n",
       "      <td>0.002136</td>\n",
       "      <td>0.002183</td>\n",
       "      <td>0.002254</td>\n",
       "      <td>0.002318</td>\n",
       "      <td>0.002345</td>\n",
       "      <td>0.002349</td>\n",
       "      <td>0.002402</td>\n",
       "      <td>0.002369</td>\n",
       "      <td>0.002464</td>\n",
       "    </tr>\n",
       "    <tr>\n",
       "      <th>std_score_time</th>\n",
       "      <td>0.000216</td>\n",
       "      <td>0.000175</td>\n",
       "      <td>0.000307</td>\n",
       "      <td>0.00008</td>\n",
       "      <td>0.000021</td>\n",
       "      <td>0.000021</td>\n",
       "      <td>0.000025</td>\n",
       "      <td>0.000066</td>\n",
       "      <td>0.000598</td>\n",
       "      <td>0.00003</td>\n",
       "      <td>0.000031</td>\n",
       "      <td>0.000077</td>\n",
       "      <td>0.000025</td>\n",
       "      <td>0.000044</td>\n",
       "      <td>0.000055</td>\n",
       "      <td>0.000085</td>\n",
       "      <td>0.000056</td>\n",
       "      <td>0.000095</td>\n",
       "      <td>0.000086</td>\n",
       "      <td>0.000204</td>\n",
       "    </tr>\n",
       "    <tr>\n",
       "      <th>param_criterion</th>\n",
       "      <td>gini</td>\n",
       "      <td>gini</td>\n",
       "      <td>gini</td>\n",
       "      <td>gini</td>\n",
       "      <td>gini</td>\n",
       "      <td>gini</td>\n",
       "      <td>gini</td>\n",
       "      <td>gini</td>\n",
       "      <td>gini</td>\n",
       "      <td>gini</td>\n",
       "      <td>entropy</td>\n",
       "      <td>entropy</td>\n",
       "      <td>entropy</td>\n",
       "      <td>entropy</td>\n",
       "      <td>entropy</td>\n",
       "      <td>entropy</td>\n",
       "      <td>entropy</td>\n",
       "      <td>entropy</td>\n",
       "      <td>entropy</td>\n",
       "      <td>entropy</td>\n",
       "    </tr>\n",
       "    <tr>\n",
       "      <th>param_max_depth</th>\n",
       "      <td>1</td>\n",
       "      <td>2</td>\n",
       "      <td>3</td>\n",
       "      <td>4</td>\n",
       "      <td>5</td>\n",
       "      <td>6</td>\n",
       "      <td>7</td>\n",
       "      <td>8</td>\n",
       "      <td>9</td>\n",
       "      <td>10</td>\n",
       "      <td>1</td>\n",
       "      <td>2</td>\n",
       "      <td>3</td>\n",
       "      <td>4</td>\n",
       "      <td>5</td>\n",
       "      <td>6</td>\n",
       "      <td>7</td>\n",
       "      <td>8</td>\n",
       "      <td>9</td>\n",
       "      <td>10</td>\n",
       "    </tr>\n",
       "    <tr>\n",
       "      <th>params</th>\n",
       "      <td>{'criterion': 'gini', 'max_depth': 1}</td>\n",
       "      <td>{'criterion': 'gini', 'max_depth': 2}</td>\n",
       "      <td>{'criterion': 'gini', 'max_depth': 3}</td>\n",
       "      <td>{'criterion': 'gini', 'max_depth': 4}</td>\n",
       "      <td>{'criterion': 'gini', 'max_depth': 5}</td>\n",
       "      <td>{'criterion': 'gini', 'max_depth': 6}</td>\n",
       "      <td>{'criterion': 'gini', 'max_depth': 7}</td>\n",
       "      <td>{'criterion': 'gini', 'max_depth': 8}</td>\n",
       "      <td>{'criterion': 'gini', 'max_depth': 9}</td>\n",
       "      <td>{'criterion': 'gini', 'max_depth': 10}</td>\n",
       "      <td>{'criterion': 'entropy', 'max_depth': 1}</td>\n",
       "      <td>{'criterion': 'entropy', 'max_depth': 2}</td>\n",
       "      <td>{'criterion': 'entropy', 'max_depth': 3}</td>\n",
       "      <td>{'criterion': 'entropy', 'max_depth': 4}</td>\n",
       "      <td>{'criterion': 'entropy', 'max_depth': 5}</td>\n",
       "      <td>{'criterion': 'entropy', 'max_depth': 6}</td>\n",
       "      <td>{'criterion': 'entropy', 'max_depth': 7}</td>\n",
       "      <td>{'criterion': 'entropy', 'max_depth': 8}</td>\n",
       "      <td>{'criterion': 'entropy', 'max_depth': 9}</td>\n",
       "      <td>{'criterion': 'entropy', 'max_depth': 10}</td>\n",
       "    </tr>\n",
       "    <tr>\n",
       "      <th>split0_test_score</th>\n",
       "      <td>0.8</td>\n",
       "      <td>0.8</td>\n",
       "      <td>0.798601</td>\n",
       "      <td>0.795804</td>\n",
       "      <td>0.798601</td>\n",
       "      <td>0.784615</td>\n",
       "      <td>0.79021</td>\n",
       "      <td>0.787413</td>\n",
       "      <td>0.759441</td>\n",
       "      <td>0.758042</td>\n",
       "      <td>0.8</td>\n",
       "      <td>0.8</td>\n",
       "      <td>0.798601</td>\n",
       "      <td>0.797203</td>\n",
       "      <td>0.795804</td>\n",
       "      <td>0.773427</td>\n",
       "      <td>0.773427</td>\n",
       "      <td>0.774825</td>\n",
       "      <td>0.763636</td>\n",
       "      <td>0.769231</td>\n",
       "    </tr>\n",
       "    <tr>\n",
       "      <th>split1_test_score</th>\n",
       "      <td>0.79972</td>\n",
       "      <td>0.79972</td>\n",
       "      <td>0.80112</td>\n",
       "      <td>0.809524</td>\n",
       "      <td>0.802521</td>\n",
       "      <td>0.79972</td>\n",
       "      <td>0.803922</td>\n",
       "      <td>0.789916</td>\n",
       "      <td>0.767507</td>\n",
       "      <td>0.77451</td>\n",
       "      <td>0.79972</td>\n",
       "      <td>0.79972</td>\n",
       "      <td>0.796919</td>\n",
       "      <td>0.79972</td>\n",
       "      <td>0.80112</td>\n",
       "      <td>0.789916</td>\n",
       "      <td>0.794118</td>\n",
       "      <td>0.789916</td>\n",
       "      <td>0.787115</td>\n",
       "      <td>0.787115</td>\n",
       "    </tr>\n",
       "    <tr>\n",
       "      <th>split2_test_score</th>\n",
       "      <td>0.79972</td>\n",
       "      <td>0.79972</td>\n",
       "      <td>0.796919</td>\n",
       "      <td>0.798319</td>\n",
       "      <td>0.794118</td>\n",
       "      <td>0.794118</td>\n",
       "      <td>0.787115</td>\n",
       "      <td>0.789916</td>\n",
       "      <td>0.785714</td>\n",
       "      <td>0.77451</td>\n",
       "      <td>0.79972</td>\n",
       "      <td>0.79972</td>\n",
       "      <td>0.80112</td>\n",
       "      <td>0.796919</td>\n",
       "      <td>0.782913</td>\n",
       "      <td>0.781513</td>\n",
       "      <td>0.777311</td>\n",
       "      <td>0.77591</td>\n",
       "      <td>0.777311</td>\n",
       "      <td>0.777311</td>\n",
       "    </tr>\n",
       "    <tr>\n",
       "      <th>split3_test_score</th>\n",
       "      <td>0.79972</td>\n",
       "      <td>0.79972</td>\n",
       "      <td>0.789916</td>\n",
       "      <td>0.796919</td>\n",
       "      <td>0.787115</td>\n",
       "      <td>0.794118</td>\n",
       "      <td>0.784314</td>\n",
       "      <td>0.781513</td>\n",
       "      <td>0.773109</td>\n",
       "      <td>0.763305</td>\n",
       "      <td>0.79972</td>\n",
       "      <td>0.79972</td>\n",
       "      <td>0.794118</td>\n",
       "      <td>0.796919</td>\n",
       "      <td>0.784314</td>\n",
       "      <td>0.796919</td>\n",
       "      <td>0.784314</td>\n",
       "      <td>0.787115</td>\n",
       "      <td>0.777311</td>\n",
       "      <td>0.778711</td>\n",
       "    </tr>\n",
       "    <tr>\n",
       "      <th>split4_test_score</th>\n",
       "      <td>0.80112</td>\n",
       "      <td>0.79972</td>\n",
       "      <td>0.80112</td>\n",
       "      <td>0.796919</td>\n",
       "      <td>0.795518</td>\n",
       "      <td>0.796919</td>\n",
       "      <td>0.798319</td>\n",
       "      <td>0.794118</td>\n",
       "      <td>0.789916</td>\n",
       "      <td>0.784314</td>\n",
       "      <td>0.80112</td>\n",
       "      <td>0.80112</td>\n",
       "      <td>0.803922</td>\n",
       "      <td>0.784314</td>\n",
       "      <td>0.798319</td>\n",
       "      <td>0.79972</td>\n",
       "      <td>0.802521</td>\n",
       "      <td>0.792717</td>\n",
       "      <td>0.791317</td>\n",
       "      <td>0.781513</td>\n",
       "    </tr>\n",
       "    <tr>\n",
       "      <th>mean_test_score</th>\n",
       "      <td>0.800056</td>\n",
       "      <td>0.799776</td>\n",
       "      <td>0.797535</td>\n",
       "      <td>0.799497</td>\n",
       "      <td>0.795575</td>\n",
       "      <td>0.793898</td>\n",
       "      <td>0.792776</td>\n",
       "      <td>0.788575</td>\n",
       "      <td>0.775137</td>\n",
       "      <td>0.770936</td>\n",
       "      <td>0.800056</td>\n",
       "      <td>0.800056</td>\n",
       "      <td>0.798936</td>\n",
       "      <td>0.795015</td>\n",
       "      <td>0.792494</td>\n",
       "      <td>0.788299</td>\n",
       "      <td>0.786338</td>\n",
       "      <td>0.784097</td>\n",
       "      <td>0.779338</td>\n",
       "      <td>0.778776</td>\n",
       "    </tr>\n",
       "    <tr>\n",
       "      <th>std_test_score</th>\n",
       "      <td>0.000543</td>\n",
       "      <td>0.000112</td>\n",
       "      <td>0.00413</td>\n",
       "      <td>0.005077</td>\n",
       "      <td>0.005121</td>\n",
       "      <td>0.005085</td>\n",
       "      <td>0.007283</td>\n",
       "      <td>0.004136</td>\n",
       "      <td>0.011305</td>\n",
       "      <td>0.009263</td>\n",
       "      <td>0.000543</td>\n",
       "      <td>0.000543</td>\n",
       "      <td>0.003377</td>\n",
       "      <td>0.005453</td>\n",
       "      <td>0.007457</td>\n",
       "      <td>0.009743</td>\n",
       "      <td>0.010721</td>\n",
       "      <td>0.007352</td>\n",
       "      <td>0.009578</td>\n",
       "      <td>0.005836</td>\n",
       "    </tr>\n",
       "    <tr>\n",
       "      <th>rank_test_score</th>\n",
       "      <td>1</td>\n",
       "      <td>4</td>\n",
       "      <td>7</td>\n",
       "      <td>5</td>\n",
       "      <td>8</td>\n",
       "      <td>10</td>\n",
       "      <td>11</td>\n",
       "      <td>13</td>\n",
       "      <td>19</td>\n",
       "      <td>20</td>\n",
       "      <td>1</td>\n",
       "      <td>1</td>\n",
       "      <td>6</td>\n",
       "      <td>9</td>\n",
       "      <td>12</td>\n",
       "      <td>14</td>\n",
       "      <td>15</td>\n",
       "      <td>16</td>\n",
       "      <td>17</td>\n",
       "      <td>18</td>\n",
       "    </tr>\n",
       "  </tbody>\n",
       "</table>\n",
       "</div>"
      ],
      "text/plain": [
       "                                                      0   \\\n",
       "mean_fit_time                                   0.004513   \n",
       "std_fit_time                                    0.000146   \n",
       "mean_score_time                                 0.002122   \n",
       "std_score_time                                  0.000216   \n",
       "param_criterion                                     gini   \n",
       "param_max_depth                                        1   \n",
       "params             {'criterion': 'gini', 'max_depth': 1}   \n",
       "split0_test_score                                    0.8   \n",
       "split1_test_score                                0.79972   \n",
       "split2_test_score                                0.79972   \n",
       "split3_test_score                                0.79972   \n",
       "split4_test_score                                0.80112   \n",
       "mean_test_score                                 0.800056   \n",
       "std_test_score                                  0.000543   \n",
       "rank_test_score                                        1   \n",
       "\n",
       "                                                      1   \\\n",
       "mean_fit_time                                   0.005907   \n",
       "std_fit_time                                    0.000089   \n",
       "mean_score_time                                 0.002242   \n",
       "std_score_time                                  0.000175   \n",
       "param_criterion                                     gini   \n",
       "param_max_depth                                        2   \n",
       "params             {'criterion': 'gini', 'max_depth': 2}   \n",
       "split0_test_score                                    0.8   \n",
       "split1_test_score                                0.79972   \n",
       "split2_test_score                                0.79972   \n",
       "split3_test_score                                0.79972   \n",
       "split4_test_score                                0.79972   \n",
       "mean_test_score                                 0.799776   \n",
       "std_test_score                                  0.000112   \n",
       "rank_test_score                                        4   \n",
       "\n",
       "                                                      2   \\\n",
       "mean_fit_time                                   0.007531   \n",
       "std_fit_time                                    0.000149   \n",
       "mean_score_time                                 0.002362   \n",
       "std_score_time                                  0.000307   \n",
       "param_criterion                                     gini   \n",
       "param_max_depth                                        3   \n",
       "params             {'criterion': 'gini', 'max_depth': 3}   \n",
       "split0_test_score                               0.798601   \n",
       "split1_test_score                                0.80112   \n",
       "split2_test_score                               0.796919   \n",
       "split3_test_score                               0.789916   \n",
       "split4_test_score                                0.80112   \n",
       "mean_test_score                                 0.797535   \n",
       "std_test_score                                   0.00413   \n",
       "rank_test_score                                        7   \n",
       "\n",
       "                                                      3   \\\n",
       "mean_fit_time                                   0.009016   \n",
       "std_fit_time                                    0.000324   \n",
       "mean_score_time                                 0.002262   \n",
       "std_score_time                                   0.00008   \n",
       "param_criterion                                     gini   \n",
       "param_max_depth                                        4   \n",
       "params             {'criterion': 'gini', 'max_depth': 4}   \n",
       "split0_test_score                               0.795804   \n",
       "split1_test_score                               0.809524   \n",
       "split2_test_score                               0.798319   \n",
       "split3_test_score                               0.796919   \n",
       "split4_test_score                               0.796919   \n",
       "mean_test_score                                 0.799497   \n",
       "std_test_score                                  0.005077   \n",
       "rank_test_score                                        5   \n",
       "\n",
       "                                                      4   \\\n",
       "mean_fit_time                                   0.010182   \n",
       "std_fit_time                                    0.000124   \n",
       "mean_score_time                                 0.002206   \n",
       "std_score_time                                  0.000021   \n",
       "param_criterion                                     gini   \n",
       "param_max_depth                                        5   \n",
       "params             {'criterion': 'gini', 'max_depth': 5}   \n",
       "split0_test_score                               0.798601   \n",
       "split1_test_score                               0.802521   \n",
       "split2_test_score                               0.794118   \n",
       "split3_test_score                               0.787115   \n",
       "split4_test_score                               0.795518   \n",
       "mean_test_score                                 0.795575   \n",
       "std_test_score                                  0.005121   \n",
       "rank_test_score                                        8   \n",
       "\n",
       "                                                      5   \\\n",
       "mean_fit_time                                   0.011738   \n",
       "std_fit_time                                    0.000225   \n",
       "mean_score_time                                 0.002258   \n",
       "std_score_time                                  0.000021   \n",
       "param_criterion                                     gini   \n",
       "param_max_depth                                        6   \n",
       "params             {'criterion': 'gini', 'max_depth': 6}   \n",
       "split0_test_score                               0.784615   \n",
       "split1_test_score                                0.79972   \n",
       "split2_test_score                               0.794118   \n",
       "split3_test_score                               0.794118   \n",
       "split4_test_score                               0.796919   \n",
       "mean_test_score                                 0.793898   \n",
       "std_test_score                                  0.005085   \n",
       "rank_test_score                                       10   \n",
       "\n",
       "                                                      6   \\\n",
       "mean_fit_time                                   0.013188   \n",
       "std_fit_time                                    0.000093   \n",
       "mean_score_time                                 0.002305   \n",
       "std_score_time                                  0.000025   \n",
       "param_criterion                                     gini   \n",
       "param_max_depth                                        7   \n",
       "params             {'criterion': 'gini', 'max_depth': 7}   \n",
       "split0_test_score                                0.79021   \n",
       "split1_test_score                               0.803922   \n",
       "split2_test_score                               0.787115   \n",
       "split3_test_score                               0.784314   \n",
       "split4_test_score                               0.798319   \n",
       "mean_test_score                                 0.792776   \n",
       "std_test_score                                  0.007283   \n",
       "rank_test_score                                       11   \n",
       "\n",
       "                                                      7   \\\n",
       "mean_fit_time                                   0.014535   \n",
       "std_fit_time                                    0.000245   \n",
       "mean_score_time                                 0.002305   \n",
       "std_score_time                                  0.000066   \n",
       "param_criterion                                     gini   \n",
       "param_max_depth                                        8   \n",
       "params             {'criterion': 'gini', 'max_depth': 8}   \n",
       "split0_test_score                               0.787413   \n",
       "split1_test_score                               0.789916   \n",
       "split2_test_score                               0.789916   \n",
       "split3_test_score                               0.781513   \n",
       "split4_test_score                               0.794118   \n",
       "mean_test_score                                 0.788575   \n",
       "std_test_score                                  0.004136   \n",
       "rank_test_score                                       13   \n",
       "\n",
       "                                                      8   \\\n",
       "mean_fit_time                                   0.015809   \n",
       "std_fit_time                                    0.000194   \n",
       "mean_score_time                                  0.00264   \n",
       "std_score_time                                  0.000598   \n",
       "param_criterion                                     gini   \n",
       "param_max_depth                                        9   \n",
       "params             {'criterion': 'gini', 'max_depth': 9}   \n",
       "split0_test_score                               0.759441   \n",
       "split1_test_score                               0.767507   \n",
       "split2_test_score                               0.785714   \n",
       "split3_test_score                               0.773109   \n",
       "split4_test_score                               0.789916   \n",
       "mean_test_score                                 0.775137   \n",
       "std_test_score                                  0.011305   \n",
       "rank_test_score                                       19   \n",
       "\n",
       "                                                       9   \\\n",
       "mean_fit_time                                    0.017005   \n",
       "std_fit_time                                     0.000203   \n",
       "mean_score_time                                  0.002341   \n",
       "std_score_time                                    0.00003   \n",
       "param_criterion                                      gini   \n",
       "param_max_depth                                        10   \n",
       "params             {'criterion': 'gini', 'max_depth': 10}   \n",
       "split0_test_score                                0.758042   \n",
       "split1_test_score                                 0.77451   \n",
       "split2_test_score                                 0.77451   \n",
       "split3_test_score                                0.763305   \n",
       "split4_test_score                                0.784314   \n",
       "mean_test_score                                  0.770936   \n",
       "std_test_score                                   0.009263   \n",
       "rank_test_score                                        20   \n",
       "\n",
       "                                                         10  \\\n",
       "mean_fit_time                                      0.004542   \n",
       "std_fit_time                                       0.000031   \n",
       "mean_score_time                                    0.001996   \n",
       "std_score_time                                     0.000031   \n",
       "param_criterion                                     entropy   \n",
       "param_max_depth                                           1   \n",
       "params             {'criterion': 'entropy', 'max_depth': 1}   \n",
       "split0_test_score                                       0.8   \n",
       "split1_test_score                                   0.79972   \n",
       "split2_test_score                                   0.79972   \n",
       "split3_test_score                                   0.79972   \n",
       "split4_test_score                                   0.80112   \n",
       "mean_test_score                                    0.800056   \n",
       "std_test_score                                     0.000543   \n",
       "rank_test_score                                           1   \n",
       "\n",
       "                                                         11  \\\n",
       "mean_fit_time                                      0.006195   \n",
       "std_fit_time                                       0.000116   \n",
       "mean_score_time                                    0.002136   \n",
       "std_score_time                                     0.000077   \n",
       "param_criterion                                     entropy   \n",
       "param_max_depth                                           2   \n",
       "params             {'criterion': 'entropy', 'max_depth': 2}   \n",
       "split0_test_score                                       0.8   \n",
       "split1_test_score                                   0.79972   \n",
       "split2_test_score                                   0.79972   \n",
       "split3_test_score                                   0.79972   \n",
       "split4_test_score                                   0.80112   \n",
       "mean_test_score                                    0.800056   \n",
       "std_test_score                                     0.000543   \n",
       "rank_test_score                                           1   \n",
       "\n",
       "                                                         12  \\\n",
       "mean_fit_time                                      0.007869   \n",
       "std_fit_time                                        0.00014   \n",
       "mean_score_time                                    0.002183   \n",
       "std_score_time                                     0.000025   \n",
       "param_criterion                                     entropy   \n",
       "param_max_depth                                           3   \n",
       "params             {'criterion': 'entropy', 'max_depth': 3}   \n",
       "split0_test_score                                  0.798601   \n",
       "split1_test_score                                  0.796919   \n",
       "split2_test_score                                   0.80112   \n",
       "split3_test_score                                  0.794118   \n",
       "split4_test_score                                  0.803922   \n",
       "mean_test_score                                    0.798936   \n",
       "std_test_score                                     0.003377   \n",
       "rank_test_score                                           6   \n",
       "\n",
       "                                                         13  \\\n",
       "mean_fit_time                                      0.009635   \n",
       "std_fit_time                                       0.000049   \n",
       "mean_score_time                                    0.002254   \n",
       "std_score_time                                     0.000044   \n",
       "param_criterion                                     entropy   \n",
       "param_max_depth                                           4   \n",
       "params             {'criterion': 'entropy', 'max_depth': 4}   \n",
       "split0_test_score                                  0.797203   \n",
       "split1_test_score                                   0.79972   \n",
       "split2_test_score                                  0.796919   \n",
       "split3_test_score                                  0.796919   \n",
       "split4_test_score                                  0.784314   \n",
       "mean_test_score                                    0.795015   \n",
       "std_test_score                                     0.005453   \n",
       "rank_test_score                                           9   \n",
       "\n",
       "                                                         14  \\\n",
       "mean_fit_time                                      0.011416   \n",
       "std_fit_time                                       0.000166   \n",
       "mean_score_time                                    0.002318   \n",
       "std_score_time                                     0.000055   \n",
       "param_criterion                                     entropy   \n",
       "param_max_depth                                           5   \n",
       "params             {'criterion': 'entropy', 'max_depth': 5}   \n",
       "split0_test_score                                  0.795804   \n",
       "split1_test_score                                   0.80112   \n",
       "split2_test_score                                  0.782913   \n",
       "split3_test_score                                  0.784314   \n",
       "split4_test_score                                  0.798319   \n",
       "mean_test_score                                    0.792494   \n",
       "std_test_score                                     0.007457   \n",
       "rank_test_score                                          12   \n",
       "\n",
       "                                                         15  \\\n",
       "mean_fit_time                                      0.013129   \n",
       "std_fit_time                                       0.000136   \n",
       "mean_score_time                                    0.002345   \n",
       "std_score_time                                     0.000085   \n",
       "param_criterion                                     entropy   \n",
       "param_max_depth                                           6   \n",
       "params             {'criterion': 'entropy', 'max_depth': 6}   \n",
       "split0_test_score                                  0.773427   \n",
       "split1_test_score                                  0.789916   \n",
       "split2_test_score                                  0.781513   \n",
       "split3_test_score                                  0.796919   \n",
       "split4_test_score                                   0.79972   \n",
       "mean_test_score                                    0.788299   \n",
       "std_test_score                                     0.009743   \n",
       "rank_test_score                                          14   \n",
       "\n",
       "                                                         16  \\\n",
       "mean_fit_time                                      0.014629   \n",
       "std_fit_time                                       0.000098   \n",
       "mean_score_time                                    0.002349   \n",
       "std_score_time                                     0.000056   \n",
       "param_criterion                                     entropy   \n",
       "param_max_depth                                           7   \n",
       "params             {'criterion': 'entropy', 'max_depth': 7}   \n",
       "split0_test_score                                  0.773427   \n",
       "split1_test_score                                  0.794118   \n",
       "split2_test_score                                  0.777311   \n",
       "split3_test_score                                  0.784314   \n",
       "split4_test_score                                  0.802521   \n",
       "mean_test_score                                    0.786338   \n",
       "std_test_score                                     0.010721   \n",
       "rank_test_score                                          15   \n",
       "\n",
       "                                                         17  \\\n",
       "mean_fit_time                                       0.01634   \n",
       "std_fit_time                                       0.000291   \n",
       "mean_score_time                                    0.002402   \n",
       "std_score_time                                     0.000095   \n",
       "param_criterion                                     entropy   \n",
       "param_max_depth                                           8   \n",
       "params             {'criterion': 'entropy', 'max_depth': 8}   \n",
       "split0_test_score                                  0.774825   \n",
       "split1_test_score                                  0.789916   \n",
       "split2_test_score                                   0.77591   \n",
       "split3_test_score                                  0.787115   \n",
       "split4_test_score                                  0.792717   \n",
       "mean_test_score                                    0.784097   \n",
       "std_test_score                                     0.007352   \n",
       "rank_test_score                                          16   \n",
       "\n",
       "                                                         18  \\\n",
       "mean_fit_time                                      0.017701   \n",
       "std_fit_time                                       0.000187   \n",
       "mean_score_time                                    0.002369   \n",
       "std_score_time                                     0.000086   \n",
       "param_criterion                                     entropy   \n",
       "param_max_depth                                           9   \n",
       "params             {'criterion': 'entropy', 'max_depth': 9}   \n",
       "split0_test_score                                  0.763636   \n",
       "split1_test_score                                  0.787115   \n",
       "split2_test_score                                  0.777311   \n",
       "split3_test_score                                  0.777311   \n",
       "split4_test_score                                  0.791317   \n",
       "mean_test_score                                    0.779338   \n",
       "std_test_score                                     0.009578   \n",
       "rank_test_score                                          17   \n",
       "\n",
       "                                                          19  \n",
       "mean_fit_time                                       0.019727  \n",
       "std_fit_time                                        0.001469  \n",
       "mean_score_time                                     0.002464  \n",
       "std_score_time                                      0.000204  \n",
       "param_criterion                                      entropy  \n",
       "param_max_depth                                           10  \n",
       "params             {'criterion': 'entropy', 'max_depth': 10}  \n",
       "split0_test_score                                   0.769231  \n",
       "split1_test_score                                   0.787115  \n",
       "split2_test_score                                   0.777311  \n",
       "split3_test_score                                   0.778711  \n",
       "split4_test_score                                   0.781513  \n",
       "mean_test_score                                     0.778776  \n",
       "std_test_score                                      0.005836  \n",
       "rank_test_score                                           18  "
      ]
     },
     "execution_count": 41,
     "metadata": {},
     "output_type": "execute_result"
    }
   ],
   "source": [
    "gridsearch = GridSearchCV(estimator=clf,param_grid=param).fit(x_train_resample,y_train_resample)\n",
    "grid_df=pd.DataFrame(gridsearch.cv_results_)\n",
    "grid_df.T"
   ]
  },
  {
   "attachments": {},
   "cell_type": "markdown",
   "id": "565aa996",
   "metadata": {
    "papermill": {
     "duration": 0.033407,
     "end_time": "2023-04-12T19:52:06.031162",
     "exception": false,
     "start_time": "2023-04-12T19:52:05.997755",
     "status": "completed"
    },
    "tags": []
   },
   "source": [
    "*Observations*:\n",
    "* Both **Decision Tree** and **Logistic Regression**, performed **same** on this data."
   ]
  },
  {
   "attachments": {},
   "cell_type": "markdown",
   "id": "32ca452f",
   "metadata": {
    "papermill": {
     "duration": 0.032939,
     "end_time": "2023-04-12T19:52:06.098052",
     "exception": false,
     "start_time": "2023-04-12T19:52:06.065113",
     "status": "completed"
    },
    "tags": []
   },
   "source": [
    "### Confusion Matrix:"
   ]
  },
  {
   "cell_type": "code",
   "execution_count": 42,
   "id": "10eff64b",
   "metadata": {
    "execution": {
     "iopub.execute_input": "2023-04-12T19:52:06.166715Z",
     "iopub.status.busy": "2023-04-12T19:52:06.166191Z",
     "iopub.status.idle": "2023-04-12T19:52:06.332298Z",
     "shell.execute_reply": "2023-04-12T19:52:06.330787Z"
    },
    "papermill": {
     "duration": 0.203683,
     "end_time": "2023-04-12T19:52:06.335044",
     "exception": false,
     "start_time": "2023-04-12T19:52:06.131361",
     "status": "completed"
    },
    "tags": []
   },
   "outputs": [
    {
     "data": {
      "image/png": "[encoded data removed]",
      "text/plain": [
       "<Figure size 350x350 with 1 Axes>"
      ]
     },
     "metadata": {},
     "output_type": "display_data"
    }
   ],
   "source": [
    "y_pred=clf.predict(x_test)\n",
    "cmat=conf(y_test,y_pred)\n",
    "cmat[0][0],cmat[1][1]=cmat[1][1],cmat[0][0]\n",
    "cmat=pd.DataFrame(cmat,index=['True_predicted','False_predicted'],columns=['True_Actual','False_Actual'])\n",
    "plt.subplots(figsize=(3.5,3.5))\n",
    "sns.heatmap(cmat,cmap='BuGn',annot=True,fmt='.0f',cbar=False)\n",
    "plt.show()"
   ]
  },
  {
   "cell_type": "code",
   "execution_count": 43,
   "id": "5949585c",
   "metadata": {
    "execution": {
     "iopub.execute_input": "2023-04-12T19:52:06.407875Z",
     "iopub.status.busy": "2023-04-12T19:52:06.406646Z",
     "iopub.status.idle": "2023-04-12T19:52:06.415473Z",
     "shell.execute_reply": "2023-04-12T19:52:06.413766Z"
    },
    "papermill": {
     "duration": 0.048664,
     "end_time": "2023-04-12T19:52:06.418499",
     "exception": false,
     "start_time": "2023-04-12T19:52:06.369835",
     "status": "completed"
    },
    "tags": []
   },
   "outputs": [],
   "source": [
    "model.append('DTree')\n",
    "ac.append(clf.score(x_test,y_test)*100)"
   ]
  },
  {
   "attachments": {},
   "cell_type": "markdown",
   "id": "e822d558",
   "metadata": {
    "papermill": {
     "duration": 0.033268,
     "end_time": "2023-04-12T19:52:06.485265",
     "exception": false,
     "start_time": "2023-04-12T19:52:06.451997",
     "status": "completed"
    },
    "tags": []
   },
   "source": [
    "# Fitting in Random Forest Classifier"
   ]
  },
  {
   "cell_type": "code",
   "execution_count": 44,
   "id": "b8bb91f5",
   "metadata": {
    "execution": {
     "iopub.execute_input": "2023-04-12T19:52:06.554449Z",
     "iopub.status.busy": "2023-04-12T19:52:06.553991Z",
     "iopub.status.idle": "2023-04-12T19:52:07.239148Z",
     "shell.execute_reply": "2023-04-12T19:52:07.237812Z"
    },
    "papermill": {
     "duration": 0.723238,
     "end_time": "2023-04-12T19:52:07.242082",
     "exception": false,
     "start_time": "2023-04-12T19:52:06.518844",
     "status": "completed"
    },
    "tags": []
   },
   "outputs": [
    {
     "data": {
      "text/plain": [
       "RandomForestClassifier()"
      ]
     },
     "execution_count": 44,
     "metadata": {},
     "output_type": "execute_result"
    }
   ],
   "source": [
    "from sklearn.ensemble import RandomForestClassifier\n",
    "\n",
    "rf = RandomForestClassifier()\n",
    "rf.fit(x_train_resample,y_train_resample)"
   ]
  },
  {
   "cell_type": "code",
   "execution_count": 45,
   "id": "5a04b485",
   "metadata": {
    "execution": {
     "iopub.execute_input": "2023-04-12T19:52:07.313787Z",
     "iopub.status.busy": "2023-04-12T19:52:07.313304Z",
     "iopub.status.idle": "2023-04-12T19:52:07.356034Z",
     "shell.execute_reply": "2023-04-12T19:52:07.354679Z"
    },
    "papermill": {
     "duration": 0.081444,
     "end_time": "2023-04-12T19:52:07.358726",
     "exception": false,
     "start_time": "2023-04-12T19:52:07.277282",
     "status": "completed"
    },
    "tags": []
   },
   "outputs": [
    {
     "data": {
      "text/plain": [
       "87.14622641509435"
      ]
     },
     "execution_count": 45,
     "metadata": {},
     "output_type": "execute_result"
    }
   ],
   "source": [
    "rf.score(x_test,y_test)*100"
   ]
  },
  {
   "cell_type": "code",
   "execution_count": 46,
   "id": "7122a94c",
   "metadata": {
    "execution": {
     "iopub.execute_input": "2023-04-12T19:52:07.429111Z",
     "iopub.status.busy": "2023-04-12T19:52:07.428264Z",
     "iopub.status.idle": "2023-04-12T19:52:07.470212Z",
     "shell.execute_reply": "2023-04-12T19:52:07.468875Z"
    },
    "papermill": {
     "duration": 0.080831,
     "end_time": "2023-04-12T19:52:07.473482",
     "exception": false,
     "start_time": "2023-04-12T19:52:07.392651",
     "status": "completed"
    },
    "tags": []
   },
   "outputs": [],
   "source": [
    "model.append('RandomForest')\n",
    "ac.append(rf.score(x_test,y_test)*100)"
   ]
  },
  {
   "cell_type": "code",
   "execution_count": 47,
   "id": "6ee126ae",
   "metadata": {
    "execution": {
     "iopub.execute_input": "2023-04-12T19:52:07.544278Z",
     "iopub.status.busy": "2023-04-12T19:52:07.543855Z",
     "iopub.status.idle": "2023-04-12T19:52:07.549082Z",
     "shell.execute_reply": "2023-04-12T19:52:07.548162Z"
    },
    "papermill": {
     "duration": 0.043316,
     "end_time": "2023-04-12T19:52:07.551346",
     "exception": false,
     "start_time": "2023-04-12T19:52:07.508030",
     "status": "completed"
    },
    "tags": []
   },
   "outputs": [],
   "source": [
    "from sklearn.model_selection import GridSearchCV\n",
    "\n",
    "param={\n",
    "    'n_estimators': [50, 100],\n",
    "    'max_depth': [3, 5],\n",
    "    'min_samples_split': [2, 5],\n",
    "    'criterion': ('gini', 'entropy')\n",
    "}"
   ]
  },
  {
   "cell_type": "code",
   "execution_count": 48,
   "id": "6fbc6216",
   "metadata": {
    "execution": {
     "iopub.execute_input": "2023-04-12T19:52:07.624395Z",
     "iopub.status.busy": "2023-04-12T19:52:07.623322Z",
     "iopub.status.idle": "2023-04-12T19:52:26.574020Z",
     "shell.execute_reply": "2023-04-12T19:52:26.572553Z"
    },
    "papermill": {
     "duration": 18.990895,
     "end_time": "2023-04-12T19:52:26.576996",
     "exception": false,
     "start_time": "2023-04-12T19:52:07.586101",
     "status": "completed"
    },
    "tags": []
   },
   "outputs": [
    {
     "data": {
      "text/html": [
       "<div>\n",
       "<style scoped>\n",
       "    .dataframe tbody tr th:only-of-type {\n",
       "        vertical-align: middle;\n",
       "    }\n",
       "\n",
       "    .dataframe tbody tr th {\n",
       "        vertical-align: top;\n",
       "    }\n",
       "\n",
       "    .dataframe thead th {\n",
       "        text-align: right;\n",
       "    }\n",
       "</style>\n",
       "<table border=\"1\" class=\"dataframe\">\n",
       "  <thead>\n",
       "    <tr style=\"text-align: right;\">\n",
       "      <th></th>\n",
       "      <th>0</th>\n",
       "      <th>1</th>\n",
       "      <th>2</th>\n",
       "      <th>3</th>\n",
       "      <th>4</th>\n",
       "      <th>5</th>\n",
       "      <th>6</th>\n",
       "      <th>7</th>\n",
       "      <th>8</th>\n",
       "      <th>9</th>\n",
       "      <th>10</th>\n",
       "      <th>11</th>\n",
       "      <th>12</th>\n",
       "      <th>13</th>\n",
       "      <th>14</th>\n",
       "      <th>15</th>\n",
       "    </tr>\n",
       "  </thead>\n",
       "  <tbody>\n",
       "    <tr>\n",
       "      <th>mean_fit_time</th>\n",
       "      <td>0.130623</td>\n",
       "      <td>0.261191</td>\n",
       "      <td>0.129453</td>\n",
       "      <td>0.254801</td>\n",
       "      <td>0.154947</td>\n",
       "      <td>0.306188</td>\n",
       "      <td>0.157688</td>\n",
       "      <td>0.308345</td>\n",
       "      <td>0.130744</td>\n",
       "      <td>0.262014</td>\n",
       "      <td>0.133245</td>\n",
       "      <td>0.266619</td>\n",
       "      <td>0.163885</td>\n",
       "      <td>0.32773</td>\n",
       "      <td>0.165889</td>\n",
       "      <td>0.331019</td>\n",
       "    </tr>\n",
       "    <tr>\n",
       "      <th>std_fit_time</th>\n",
       "      <td>0.00227</td>\n",
       "      <td>0.005128</td>\n",
       "      <td>0.001318</td>\n",
       "      <td>0.007419</td>\n",
       "      <td>0.001459</td>\n",
       "      <td>0.002561</td>\n",
       "      <td>0.001332</td>\n",
       "      <td>0.00186</td>\n",
       "      <td>0.000464</td>\n",
       "      <td>0.005792</td>\n",
       "      <td>0.003124</td>\n",
       "      <td>0.009625</td>\n",
       "      <td>0.001326</td>\n",
       "      <td>0.004918</td>\n",
       "      <td>0.002139</td>\n",
       "      <td>0.004469</td>\n",
       "    </tr>\n",
       "    <tr>\n",
       "      <th>mean_score_time</th>\n",
       "      <td>0.011073</td>\n",
       "      <td>0.02156</td>\n",
       "      <td>0.010946</td>\n",
       "      <td>0.018743</td>\n",
       "      <td>0.011175</td>\n",
       "      <td>0.019887</td>\n",
       "      <td>0.011427</td>\n",
       "      <td>0.019875</td>\n",
       "      <td>0.010558</td>\n",
       "      <td>0.019011</td>\n",
       "      <td>0.010752</td>\n",
       "      <td>0.019114</td>\n",
       "      <td>0.011316</td>\n",
       "      <td>0.020222</td>\n",
       "      <td>0.011976</td>\n",
       "      <td>0.020626</td>\n",
       "    </tr>\n",
       "    <tr>\n",
       "      <th>std_score_time</th>\n",
       "      <td>0.000446</td>\n",
       "      <td>0.003849</td>\n",
       "      <td>0.000458</td>\n",
       "      <td>0.000336</td>\n",
       "      <td>0.000138</td>\n",
       "      <td>0.000062</td>\n",
       "      <td>0.000218</td>\n",
       "      <td>0.000355</td>\n",
       "      <td>0.000104</td>\n",
       "      <td>0.000578</td>\n",
       "      <td>0.000267</td>\n",
       "      <td>0.000648</td>\n",
       "      <td>0.000099</td>\n",
       "      <td>0.000224</td>\n",
       "      <td>0.000525</td>\n",
       "      <td>0.000558</td>\n",
       "    </tr>\n",
       "    <tr>\n",
       "      <th>param_criterion</th>\n",
       "      <td>gini</td>\n",
       "      <td>gini</td>\n",
       "      <td>gini</td>\n",
       "      <td>gini</td>\n",
       "      <td>gini</td>\n",
       "      <td>gini</td>\n",
       "      <td>gini</td>\n",
       "      <td>gini</td>\n",
       "      <td>entropy</td>\n",
       "      <td>entropy</td>\n",
       "      <td>entropy</td>\n",
       "      <td>entropy</td>\n",
       "      <td>entropy</td>\n",
       "      <td>entropy</td>\n",
       "      <td>entropy</td>\n",
       "      <td>entropy</td>\n",
       "    </tr>\n",
       "    <tr>\n",
       "      <th>param_max_depth</th>\n",
       "      <td>3</td>\n",
       "      <td>3</td>\n",
       "      <td>3</td>\n",
       "      <td>3</td>\n",
       "      <td>5</td>\n",
       "      <td>5</td>\n",
       "      <td>5</td>\n",
       "      <td>5</td>\n",
       "      <td>3</td>\n",
       "      <td>3</td>\n",
       "      <td>3</td>\n",
       "      <td>3</td>\n",
       "      <td>5</td>\n",
       "      <td>5</td>\n",
       "      <td>5</td>\n",
       "      <td>5</td>\n",
       "    </tr>\n",
       "    <tr>\n",
       "      <th>param_min_samples_split</th>\n",
       "      <td>2</td>\n",
       "      <td>2</td>\n",
       "      <td>5</td>\n",
       "      <td>5</td>\n",
       "      <td>2</td>\n",
       "      <td>2</td>\n",
       "      <td>5</td>\n",
       "      <td>5</td>\n",
       "      <td>2</td>\n",
       "      <td>2</td>\n",
       "      <td>5</td>\n",
       "      <td>5</td>\n",
       "      <td>2</td>\n",
       "      <td>2</td>\n",
       "      <td>5</td>\n",
       "      <td>5</td>\n",
       "    </tr>\n",
       "    <tr>\n",
       "      <th>param_n_estimators</th>\n",
       "      <td>50</td>\n",
       "      <td>100</td>\n",
       "      <td>50</td>\n",
       "      <td>100</td>\n",
       "      <td>50</td>\n",
       "      <td>100</td>\n",
       "      <td>50</td>\n",
       "      <td>100</td>\n",
       "      <td>50</td>\n",
       "      <td>100</td>\n",
       "      <td>50</td>\n",
       "      <td>100</td>\n",
       "      <td>50</td>\n",
       "      <td>100</td>\n",
       "      <td>50</td>\n",
       "      <td>100</td>\n",
       "    </tr>\n",
       "    <tr>\n",
       "      <th>params</th>\n",
       "      <td>{'criterion': 'gini', 'max_depth': 3, 'min_sam...</td>\n",
       "      <td>{'criterion': 'gini', 'max_depth': 3, 'min_sam...</td>\n",
       "      <td>{'criterion': 'gini', 'max_depth': 3, 'min_sam...</td>\n",
       "      <td>{'criterion': 'gini', 'max_depth': 3, 'min_sam...</td>\n",
       "      <td>{'criterion': 'gini', 'max_depth': 5, 'min_sam...</td>\n",
       "      <td>{'criterion': 'gini', 'max_depth': 5, 'min_sam...</td>\n",
       "      <td>{'criterion': 'gini', 'max_depth': 5, 'min_sam...</td>\n",
       "      <td>{'criterion': 'gini', 'max_depth': 5, 'min_sam...</td>\n",
       "      <td>{'criterion': 'entropy', 'max_depth': 3, 'min_...</td>\n",
       "      <td>{'criterion': 'entropy', 'max_depth': 3, 'min_...</td>\n",
       "      <td>{'criterion': 'entropy', 'max_depth': 3, 'min_...</td>\n",
       "      <td>{'criterion': 'entropy', 'max_depth': 3, 'min_...</td>\n",
       "      <td>{'criterion': 'entropy', 'max_depth': 5, 'min_...</td>\n",
       "      <td>{'criterion': 'entropy', 'max_depth': 5, 'min_...</td>\n",
       "      <td>{'criterion': 'entropy', 'max_depth': 5, 'min_...</td>\n",
       "      <td>{'criterion': 'entropy', 'max_depth': 5, 'min_...</td>\n",
       "    </tr>\n",
       "    <tr>\n",
       "      <th>split0_test_score</th>\n",
       "      <td>0.842183</td>\n",
       "      <td>0.842183</td>\n",
       "      <td>0.842183</td>\n",
       "      <td>0.842183</td>\n",
       "      <td>0.843658</td>\n",
       "      <td>0.845133</td>\n",
       "      <td>0.843658</td>\n",
       "      <td>0.843658</td>\n",
       "      <td>0.842183</td>\n",
       "      <td>0.842183</td>\n",
       "      <td>0.842183</td>\n",
       "      <td>0.842183</td>\n",
       "      <td>0.843658</td>\n",
       "      <td>0.843658</td>\n",
       "      <td>0.842183</td>\n",
       "      <td>0.843658</td>\n",
       "    </tr>\n",
       "    <tr>\n",
       "      <th>split1_test_score</th>\n",
       "      <td>0.842183</td>\n",
       "      <td>0.842183</td>\n",
       "      <td>0.842183</td>\n",
       "      <td>0.842183</td>\n",
       "      <td>0.842183</td>\n",
       "      <td>0.842183</td>\n",
       "      <td>0.840708</td>\n",
       "      <td>0.840708</td>\n",
       "      <td>0.842183</td>\n",
       "      <td>0.842183</td>\n",
       "      <td>0.842183</td>\n",
       "      <td>0.842183</td>\n",
       "      <td>0.842183</td>\n",
       "      <td>0.842183</td>\n",
       "      <td>0.840708</td>\n",
       "      <td>0.842183</td>\n",
       "    </tr>\n",
       "    <tr>\n",
       "      <th>split2_test_score</th>\n",
       "      <td>0.842183</td>\n",
       "      <td>0.842183</td>\n",
       "      <td>0.842183</td>\n",
       "      <td>0.842183</td>\n",
       "      <td>0.845133</td>\n",
       "      <td>0.845133</td>\n",
       "      <td>0.845133</td>\n",
       "      <td>0.845133</td>\n",
       "      <td>0.842183</td>\n",
       "      <td>0.842183</td>\n",
       "      <td>0.842183</td>\n",
       "      <td>0.842183</td>\n",
       "      <td>0.843658</td>\n",
       "      <td>0.845133</td>\n",
       "      <td>0.843658</td>\n",
       "      <td>0.842183</td>\n",
       "    </tr>\n",
       "    <tr>\n",
       "      <th>split3_test_score</th>\n",
       "      <td>0.843658</td>\n",
       "      <td>0.843658</td>\n",
       "      <td>0.843658</td>\n",
       "      <td>0.843658</td>\n",
       "      <td>0.840708</td>\n",
       "      <td>0.839233</td>\n",
       "      <td>0.843658</td>\n",
       "      <td>0.837758</td>\n",
       "      <td>0.843658</td>\n",
       "      <td>0.843658</td>\n",
       "      <td>0.843658</td>\n",
       "      <td>0.843658</td>\n",
       "      <td>0.842183</td>\n",
       "      <td>0.840708</td>\n",
       "      <td>0.842183</td>\n",
       "      <td>0.842183</td>\n",
       "    </tr>\n",
       "    <tr>\n",
       "      <th>split4_test_score</th>\n",
       "      <td>0.843658</td>\n",
       "      <td>0.843658</td>\n",
       "      <td>0.843658</td>\n",
       "      <td>0.843658</td>\n",
       "      <td>0.843658</td>\n",
       "      <td>0.843658</td>\n",
       "      <td>0.845133</td>\n",
       "      <td>0.843658</td>\n",
       "      <td>0.843658</td>\n",
       "      <td>0.843658</td>\n",
       "      <td>0.843658</td>\n",
       "      <td>0.843658</td>\n",
       "      <td>0.842183</td>\n",
       "      <td>0.842183</td>\n",
       "      <td>0.845133</td>\n",
       "      <td>0.842183</td>\n",
       "    </tr>\n",
       "    <tr>\n",
       "      <th>mean_test_score</th>\n",
       "      <td>0.842773</td>\n",
       "      <td>0.842773</td>\n",
       "      <td>0.842773</td>\n",
       "      <td>0.842773</td>\n",
       "      <td>0.843068</td>\n",
       "      <td>0.843068</td>\n",
       "      <td>0.843658</td>\n",
       "      <td>0.842183</td>\n",
       "      <td>0.842773</td>\n",
       "      <td>0.842773</td>\n",
       "      <td>0.842773</td>\n",
       "      <td>0.842773</td>\n",
       "      <td>0.842773</td>\n",
       "      <td>0.842773</td>\n",
       "      <td>0.842773</td>\n",
       "      <td>0.842478</td>\n",
       "    </tr>\n",
       "    <tr>\n",
       "      <th>std_test_score</th>\n",
       "      <td>0.000723</td>\n",
       "      <td>0.000723</td>\n",
       "      <td>0.000723</td>\n",
       "      <td>0.000723</td>\n",
       "      <td>0.001504</td>\n",
       "      <td>0.002207</td>\n",
       "      <td>0.001616</td>\n",
       "      <td>0.002638</td>\n",
       "      <td>0.000723</td>\n",
       "      <td>0.000723</td>\n",
       "      <td>0.000723</td>\n",
       "      <td>0.000723</td>\n",
       "      <td>0.000723</td>\n",
       "      <td>0.001504</td>\n",
       "      <td>0.001504</td>\n",
       "      <td>0.00059</td>\n",
       "    </tr>\n",
       "    <tr>\n",
       "      <th>rank_test_score</th>\n",
       "      <td>4</td>\n",
       "      <td>4</td>\n",
       "      <td>4</td>\n",
       "      <td>4</td>\n",
       "      <td>2</td>\n",
       "      <td>2</td>\n",
       "      <td>1</td>\n",
       "      <td>16</td>\n",
       "      <td>4</td>\n",
       "      <td>4</td>\n",
       "      <td>4</td>\n",
       "      <td>4</td>\n",
       "      <td>4</td>\n",
       "      <td>4</td>\n",
       "      <td>4</td>\n",
       "      <td>15</td>\n",
       "    </tr>\n",
       "  </tbody>\n",
       "</table>\n",
       "</div>"
      ],
      "text/plain": [
       "                                                                        0   \\\n",
       "mean_fit_time                                                     0.130623   \n",
       "std_fit_time                                                       0.00227   \n",
       "mean_score_time                                                   0.011073   \n",
       "std_score_time                                                    0.000446   \n",
       "param_criterion                                                       gini   \n",
       "param_max_depth                                                          3   \n",
       "param_min_samples_split                                                  2   \n",
       "param_n_estimators                                                      50   \n",
       "params                   {'criterion': 'gini', 'max_depth': 3, 'min_sam...   \n",
       "split0_test_score                                                 0.842183   \n",
       "split1_test_score                                                 0.842183   \n",
       "split2_test_score                                                 0.842183   \n",
       "split3_test_score                                                 0.843658   \n",
       "split4_test_score                                                 0.843658   \n",
       "mean_test_score                                                   0.842773   \n",
       "std_test_score                                                    0.000723   \n",
       "rank_test_score                                                          4   \n",
       "\n",
       "                                                                        1   \\\n",
       "mean_fit_time                                                     0.261191   \n",
       "std_fit_time                                                      0.005128   \n",
       "mean_score_time                                                    0.02156   \n",
       "std_score_time                                                    0.003849   \n",
       "param_criterion                                                       gini   \n",
       "param_max_depth                                                          3   \n",
       "param_min_samples_split                                                  2   \n",
       "param_n_estimators                                                     100   \n",
       "params                   {'criterion': 'gini', 'max_depth': 3, 'min_sam...   \n",
       "split0_test_score                                                 0.842183   \n",
       "split1_test_score                                                 0.842183   \n",
       "split2_test_score                                                 0.842183   \n",
       "split3_test_score                                                 0.843658   \n",
       "split4_test_score                                                 0.843658   \n",
       "mean_test_score                                                   0.842773   \n",
       "std_test_score                                                    0.000723   \n",
       "rank_test_score                                                          4   \n",
       "\n",
       "                                                                        2   \\\n",
       "mean_fit_time                                                     0.129453   \n",
       "std_fit_time                                                      0.001318   \n",
       "mean_score_time                                                   0.010946   \n",
       "std_score_time                                                    0.000458   \n",
       "param_criterion                                                       gini   \n",
       "param_max_depth                                                          3   \n",
       "param_min_samples_split                                                  5   \n",
       "param_n_estimators                                                      50   \n",
       "params                   {'criterion': 'gini', 'max_depth': 3, 'min_sam...   \n",
       "split0_test_score                                                 0.842183   \n",
       "split1_test_score                                                 0.842183   \n",
       "split2_test_score                                                 0.842183   \n",
       "split3_test_score                                                 0.843658   \n",
       "split4_test_score                                                 0.843658   \n",
       "mean_test_score                                                   0.842773   \n",
       "std_test_score                                                    0.000723   \n",
       "rank_test_score                                                          4   \n",
       "\n",
       "                                                                        3   \\\n",
       "mean_fit_time                                                     0.254801   \n",
       "std_fit_time                                                      0.007419   \n",
       "mean_score_time                                                   0.018743   \n",
       "std_score_time                                                    0.000336   \n",
       "param_criterion                                                       gini   \n",
       "param_max_depth                                                          3   \n",
       "param_min_samples_split                                                  5   \n",
       "param_n_estimators                                                     100   \n",
       "params                   {'criterion': 'gini', 'max_depth': 3, 'min_sam...   \n",
       "split0_test_score                                                 0.842183   \n",
       "split1_test_score                                                 0.842183   \n",
       "split2_test_score                                                 0.842183   \n",
       "split3_test_score                                                 0.843658   \n",
       "split4_test_score                                                 0.843658   \n",
       "mean_test_score                                                   0.842773   \n",
       "std_test_score                                                    0.000723   \n",
       "rank_test_score                                                          4   \n",
       "\n",
       "                                                                        4   \\\n",
       "mean_fit_time                                                     0.154947   \n",
       "std_fit_time                                                      0.001459   \n",
       "mean_score_time                                                   0.011175   \n",
       "std_score_time                                                    0.000138   \n",
       "param_criterion                                                       gini   \n",
       "param_max_depth                                                          5   \n",
       "param_min_samples_split                                                  2   \n",
       "param_n_estimators                                                      50   \n",
       "params                   {'criterion': 'gini', 'max_depth': 5, 'min_sam...   \n",
       "split0_test_score                                                 0.843658   \n",
       "split1_test_score                                                 0.842183   \n",
       "split2_test_score                                                 0.845133   \n",
       "split3_test_score                                                 0.840708   \n",
       "split4_test_score                                                 0.843658   \n",
       "mean_test_score                                                   0.843068   \n",
       "std_test_score                                                    0.001504   \n",
       "rank_test_score                                                          2   \n",
       "\n",
       "                                                                        5   \\\n",
       "mean_fit_time                                                     0.306188   \n",
       "std_fit_time                                                      0.002561   \n",
       "mean_score_time                                                   0.019887   \n",
       "std_score_time                                                    0.000062   \n",
       "param_criterion                                                       gini   \n",
       "param_max_depth                                                          5   \n",
       "param_min_samples_split                                                  2   \n",
       "param_n_estimators                                                     100   \n",
       "params                   {'criterion': 'gini', 'max_depth': 5, 'min_sam...   \n",
       "split0_test_score                                                 0.845133   \n",
       "split1_test_score                                                 0.842183   \n",
       "split2_test_score                                                 0.845133   \n",
       "split3_test_score                                                 0.839233   \n",
       "split4_test_score                                                 0.843658   \n",
       "mean_test_score                                                   0.843068   \n",
       "std_test_score                                                    0.002207   \n",
       "rank_test_score                                                          2   \n",
       "\n",
       "                                                                        6   \\\n",
       "mean_fit_time                                                     0.157688   \n",
       "std_fit_time                                                      0.001332   \n",
       "mean_score_time                                                   0.011427   \n",
       "std_score_time                                                    0.000218   \n",
       "param_criterion                                                       gini   \n",
       "param_max_depth                                                          5   \n",
       "param_min_samples_split                                                  5   \n",
       "param_n_estimators                                                      50   \n",
       "params                   {'criterion': 'gini', 'max_depth': 5, 'min_sam...   \n",
       "split0_test_score                                                 0.843658   \n",
       "split1_test_score                                                 0.840708   \n",
       "split2_test_score                                                 0.845133   \n",
       "split3_test_score                                                 0.843658   \n",
       "split4_test_score                                                 0.845133   \n",
       "mean_test_score                                                   0.843658   \n",
       "std_test_score                                                    0.001616   \n",
       "rank_test_score                                                          1   \n",
       "\n",
       "                                                                        7   \\\n",
       "mean_fit_time                                                     0.308345   \n",
       "std_fit_time                                                       0.00186   \n",
       "mean_score_time                                                   0.019875   \n",
       "std_score_time                                                    0.000355   \n",
       "param_criterion                                                       gini   \n",
       "param_max_depth                                                          5   \n",
       "param_min_samples_split                                                  5   \n",
       "param_n_estimators                                                     100   \n",
       "params                   {'criterion': 'gini', 'max_depth': 5, 'min_sam...   \n",
       "split0_test_score                                                 0.843658   \n",
       "split1_test_score                                                 0.840708   \n",
       "split2_test_score                                                 0.845133   \n",
       "split3_test_score                                                 0.837758   \n",
       "split4_test_score                                                 0.843658   \n",
       "mean_test_score                                                   0.842183   \n",
       "std_test_score                                                    0.002638   \n",
       "rank_test_score                                                         16   \n",
       "\n",
       "                                                                        8   \\\n",
       "mean_fit_time                                                     0.130744   \n",
       "std_fit_time                                                      0.000464   \n",
       "mean_score_time                                                   0.010558   \n",
       "std_score_time                                                    0.000104   \n",
       "param_criterion                                                    entropy   \n",
       "param_max_depth                                                          3   \n",
       "param_min_samples_split                                                  2   \n",
       "param_n_estimators                                                      50   \n",
       "params                   {'criterion': 'entropy', 'max_depth': 3, 'min_...   \n",
       "split0_test_score                                                 0.842183   \n",
       "split1_test_score                                                 0.842183   \n",
       "split2_test_score                                                 0.842183   \n",
       "split3_test_score                                                 0.843658   \n",
       "split4_test_score                                                 0.843658   \n",
       "mean_test_score                                                   0.842773   \n",
       "std_test_score                                                    0.000723   \n",
       "rank_test_score                                                          4   \n",
       "\n",
       "                                                                        9   \\\n",
       "mean_fit_time                                                     0.262014   \n",
       "std_fit_time                                                      0.005792   \n",
       "mean_score_time                                                   0.019011   \n",
       "std_score_time                                                    0.000578   \n",
       "param_criterion                                                    entropy   \n",
       "param_max_depth                                                          3   \n",
       "param_min_samples_split                                                  2   \n",
       "param_n_estimators                                                     100   \n",
       "params                   {'criterion': 'entropy', 'max_depth': 3, 'min_...   \n",
       "split0_test_score                                                 0.842183   \n",
       "split1_test_score                                                 0.842183   \n",
       "split2_test_score                                                 0.842183   \n",
       "split3_test_score                                                 0.843658   \n",
       "split4_test_score                                                 0.843658   \n",
       "mean_test_score                                                   0.842773   \n",
       "std_test_score                                                    0.000723   \n",
       "rank_test_score                                                          4   \n",
       "\n",
       "                                                                        10  \\\n",
       "mean_fit_time                                                     0.133245   \n",
       "std_fit_time                                                      0.003124   \n",
       "mean_score_time                                                   0.010752   \n",
       "std_score_time                                                    0.000267   \n",
       "param_criterion                                                    entropy   \n",
       "param_max_depth                                                          3   \n",
       "param_min_samples_split                                                  5   \n",
       "param_n_estimators                                                      50   \n",
       "params                   {'criterion': 'entropy', 'max_depth': 3, 'min_...   \n",
       "split0_test_score                                                 0.842183   \n",
       "split1_test_score                                                 0.842183   \n",
       "split2_test_score                                                 0.842183   \n",
       "split3_test_score                                                 0.843658   \n",
       "split4_test_score                                                 0.843658   \n",
       "mean_test_score                                                   0.842773   \n",
       "std_test_score                                                    0.000723   \n",
       "rank_test_score                                                          4   \n",
       "\n",
       "                                                                        11  \\\n",
       "mean_fit_time                                                     0.266619   \n",
       "std_fit_time                                                      0.009625   \n",
       "mean_score_time                                                   0.019114   \n",
       "std_score_time                                                    0.000648   \n",
       "param_criterion                                                    entropy   \n",
       "param_max_depth                                                          3   \n",
       "param_min_samples_split                                                  5   \n",
       "param_n_estimators                                                     100   \n",
       "params                   {'criterion': 'entropy', 'max_depth': 3, 'min_...   \n",
       "split0_test_score                                                 0.842183   \n",
       "split1_test_score                                                 0.842183   \n",
       "split2_test_score                                                 0.842183   \n",
       "split3_test_score                                                 0.843658   \n",
       "split4_test_score                                                 0.843658   \n",
       "mean_test_score                                                   0.842773   \n",
       "std_test_score                                                    0.000723   \n",
       "rank_test_score                                                          4   \n",
       "\n",
       "                                                                        12  \\\n",
       "mean_fit_time                                                     0.163885   \n",
       "std_fit_time                                                      0.001326   \n",
       "mean_score_time                                                   0.011316   \n",
       "std_score_time                                                    0.000099   \n",
       "param_criterion                                                    entropy   \n",
       "param_max_depth                                                          5   \n",
       "param_min_samples_split                                                  2   \n",
       "param_n_estimators                                                      50   \n",
       "params                   {'criterion': 'entropy', 'max_depth': 5, 'min_...   \n",
       "split0_test_score                                                 0.843658   \n",
       "split1_test_score                                                 0.842183   \n",
       "split2_test_score                                                 0.843658   \n",
       "split3_test_score                                                 0.842183   \n",
       "split4_test_score                                                 0.842183   \n",
       "mean_test_score                                                   0.842773   \n",
       "std_test_score                                                    0.000723   \n",
       "rank_test_score                                                          4   \n",
       "\n",
       "                                                                        13  \\\n",
       "mean_fit_time                                                      0.32773   \n",
       "std_fit_time                                                      0.004918   \n",
       "mean_score_time                                                   0.020222   \n",
       "std_score_time                                                    0.000224   \n",
       "param_criterion                                                    entropy   \n",
       "param_max_depth                                                          5   \n",
       "param_min_samples_split                                                  2   \n",
       "param_n_estimators                                                     100   \n",
       "params                   {'criterion': 'entropy', 'max_depth': 5, 'min_...   \n",
       "split0_test_score                                                 0.843658   \n",
       "split1_test_score                                                 0.842183   \n",
       "split2_test_score                                                 0.845133   \n",
       "split3_test_score                                                 0.840708   \n",
       "split4_test_score                                                 0.842183   \n",
       "mean_test_score                                                   0.842773   \n",
       "std_test_score                                                    0.001504   \n",
       "rank_test_score                                                          4   \n",
       "\n",
       "                                                                        14  \\\n",
       "mean_fit_time                                                     0.165889   \n",
       "std_fit_time                                                      0.002139   \n",
       "mean_score_time                                                   0.011976   \n",
       "std_score_time                                                    0.000525   \n",
       "param_criterion                                                    entropy   \n",
       "param_max_depth                                                          5   \n",
       "param_min_samples_split                                                  5   \n",
       "param_n_estimators                                                      50   \n",
       "params                   {'criterion': 'entropy', 'max_depth': 5, 'min_...   \n",
       "split0_test_score                                                 0.842183   \n",
       "split1_test_score                                                 0.840708   \n",
       "split2_test_score                                                 0.843658   \n",
       "split3_test_score                                                 0.842183   \n",
       "split4_test_score                                                 0.845133   \n",
       "mean_test_score                                                   0.842773   \n",
       "std_test_score                                                    0.001504   \n",
       "rank_test_score                                                          4   \n",
       "\n",
       "                                                                        15  \n",
       "mean_fit_time                                                     0.331019  \n",
       "std_fit_time                                                      0.004469  \n",
       "mean_score_time                                                   0.020626  \n",
       "std_score_time                                                    0.000558  \n",
       "param_criterion                                                    entropy  \n",
       "param_max_depth                                                          5  \n",
       "param_min_samples_split                                                  5  \n",
       "param_n_estimators                                                     100  \n",
       "params                   {'criterion': 'entropy', 'max_depth': 5, 'min_...  \n",
       "split0_test_score                                                 0.843658  \n",
       "split1_test_score                                                 0.842183  \n",
       "split2_test_score                                                 0.842183  \n",
       "split3_test_score                                                 0.842183  \n",
       "split4_test_score                                                 0.842183  \n",
       "mean_test_score                                                   0.842478  \n",
       "std_test_score                                                     0.00059  \n",
       "rank_test_score                                                         15  "
      ]
     },
     "execution_count": 48,
     "metadata": {},
     "output_type": "execute_result"
    }
   ],
   "source": [
    "grid_search = GridSearchCV(estimator=rf, param_grid=param).fit(x_train, y_train)\n",
    "grid_search=pd.DataFrame(grid_search.cv_results_)\n",
    "grid_search.T"
   ]
  },
  {
   "attachments": {},
   "cell_type": "markdown",
   "id": "514fc6fd",
   "metadata": {
    "papermill": {
     "duration": 0.036216,
     "end_time": "2023-04-12T19:52:26.652980",
     "exception": false,
     "start_time": "2023-04-12T19:52:26.616764",
     "status": "completed"
    },
    "tags": []
   },
   "source": [
    "### Confusion Matrix:"
   ]
  },
  {
   "cell_type": "code",
   "execution_count": 49,
   "id": "45c994ae",
   "metadata": {
    "execution": {
     "iopub.execute_input": "2023-04-12T19:52:26.726403Z",
     "iopub.status.busy": "2023-04-12T19:52:26.725991Z",
     "iopub.status.idle": "2023-04-12T19:52:26.922660Z",
     "shell.execute_reply": "2023-04-12T19:52:26.921334Z"
    },
    "papermill": {
     "duration": 0.236131,
     "end_time": "2023-04-12T19:52:26.925335",
     "exception": false,
     "start_time": "2023-04-12T19:52:26.689204",
     "status": "completed"
    },
    "tags": []
   },
   "outputs": [
    {
     "data": {
      "image/png": "[encoded data removed]",
      "text/plain": [
       "<Figure size 350x350 with 1 Axes>"
      ]
     },
     "metadata": {},
     "output_type": "display_data"
    }
   ],
   "source": [
    "y_pred=rf.predict(x_test)\n",
    "cmat=conf(y_test,y_pred)\n",
    "cmat[0][0],cmat[1][1]=cmat[1][1],cmat[0][0]\n",
    "cmat=pd.DataFrame(cmat,index=['True_predicted','False_predicted'],columns=['True_Actual','False_Actual'])\n",
    "plt.subplots(figsize=(3.5,3.5))\n",
    "sns.heatmap(cmat,cmap='BuGn',annot=True,fmt='.0f',cbar=False)\n",
    "plt.show()"
   ]
  },
  {
   "attachments": {},
   "cell_type": "markdown",
   "id": "ef6cc304",
   "metadata": {
    "papermill": {
     "duration": 0.034819,
     "end_time": "2023-04-12T19:52:26.995449",
     "exception": false,
     "start_time": "2023-04-12T19:52:26.960630",
     "status": "completed"
    },
    "tags": []
   },
   "source": [
    "# Fitting in KNN"
   ]
  },
  {
   "cell_type": "code",
   "execution_count": 50,
   "id": "2034839b",
   "metadata": {
    "execution": {
     "iopub.execute_input": "2023-04-12T19:52:27.076566Z",
     "iopub.status.busy": "2023-04-12T19:52:27.075712Z",
     "iopub.status.idle": "2023-04-12T19:52:27.102630Z",
     "shell.execute_reply": "2023-04-12T19:52:27.101385Z"
    },
    "papermill": {
     "duration": 0.073996,
     "end_time": "2023-04-12T19:52:27.105514",
     "exception": false,
     "start_time": "2023-04-12T19:52:27.031518",
     "status": "completed"
    },
    "tags": []
   },
   "outputs": [
    {
     "data": {
      "text/plain": [
       "KNeighborsClassifier()"
      ]
     },
     "execution_count": 50,
     "metadata": {},
     "output_type": "execute_result"
    }
   ],
   "source": [
    "from sklearn.neighbors import KNeighborsClassifier\n",
    "\n",
    "knn=KNeighborsClassifier()\n",
    "knn.fit(x_train_resample,y_train_resample)"
   ]
  },
  {
   "cell_type": "code",
   "execution_count": 51,
   "id": "92a8c63e",
   "metadata": {
    "execution": {
     "iopub.execute_input": "2023-04-12T19:52:27.183002Z",
     "iopub.status.busy": "2023-04-12T19:52:27.181967Z",
     "iopub.status.idle": "2023-04-12T19:52:27.238107Z",
     "shell.execute_reply": "2023-04-12T19:52:27.236512Z"
    },
    "papermill": {
     "duration": 0.098775,
     "end_time": "2023-04-12T19:52:27.240998",
     "exception": false,
     "start_time": "2023-04-12T19:52:27.142223",
     "status": "completed"
    },
    "tags": []
   },
   "outputs": [
    {
     "data": {
      "text/plain": [
       "83.25471698113208"
      ]
     },
     "execution_count": 51,
     "metadata": {},
     "output_type": "execute_result"
    }
   ],
   "source": [
    "knn.score(x_test,y_test)*100"
   ]
  },
  {
   "cell_type": "code",
   "execution_count": 52,
   "id": "f170ca19",
   "metadata": {
    "execution": {
     "iopub.execute_input": "2023-04-12T19:52:27.414823Z",
     "iopub.status.busy": "2023-04-12T19:52:27.413714Z",
     "iopub.status.idle": "2023-04-12T19:52:27.467950Z",
     "shell.execute_reply": "2023-04-12T19:52:27.466904Z"
    },
    "papermill": {
     "duration": 0.193029,
     "end_time": "2023-04-12T19:52:27.471016",
     "exception": false,
     "start_time": "2023-04-12T19:52:27.277987",
     "status": "completed"
    },
    "tags": []
   },
   "outputs": [],
   "source": [
    "model.append('KNN')\n",
    "ac.append(knn.score(x_test,y_test)*100)"
   ]
  },
  {
   "attachments": {},
   "cell_type": "markdown",
   "id": "ac7c9860",
   "metadata": {
    "papermill": {
     "duration": 0.0378,
     "end_time": "2023-04-12T19:52:27.547898",
     "exception": false,
     "start_time": "2023-04-12T19:52:27.510098",
     "status": "completed"
    },
    "tags": []
   },
   "source": [
    "### Confusion Matrix:"
   ]
  },
  {
   "cell_type": "code",
   "execution_count": 53,
   "id": "a58908ed",
   "metadata": {
    "execution": {
     "iopub.execute_input": "2023-04-12T19:52:27.624146Z",
     "iopub.status.busy": "2023-04-12T19:52:27.623112Z",
     "iopub.status.idle": "2023-04-12T19:52:27.822046Z",
     "shell.execute_reply": "2023-04-12T19:52:27.820631Z"
    },
    "papermill": {
     "duration": 0.240103,
     "end_time": "2023-04-12T19:52:27.824981",
     "exception": false,
     "start_time": "2023-04-12T19:52:27.584878",
     "status": "completed"
    },
    "tags": []
   },
   "outputs": [
    {
     "data": {
      "image/png": "[encoded data removed]",
      "text/plain": [
       "<Figure size 350x350 with 1 Axes>"
      ]
     },
     "metadata": {},
     "output_type": "display_data"
    }
   ],
   "source": [
    "y_pred=knn.predict(x_test)\n",
    "cmat=conf(y_test,y_pred)\n",
    "cmat[0][0],cmat[1][1]=cmat[1][1],cmat[0][0]\n",
    "cmat=pd.DataFrame(cmat,index=['True_predicted','False_predicted'],columns=['True_Actual','False_Actual'])\n",
    "plt.subplots(figsize=(3.5,3.5))\n",
    "sns.heatmap(cmat,cmap='BuGn',annot=True,fmt='.0f',cbar=False)\n",
    "plt.show()"
   ]
  },
  {
   "attachments": {},
   "cell_type": "markdown",
   "id": "209bd475",
   "metadata": {
    "papermill": {
     "duration": 0.036818,
     "end_time": "2023-04-12T19:52:27.899886",
     "exception": false,
     "start_time": "2023-04-12T19:52:27.863068",
     "status": "completed"
    },
    "tags": []
   },
   "source": [
    "### Hyperparameter Tuning:"
   ]
  },
  {
   "cell_type": "code",
   "execution_count": 54,
   "id": "764a6591",
   "metadata": {
    "execution": {
     "iopub.execute_input": "2023-04-12T19:52:27.975183Z",
     "iopub.status.busy": "2023-04-12T19:52:27.974417Z",
     "iopub.status.idle": "2023-04-12T19:52:27.981328Z",
     "shell.execute_reply": "2023-04-12T19:52:27.979976Z"
    },
    "papermill": {
     "duration": 0.047591,
     "end_time": "2023-04-12T19:52:27.983813",
     "exception": false,
     "start_time": "2023-04-12T19:52:27.936222",
     "status": "completed"
    },
    "tags": []
   },
   "outputs": [],
   "source": [
    "from sklearn.model_selection import GridSearchCV,RepeatedStratifiedKFold\n",
    "\n",
    "grid={\n",
    "    'n_neighbors': [1,2,3,4,5],\n",
    "    'weights': ['uniform','distance'],\n",
    "    'algorithm': ['auto','ball_tree','kd_tree'],\n",
    "    'metric': ['manhattan','euclidian','minkowski']\n",
    "}"
   ]
  },
  {
   "cell_type": "code",
   "execution_count": 55,
   "id": "954efe96",
   "metadata": {
    "execution": {
     "iopub.execute_input": "2023-04-12T19:52:28.059697Z",
     "iopub.status.busy": "2023-04-12T19:52:28.058735Z",
     "iopub.status.idle": "2023-04-12T19:52:39.242530Z",
     "shell.execute_reply": "2023-04-12T19:52:39.241131Z"
    },
    "papermill": {
     "duration": 11.224426,
     "end_time": "2023-04-12T19:52:39.245272",
     "exception": false,
     "start_time": "2023-04-12T19:52:28.020846",
     "status": "completed"
    },
    "tags": []
   },
   "outputs": [
    {
     "data": {
      "text/html": [
       "<div>\n",
       "<style scoped>\n",
       "    .dataframe tbody tr th:only-of-type {\n",
       "        vertical-align: middle;\n",
       "    }\n",
       "\n",
       "    .dataframe tbody tr th {\n",
       "        vertical-align: top;\n",
       "    }\n",
       "\n",
       "    .dataframe thead th {\n",
       "        text-align: right;\n",
       "    }\n",
       "</style>\n",
       "<table border=\"1\" class=\"dataframe\">\n",
       "  <thead>\n",
       "    <tr style=\"text-align: right;\">\n",
       "      <th></th>\n",
       "      <th>0</th>\n",
       "      <th>1</th>\n",
       "      <th>2</th>\n",
       "      <th>3</th>\n",
       "      <th>4</th>\n",
       "      <th>5</th>\n",
       "      <th>6</th>\n",
       "      <th>7</th>\n",
       "      <th>8</th>\n",
       "      <th>9</th>\n",
       "      <th>...</th>\n",
       "      <th>80</th>\n",
       "      <th>81</th>\n",
       "      <th>82</th>\n",
       "      <th>83</th>\n",
       "      <th>84</th>\n",
       "      <th>85</th>\n",
       "      <th>86</th>\n",
       "      <th>87</th>\n",
       "      <th>88</th>\n",
       "      <th>89</th>\n",
       "    </tr>\n",
       "  </thead>\n",
       "  <tbody>\n",
       "    <tr>\n",
       "      <th>mean_fit_time</th>\n",
       "      <td>0.00675</td>\n",
       "      <td>0.005989</td>\n",
       "      <td>0.005969</td>\n",
       "      <td>0.006039</td>\n",
       "      <td>0.006104</td>\n",
       "      <td>0.006171</td>\n",
       "      <td>0.006152</td>\n",
       "      <td>0.005943</td>\n",
       "      <td>0.006115</td>\n",
       "      <td>0.006283</td>\n",
       "      <td>...</td>\n",
       "      <td>0.006049</td>\n",
       "      <td>0.006016</td>\n",
       "      <td>0.005951</td>\n",
       "      <td>0.005926</td>\n",
       "      <td>0.006015</td>\n",
       "      <td>0.006074</td>\n",
       "      <td>0.006085</td>\n",
       "      <td>0.005908</td>\n",
       "      <td>0.006163</td>\n",
       "      <td>0.005988</td>\n",
       "    </tr>\n",
       "    <tr>\n",
       "      <th>std_fit_time</th>\n",
       "      <td>0.001361</td>\n",
       "      <td>0.000117</td>\n",
       "      <td>0.00004</td>\n",
       "      <td>0.000147</td>\n",
       "      <td>0.000124</td>\n",
       "      <td>0.000206</td>\n",
       "      <td>0.000143</td>\n",
       "      <td>0.000043</td>\n",
       "      <td>0.000296</td>\n",
       "      <td>0.00033</td>\n",
       "      <td>...</td>\n",
       "      <td>0.000068</td>\n",
       "      <td>0.000085</td>\n",
       "      <td>0.000043</td>\n",
       "      <td>0.000046</td>\n",
       "      <td>0.000114</td>\n",
       "      <td>0.000194</td>\n",
       "      <td>0.000146</td>\n",
       "      <td>0.000074</td>\n",
       "      <td>0.000254</td>\n",
       "      <td>0.000106</td>\n",
       "    </tr>\n",
       "    <tr>\n",
       "      <th>mean_score_time</th>\n",
       "      <td>0.032846</td>\n",
       "      <td>0.016669</td>\n",
       "      <td>0.035906</td>\n",
       "      <td>0.019575</td>\n",
       "      <td>0.037946</td>\n",
       "      <td>0.022225</td>\n",
       "      <td>0.039222</td>\n",
       "      <td>0.022763</td>\n",
       "      <td>0.039954</td>\n",
       "      <td>0.023783</td>\n",
       "      <td>...</td>\n",
       "      <td>0.026397</td>\n",
       "      <td>0.010326</td>\n",
       "      <td>0.02814</td>\n",
       "      <td>0.011799</td>\n",
       "      <td>0.029421</td>\n",
       "      <td>0.012826</td>\n",
       "      <td>0.029783</td>\n",
       "      <td>0.013407</td>\n",
       "      <td>0.030959</td>\n",
       "      <td>0.014161</td>\n",
       "    </tr>\n",
       "    <tr>\n",
       "      <th>std_score_time</th>\n",
       "      <td>0.000658</td>\n",
       "      <td>0.000332</td>\n",
       "      <td>0.000704</td>\n",
       "      <td>0.000319</td>\n",
       "      <td>0.000546</td>\n",
       "      <td>0.000297</td>\n",
       "      <td>0.001579</td>\n",
       "      <td>0.001017</td>\n",
       "      <td>0.000461</td>\n",
       "      <td>0.000456</td>\n",
       "      <td>...</td>\n",
       "      <td>0.000605</td>\n",
       "      <td>0.000168</td>\n",
       "      <td>0.000419</td>\n",
       "      <td>0.000335</td>\n",
       "      <td>0.000673</td>\n",
       "      <td>0.000155</td>\n",
       "      <td>0.000296</td>\n",
       "      <td>0.000162</td>\n",
       "      <td>0.000683</td>\n",
       "      <td>0.000063</td>\n",
       "    </tr>\n",
       "    <tr>\n",
       "      <th>param_algorithm</th>\n",
       "      <td>auto</td>\n",
       "      <td>auto</td>\n",
       "      <td>auto</td>\n",
       "      <td>auto</td>\n",
       "      <td>auto</td>\n",
       "      <td>auto</td>\n",
       "      <td>auto</td>\n",
       "      <td>auto</td>\n",
       "      <td>auto</td>\n",
       "      <td>auto</td>\n",
       "      <td>...</td>\n",
       "      <td>kd_tree</td>\n",
       "      <td>kd_tree</td>\n",
       "      <td>kd_tree</td>\n",
       "      <td>kd_tree</td>\n",
       "      <td>kd_tree</td>\n",
       "      <td>kd_tree</td>\n",
       "      <td>kd_tree</td>\n",
       "      <td>kd_tree</td>\n",
       "      <td>kd_tree</td>\n",
       "      <td>kd_tree</td>\n",
       "    </tr>\n",
       "    <tr>\n",
       "      <th>param_metric</th>\n",
       "      <td>manhattan</td>\n",
       "      <td>manhattan</td>\n",
       "      <td>manhattan</td>\n",
       "      <td>manhattan</td>\n",
       "      <td>manhattan</td>\n",
       "      <td>manhattan</td>\n",
       "      <td>manhattan</td>\n",
       "      <td>manhattan</td>\n",
       "      <td>manhattan</td>\n",
       "      <td>manhattan</td>\n",
       "      <td>...</td>\n",
       "      <td>minkowski</td>\n",
       "      <td>minkowski</td>\n",
       "      <td>minkowski</td>\n",
       "      <td>minkowski</td>\n",
       "      <td>minkowski</td>\n",
       "      <td>minkowski</td>\n",
       "      <td>minkowski</td>\n",
       "      <td>minkowski</td>\n",
       "      <td>minkowski</td>\n",
       "      <td>minkowski</td>\n",
       "    </tr>\n",
       "    <tr>\n",
       "      <th>param_n_neighbors</th>\n",
       "      <td>1</td>\n",
       "      <td>1</td>\n",
       "      <td>2</td>\n",
       "      <td>2</td>\n",
       "      <td>3</td>\n",
       "      <td>3</td>\n",
       "      <td>4</td>\n",
       "      <td>4</td>\n",
       "      <td>5</td>\n",
       "      <td>5</td>\n",
       "      <td>...</td>\n",
       "      <td>1</td>\n",
       "      <td>1</td>\n",
       "      <td>2</td>\n",
       "      <td>2</td>\n",
       "      <td>3</td>\n",
       "      <td>3</td>\n",
       "      <td>4</td>\n",
       "      <td>4</td>\n",
       "      <td>5</td>\n",
       "      <td>5</td>\n",
       "    </tr>\n",
       "    <tr>\n",
       "      <th>param_weights</th>\n",
       "      <td>uniform</td>\n",
       "      <td>distance</td>\n",
       "      <td>uniform</td>\n",
       "      <td>distance</td>\n",
       "      <td>uniform</td>\n",
       "      <td>distance</td>\n",
       "      <td>uniform</td>\n",
       "      <td>distance</td>\n",
       "      <td>uniform</td>\n",
       "      <td>distance</td>\n",
       "      <td>...</td>\n",
       "      <td>uniform</td>\n",
       "      <td>distance</td>\n",
       "      <td>uniform</td>\n",
       "      <td>distance</td>\n",
       "      <td>uniform</td>\n",
       "      <td>distance</td>\n",
       "      <td>uniform</td>\n",
       "      <td>distance</td>\n",
       "      <td>uniform</td>\n",
       "      <td>distance</td>\n",
       "    </tr>\n",
       "    <tr>\n",
       "      <th>params</th>\n",
       "      <td>{'algorithm': 'auto', 'metric': 'manhattan', '...</td>\n",
       "      <td>{'algorithm': 'auto', 'metric': 'manhattan', '...</td>\n",
       "      <td>{'algorithm': 'auto', 'metric': 'manhattan', '...</td>\n",
       "      <td>{'algorithm': 'auto', 'metric': 'manhattan', '...</td>\n",
       "      <td>{'algorithm': 'auto', 'metric': 'manhattan', '...</td>\n",
       "      <td>{'algorithm': 'auto', 'metric': 'manhattan', '...</td>\n",
       "      <td>{'algorithm': 'auto', 'metric': 'manhattan', '...</td>\n",
       "      <td>{'algorithm': 'auto', 'metric': 'manhattan', '...</td>\n",
       "      <td>{'algorithm': 'auto', 'metric': 'manhattan', '...</td>\n",
       "      <td>{'algorithm': 'auto', 'metric': 'manhattan', '...</td>\n",
       "      <td>...</td>\n",
       "      <td>{'algorithm': 'kd_tree', 'metric': 'minkowski'...</td>\n",
       "      <td>{'algorithm': 'kd_tree', 'metric': 'minkowski'...</td>\n",
       "      <td>{'algorithm': 'kd_tree', 'metric': 'minkowski'...</td>\n",
       "      <td>{'algorithm': 'kd_tree', 'metric': 'minkowski'...</td>\n",
       "      <td>{'algorithm': 'kd_tree', 'metric': 'minkowski'...</td>\n",
       "      <td>{'algorithm': 'kd_tree', 'metric': 'minkowski'...</td>\n",
       "      <td>{'algorithm': 'kd_tree', 'metric': 'minkowski'...</td>\n",
       "      <td>{'algorithm': 'kd_tree', 'metric': 'minkowski'...</td>\n",
       "      <td>{'algorithm': 'kd_tree', 'metric': 'minkowski'...</td>\n",
       "      <td>{'algorithm': 'kd_tree', 'metric': 'minkowski'...</td>\n",
       "    </tr>\n",
       "    <tr>\n",
       "      <th>split0_test_score</th>\n",
       "      <td>0.805594</td>\n",
       "      <td>0.805594</td>\n",
       "      <td>0.806993</td>\n",
       "      <td>0.805594</td>\n",
       "      <td>0.78042</td>\n",
       "      <td>0.79021</td>\n",
       "      <td>0.788811</td>\n",
       "      <td>0.802797</td>\n",
       "      <td>0.783217</td>\n",
       "      <td>0.8</td>\n",
       "      <td>...</td>\n",
       "      <td>0.779021</td>\n",
       "      <td>0.779021</td>\n",
       "      <td>0.801399</td>\n",
       "      <td>0.779021</td>\n",
       "      <td>0.776224</td>\n",
       "      <td>0.79021</td>\n",
       "      <td>0.793007</td>\n",
       "      <td>0.794406</td>\n",
       "      <td>0.781818</td>\n",
       "      <td>0.801399</td>\n",
       "    </tr>\n",
       "    <tr>\n",
       "      <th>split1_test_score</th>\n",
       "      <td>0.771709</td>\n",
       "      <td>0.771709</td>\n",
       "      <td>0.792717</td>\n",
       "      <td>0.771709</td>\n",
       "      <td>0.759104</td>\n",
       "      <td>0.773109</td>\n",
       "      <td>0.791317</td>\n",
       "      <td>0.777311</td>\n",
       "      <td>0.77451</td>\n",
       "      <td>0.796919</td>\n",
       "      <td>...</td>\n",
       "      <td>0.770308</td>\n",
       "      <td>0.770308</td>\n",
       "      <td>0.794118</td>\n",
       "      <td>0.770308</td>\n",
       "      <td>0.766106</td>\n",
       "      <td>0.784314</td>\n",
       "      <td>0.795518</td>\n",
       "      <td>0.782913</td>\n",
       "      <td>0.778711</td>\n",
       "      <td>0.79972</td>\n",
       "    </tr>\n",
       "    <tr>\n",
       "      <th>split2_test_score</th>\n",
       "      <td>0.768908</td>\n",
       "      <td>0.768908</td>\n",
       "      <td>0.792717</td>\n",
       "      <td>0.768908</td>\n",
       "      <td>0.766106</td>\n",
       "      <td>0.784314</td>\n",
       "      <td>0.778711</td>\n",
       "      <td>0.791317</td>\n",
       "      <td>0.754902</td>\n",
       "      <td>0.780112</td>\n",
       "      <td>...</td>\n",
       "      <td>0.771709</td>\n",
       "      <td>0.771709</td>\n",
       "      <td>0.792717</td>\n",
       "      <td>0.771709</td>\n",
       "      <td>0.770308</td>\n",
       "      <td>0.794118</td>\n",
       "      <td>0.789916</td>\n",
       "      <td>0.795518</td>\n",
       "      <td>0.767507</td>\n",
       "      <td>0.794118</td>\n",
       "    </tr>\n",
       "    <tr>\n",
       "      <th>split3_test_score</th>\n",
       "      <td>0.740896</td>\n",
       "      <td>0.740896</td>\n",
       "      <td>0.796919</td>\n",
       "      <td>0.740896</td>\n",
       "      <td>0.764706</td>\n",
       "      <td>0.773109</td>\n",
       "      <td>0.80112</td>\n",
       "      <td>0.760504</td>\n",
       "      <td>0.789916</td>\n",
       "      <td>0.80112</td>\n",
       "      <td>...</td>\n",
       "      <td>0.745098</td>\n",
       "      <td>0.745098</td>\n",
       "      <td>0.794118</td>\n",
       "      <td>0.745098</td>\n",
       "      <td>0.7493</td>\n",
       "      <td>0.764706</td>\n",
       "      <td>0.782913</td>\n",
       "      <td>0.759104</td>\n",
       "      <td>0.757703</td>\n",
       "      <td>0.778711</td>\n",
       "    </tr>\n",
       "    <tr>\n",
       "      <th>split4_test_score</th>\n",
       "      <td>0.827731</td>\n",
       "      <td>0.827731</td>\n",
       "      <td>0.852941</td>\n",
       "      <td>0.827731</td>\n",
       "      <td>0.823529</td>\n",
       "      <td>0.87535</td>\n",
       "      <td>0.813725</td>\n",
       "      <td>0.876751</td>\n",
       "      <td>0.826331</td>\n",
       "      <td>0.904762</td>\n",
       "      <td>...</td>\n",
       "      <td>0.840336</td>\n",
       "      <td>0.840336</td>\n",
       "      <td>0.865546</td>\n",
       "      <td>0.840336</td>\n",
       "      <td>0.845938</td>\n",
       "      <td>0.90056</td>\n",
       "      <td>0.822129</td>\n",
       "      <td>0.894958</td>\n",
       "      <td>0.830532</td>\n",
       "      <td>0.906162</td>\n",
       "    </tr>\n",
       "    <tr>\n",
       "      <th>mean_test_score</th>\n",
       "      <td>0.782968</td>\n",
       "      <td>0.782968</td>\n",
       "      <td>0.808457</td>\n",
       "      <td>0.782968</td>\n",
       "      <td>0.778773</td>\n",
       "      <td>0.799218</td>\n",
       "      <td>0.794737</td>\n",
       "      <td>0.801736</td>\n",
       "      <td>0.785775</td>\n",
       "      <td>0.816583</td>\n",
       "      <td>...</td>\n",
       "      <td>0.781294</td>\n",
       "      <td>0.781294</td>\n",
       "      <td>0.809579</td>\n",
       "      <td>0.781294</td>\n",
       "      <td>0.781575</td>\n",
       "      <td>0.806781</td>\n",
       "      <td>0.796697</td>\n",
       "      <td>0.80538</td>\n",
       "      <td>0.783254</td>\n",
       "      <td>0.816022</td>\n",
       "    </tr>\n",
       "    <tr>\n",
       "      <th>std_test_score</th>\n",
       "      <td>0.030365</td>\n",
       "      <td>0.030365</td>\n",
       "      <td>0.022846</td>\n",
       "      <td>0.030365</td>\n",
       "      <td>0.023457</td>\n",
       "      <td>0.038633</td>\n",
       "      <td>0.011874</td>\n",
       "      <td>0.040084</td>\n",
       "      <td>0.023446</td>\n",
       "      <td>0.044736</td>\n",
       "      <td>...</td>\n",
       "      <td>0.031667</td>\n",
       "      <td>0.031667</td>\n",
       "      <td>0.028148</td>\n",
       "      <td>0.031667</td>\n",
       "      <td>0.033404</td>\n",
       "      <td>0.047968</td>\n",
       "      <td>0.0134</td>\n",
       "      <td>0.046665</td>\n",
       "      <td>0.025135</td>\n",
       "      <td>0.045775</td>\n",
       "    </tr>\n",
       "    <tr>\n",
       "      <th>rank_test_score</th>\n",
       "      <td>37</td>\n",
       "      <td>37</td>\n",
       "      <td>10</td>\n",
       "      <td>37</td>\n",
       "      <td>58</td>\n",
       "      <td>22</td>\n",
       "      <td>28</td>\n",
       "      <td>19</td>\n",
       "      <td>31</td>\n",
       "      <td>1</td>\n",
       "      <td>...</td>\n",
       "      <td>49</td>\n",
       "      <td>49</td>\n",
       "      <td>7</td>\n",
       "      <td>49</td>\n",
       "      <td>46</td>\n",
       "      <td>13</td>\n",
       "      <td>25</td>\n",
       "      <td>16</td>\n",
       "      <td>34</td>\n",
       "      <td>4</td>\n",
       "    </tr>\n",
       "  </tbody>\n",
       "</table>\n",
       "<p>17 rows × 90 columns</p>\n",
       "</div>"
      ],
      "text/plain": [
       "                                                                  0   \\\n",
       "mean_fit_time                                                0.00675   \n",
       "std_fit_time                                                0.001361   \n",
       "mean_score_time                                             0.032846   \n",
       "std_score_time                                              0.000658   \n",
       "param_algorithm                                                 auto   \n",
       "param_metric                                               manhattan   \n",
       "param_n_neighbors                                                  1   \n",
       "param_weights                                                uniform   \n",
       "params             {'algorithm': 'auto', 'metric': 'manhattan', '...   \n",
       "split0_test_score                                           0.805594   \n",
       "split1_test_score                                           0.771709   \n",
       "split2_test_score                                           0.768908   \n",
       "split3_test_score                                           0.740896   \n",
       "split4_test_score                                           0.827731   \n",
       "mean_test_score                                             0.782968   \n",
       "std_test_score                                              0.030365   \n",
       "rank_test_score                                                   37   \n",
       "\n",
       "                                                                  1   \\\n",
       "mean_fit_time                                               0.005989   \n",
       "std_fit_time                                                0.000117   \n",
       "mean_score_time                                             0.016669   \n",
       "std_score_time                                              0.000332   \n",
       "param_algorithm                                                 auto   \n",
       "param_metric                                               manhattan   \n",
       "param_n_neighbors                                                  1   \n",
       "param_weights                                               distance   \n",
       "params             {'algorithm': 'auto', 'metric': 'manhattan', '...   \n",
       "split0_test_score                                           0.805594   \n",
       "split1_test_score                                           0.771709   \n",
       "split2_test_score                                           0.768908   \n",
       "split3_test_score                                           0.740896   \n",
       "split4_test_score                                           0.827731   \n",
       "mean_test_score                                             0.782968   \n",
       "std_test_score                                              0.030365   \n",
       "rank_test_score                                                   37   \n",
       "\n",
       "                                                                  2   \\\n",
       "mean_fit_time                                               0.005969   \n",
       "std_fit_time                                                 0.00004   \n",
       "mean_score_time                                             0.035906   \n",
       "std_score_time                                              0.000704   \n",
       "param_algorithm                                                 auto   \n",
       "param_metric                                               manhattan   \n",
       "param_n_neighbors                                                  2   \n",
       "param_weights                                                uniform   \n",
       "params             {'algorithm': 'auto', 'metric': 'manhattan', '...   \n",
       "split0_test_score                                           0.806993   \n",
       "split1_test_score                                           0.792717   \n",
       "split2_test_score                                           0.792717   \n",
       "split3_test_score                                           0.796919   \n",
       "split4_test_score                                           0.852941   \n",
       "mean_test_score                                             0.808457   \n",
       "std_test_score                                              0.022846   \n",
       "rank_test_score                                                   10   \n",
       "\n",
       "                                                                  3   \\\n",
       "mean_fit_time                                               0.006039   \n",
       "std_fit_time                                                0.000147   \n",
       "mean_score_time                                             0.019575   \n",
       "std_score_time                                              0.000319   \n",
       "param_algorithm                                                 auto   \n",
       "param_metric                                               manhattan   \n",
       "param_n_neighbors                                                  2   \n",
       "param_weights                                               distance   \n",
       "params             {'algorithm': 'auto', 'metric': 'manhattan', '...   \n",
       "split0_test_score                                           0.805594   \n",
       "split1_test_score                                           0.771709   \n",
       "split2_test_score                                           0.768908   \n",
       "split3_test_score                                           0.740896   \n",
       "split4_test_score                                           0.827731   \n",
       "mean_test_score                                             0.782968   \n",
       "std_test_score                                              0.030365   \n",
       "rank_test_score                                                   37   \n",
       "\n",
       "                                                                  4   \\\n",
       "mean_fit_time                                               0.006104   \n",
       "std_fit_time                                                0.000124   \n",
       "mean_score_time                                             0.037946   \n",
       "std_score_time                                              0.000546   \n",
       "param_algorithm                                                 auto   \n",
       "param_metric                                               manhattan   \n",
       "param_n_neighbors                                                  3   \n",
       "param_weights                                                uniform   \n",
       "params             {'algorithm': 'auto', 'metric': 'manhattan', '...   \n",
       "split0_test_score                                            0.78042   \n",
       "split1_test_score                                           0.759104   \n",
       "split2_test_score                                           0.766106   \n",
       "split3_test_score                                           0.764706   \n",
       "split4_test_score                                           0.823529   \n",
       "mean_test_score                                             0.778773   \n",
       "std_test_score                                              0.023457   \n",
       "rank_test_score                                                   58   \n",
       "\n",
       "                                                                  5   \\\n",
       "mean_fit_time                                               0.006171   \n",
       "std_fit_time                                                0.000206   \n",
       "mean_score_time                                             0.022225   \n",
       "std_score_time                                              0.000297   \n",
       "param_algorithm                                                 auto   \n",
       "param_metric                                               manhattan   \n",
       "param_n_neighbors                                                  3   \n",
       "param_weights                                               distance   \n",
       "params             {'algorithm': 'auto', 'metric': 'manhattan', '...   \n",
       "split0_test_score                                            0.79021   \n",
       "split1_test_score                                           0.773109   \n",
       "split2_test_score                                           0.784314   \n",
       "split3_test_score                                           0.773109   \n",
       "split4_test_score                                            0.87535   \n",
       "mean_test_score                                             0.799218   \n",
       "std_test_score                                              0.038633   \n",
       "rank_test_score                                                   22   \n",
       "\n",
       "                                                                  6   \\\n",
       "mean_fit_time                                               0.006152   \n",
       "std_fit_time                                                0.000143   \n",
       "mean_score_time                                             0.039222   \n",
       "std_score_time                                              0.001579   \n",
       "param_algorithm                                                 auto   \n",
       "param_metric                                               manhattan   \n",
       "param_n_neighbors                                                  4   \n",
       "param_weights                                                uniform   \n",
       "params             {'algorithm': 'auto', 'metric': 'manhattan', '...   \n",
       "split0_test_score                                           0.788811   \n",
       "split1_test_score                                           0.791317   \n",
       "split2_test_score                                           0.778711   \n",
       "split3_test_score                                            0.80112   \n",
       "split4_test_score                                           0.813725   \n",
       "mean_test_score                                             0.794737   \n",
       "std_test_score                                              0.011874   \n",
       "rank_test_score                                                   28   \n",
       "\n",
       "                                                                  7   \\\n",
       "mean_fit_time                                               0.005943   \n",
       "std_fit_time                                                0.000043   \n",
       "mean_score_time                                             0.022763   \n",
       "std_score_time                                              0.001017   \n",
       "param_algorithm                                                 auto   \n",
       "param_metric                                               manhattan   \n",
       "param_n_neighbors                                                  4   \n",
       "param_weights                                               distance   \n",
       "params             {'algorithm': 'auto', 'metric': 'manhattan', '...   \n",
       "split0_test_score                                           0.802797   \n",
       "split1_test_score                                           0.777311   \n",
       "split2_test_score                                           0.791317   \n",
       "split3_test_score                                           0.760504   \n",
       "split4_test_score                                           0.876751   \n",
       "mean_test_score                                             0.801736   \n",
       "std_test_score                                              0.040084   \n",
       "rank_test_score                                                   19   \n",
       "\n",
       "                                                                  8   \\\n",
       "mean_fit_time                                               0.006115   \n",
       "std_fit_time                                                0.000296   \n",
       "mean_score_time                                             0.039954   \n",
       "std_score_time                                              0.000461   \n",
       "param_algorithm                                                 auto   \n",
       "param_metric                                               manhattan   \n",
       "param_n_neighbors                                                  5   \n",
       "param_weights                                                uniform   \n",
       "params             {'algorithm': 'auto', 'metric': 'manhattan', '...   \n",
       "split0_test_score                                           0.783217   \n",
       "split1_test_score                                            0.77451   \n",
       "split2_test_score                                           0.754902   \n",
       "split3_test_score                                           0.789916   \n",
       "split4_test_score                                           0.826331   \n",
       "mean_test_score                                             0.785775   \n",
       "std_test_score                                              0.023446   \n",
       "rank_test_score                                                   31   \n",
       "\n",
       "                                                                  9   ...  \\\n",
       "mean_fit_time                                               0.006283  ...   \n",
       "std_fit_time                                                 0.00033  ...   \n",
       "mean_score_time                                             0.023783  ...   \n",
       "std_score_time                                              0.000456  ...   \n",
       "param_algorithm                                                 auto  ...   \n",
       "param_metric                                               manhattan  ...   \n",
       "param_n_neighbors                                                  5  ...   \n",
       "param_weights                                               distance  ...   \n",
       "params             {'algorithm': 'auto', 'metric': 'manhattan', '...  ...   \n",
       "split0_test_score                                                0.8  ...   \n",
       "split1_test_score                                           0.796919  ...   \n",
       "split2_test_score                                           0.780112  ...   \n",
       "split3_test_score                                            0.80112  ...   \n",
       "split4_test_score                                           0.904762  ...   \n",
       "mean_test_score                                             0.816583  ...   \n",
       "std_test_score                                              0.044736  ...   \n",
       "rank_test_score                                                    1  ...   \n",
       "\n",
       "                                                                  80  \\\n",
       "mean_fit_time                                               0.006049   \n",
       "std_fit_time                                                0.000068   \n",
       "mean_score_time                                             0.026397   \n",
       "std_score_time                                              0.000605   \n",
       "param_algorithm                                              kd_tree   \n",
       "param_metric                                               minkowski   \n",
       "param_n_neighbors                                                  1   \n",
       "param_weights                                                uniform   \n",
       "params             {'algorithm': 'kd_tree', 'metric': 'minkowski'...   \n",
       "split0_test_score                                           0.779021   \n",
       "split1_test_score                                           0.770308   \n",
       "split2_test_score                                           0.771709   \n",
       "split3_test_score                                           0.745098   \n",
       "split4_test_score                                           0.840336   \n",
       "mean_test_score                                             0.781294   \n",
       "std_test_score                                              0.031667   \n",
       "rank_test_score                                                   49   \n",
       "\n",
       "                                                                  81  \\\n",
       "mean_fit_time                                               0.006016   \n",
       "std_fit_time                                                0.000085   \n",
       "mean_score_time                                             0.010326   \n",
       "std_score_time                                              0.000168   \n",
       "param_algorithm                                              kd_tree   \n",
       "param_metric                                               minkowski   \n",
       "param_n_neighbors                                                  1   \n",
       "param_weights                                               distance   \n",
       "params             {'algorithm': 'kd_tree', 'metric': 'minkowski'...   \n",
       "split0_test_score                                           0.779021   \n",
       "split1_test_score                                           0.770308   \n",
       "split2_test_score                                           0.771709   \n",
       "split3_test_score                                           0.745098   \n",
       "split4_test_score                                           0.840336   \n",
       "mean_test_score                                             0.781294   \n",
       "std_test_score                                              0.031667   \n",
       "rank_test_score                                                   49   \n",
       "\n",
       "                                                                  82  \\\n",
       "mean_fit_time                                               0.005951   \n",
       "std_fit_time                                                0.000043   \n",
       "mean_score_time                                              0.02814   \n",
       "std_score_time                                              0.000419   \n",
       "param_algorithm                                              kd_tree   \n",
       "param_metric                                               minkowski   \n",
       "param_n_neighbors                                                  2   \n",
       "param_weights                                                uniform   \n",
       "params             {'algorithm': 'kd_tree', 'metric': 'minkowski'...   \n",
       "split0_test_score                                           0.801399   \n",
       "split1_test_score                                           0.794118   \n",
       "split2_test_score                                           0.792717   \n",
       "split3_test_score                                           0.794118   \n",
       "split4_test_score                                           0.865546   \n",
       "mean_test_score                                             0.809579   \n",
       "std_test_score                                              0.028148   \n",
       "rank_test_score                                                    7   \n",
       "\n",
       "                                                                  83  \\\n",
       "mean_fit_time                                               0.005926   \n",
       "std_fit_time                                                0.000046   \n",
       "mean_score_time                                             0.011799   \n",
       "std_score_time                                              0.000335   \n",
       "param_algorithm                                              kd_tree   \n",
       "param_metric                                               minkowski   \n",
       "param_n_neighbors                                                  2   \n",
       "param_weights                                               distance   \n",
       "params             {'algorithm': 'kd_tree', 'metric': 'minkowski'...   \n",
       "split0_test_score                                           0.779021   \n",
       "split1_test_score                                           0.770308   \n",
       "split2_test_score                                           0.771709   \n",
       "split3_test_score                                           0.745098   \n",
       "split4_test_score                                           0.840336   \n",
       "mean_test_score                                             0.781294   \n",
       "std_test_score                                              0.031667   \n",
       "rank_test_score                                                   49   \n",
       "\n",
       "                                                                  84  \\\n",
       "mean_fit_time                                               0.006015   \n",
       "std_fit_time                                                0.000114   \n",
       "mean_score_time                                             0.029421   \n",
       "std_score_time                                              0.000673   \n",
       "param_algorithm                                              kd_tree   \n",
       "param_metric                                               minkowski   \n",
       "param_n_neighbors                                                  3   \n",
       "param_weights                                                uniform   \n",
       "params             {'algorithm': 'kd_tree', 'metric': 'minkowski'...   \n",
       "split0_test_score                                           0.776224   \n",
       "split1_test_score                                           0.766106   \n",
       "split2_test_score                                           0.770308   \n",
       "split3_test_score                                             0.7493   \n",
       "split4_test_score                                           0.845938   \n",
       "mean_test_score                                             0.781575   \n",
       "std_test_score                                              0.033404   \n",
       "rank_test_score                                                   46   \n",
       "\n",
       "                                                                  85  \\\n",
       "mean_fit_time                                               0.006074   \n",
       "std_fit_time                                                0.000194   \n",
       "mean_score_time                                             0.012826   \n",
       "std_score_time                                              0.000155   \n",
       "param_algorithm                                              kd_tree   \n",
       "param_metric                                               minkowski   \n",
       "param_n_neighbors                                                  3   \n",
       "param_weights                                               distance   \n",
       "params             {'algorithm': 'kd_tree', 'metric': 'minkowski'...   \n",
       "split0_test_score                                            0.79021   \n",
       "split1_test_score                                           0.784314   \n",
       "split2_test_score                                           0.794118   \n",
       "split3_test_score                                           0.764706   \n",
       "split4_test_score                                            0.90056   \n",
       "mean_test_score                                             0.806781   \n",
       "std_test_score                                              0.047968   \n",
       "rank_test_score                                                   13   \n",
       "\n",
       "                                                                  86  \\\n",
       "mean_fit_time                                               0.006085   \n",
       "std_fit_time                                                0.000146   \n",
       "mean_score_time                                             0.029783   \n",
       "std_score_time                                              0.000296   \n",
       "param_algorithm                                              kd_tree   \n",
       "param_metric                                               minkowski   \n",
       "param_n_neighbors                                                  4   \n",
       "param_weights                                                uniform   \n",
       "params             {'algorithm': 'kd_tree', 'metric': 'minkowski'...   \n",
       "split0_test_score                                           0.793007   \n",
       "split1_test_score                                           0.795518   \n",
       "split2_test_score                                           0.789916   \n",
       "split3_test_score                                           0.782913   \n",
       "split4_test_score                                           0.822129   \n",
       "mean_test_score                                             0.796697   \n",
       "std_test_score                                                0.0134   \n",
       "rank_test_score                                                   25   \n",
       "\n",
       "                                                                  87  \\\n",
       "mean_fit_time                                               0.005908   \n",
       "std_fit_time                                                0.000074   \n",
       "mean_score_time                                             0.013407   \n",
       "std_score_time                                              0.000162   \n",
       "param_algorithm                                              kd_tree   \n",
       "param_metric                                               minkowski   \n",
       "param_n_neighbors                                                  4   \n",
       "param_weights                                               distance   \n",
       "params             {'algorithm': 'kd_tree', 'metric': 'minkowski'...   \n",
       "split0_test_score                                           0.794406   \n",
       "split1_test_score                                           0.782913   \n",
       "split2_test_score                                           0.795518   \n",
       "split3_test_score                                           0.759104   \n",
       "split4_test_score                                           0.894958   \n",
       "mean_test_score                                              0.80538   \n",
       "std_test_score                                              0.046665   \n",
       "rank_test_score                                                   16   \n",
       "\n",
       "                                                                  88  \\\n",
       "mean_fit_time                                               0.006163   \n",
       "std_fit_time                                                0.000254   \n",
       "mean_score_time                                             0.030959   \n",
       "std_score_time                                              0.000683   \n",
       "param_algorithm                                              kd_tree   \n",
       "param_metric                                               minkowski   \n",
       "param_n_neighbors                                                  5   \n",
       "param_weights                                                uniform   \n",
       "params             {'algorithm': 'kd_tree', 'metric': 'minkowski'...   \n",
       "split0_test_score                                           0.781818   \n",
       "split1_test_score                                           0.778711   \n",
       "split2_test_score                                           0.767507   \n",
       "split3_test_score                                           0.757703   \n",
       "split4_test_score                                           0.830532   \n",
       "mean_test_score                                             0.783254   \n",
       "std_test_score                                              0.025135   \n",
       "rank_test_score                                                   34   \n",
       "\n",
       "                                                                  89  \n",
       "mean_fit_time                                               0.005988  \n",
       "std_fit_time                                                0.000106  \n",
       "mean_score_time                                             0.014161  \n",
       "std_score_time                                              0.000063  \n",
       "param_algorithm                                              kd_tree  \n",
       "param_metric                                               minkowski  \n",
       "param_n_neighbors                                                  5  \n",
       "param_weights                                               distance  \n",
       "params             {'algorithm': 'kd_tree', 'metric': 'minkowski'...  \n",
       "split0_test_score                                           0.801399  \n",
       "split1_test_score                                            0.79972  \n",
       "split2_test_score                                           0.794118  \n",
       "split3_test_score                                           0.778711  \n",
       "split4_test_score                                           0.906162  \n",
       "mean_test_score                                             0.816022  \n",
       "std_test_score                                              0.045775  \n",
       "rank_test_score                                                    4  \n",
       "\n",
       "[17 rows x 90 columns]"
      ]
     },
     "execution_count": 55,
     "metadata": {},
     "output_type": "execute_result"
    }
   ],
   "source": [
    "gr = GridSearchCV(estimator=knn, param_grid=grid).fit(x_train_resample, y_train_resample)\n",
    "gr=pd.DataFrame(gr.cv_results_)\n",
    "gr.T"
   ]
  },
  {
   "cell_type": "code",
   "execution_count": 56,
   "id": "d7b36d75",
   "metadata": {
    "execution": {
     "iopub.execute_input": "2023-04-12T19:52:39.322009Z",
     "iopub.status.busy": "2023-04-12T19:52:39.320599Z",
     "iopub.status.idle": "2023-04-12T19:52:39.514599Z",
     "shell.execute_reply": "2023-04-12T19:52:39.513062Z"
    },
    "papermill": {
     "duration": 0.234954,
     "end_time": "2023-04-12T19:52:39.517472",
     "exception": false,
     "start_time": "2023-04-12T19:52:39.282518",
     "status": "completed"
    },
    "tags": []
   },
   "outputs": [
    {
     "data": {
      "image/png": "[encoded data removed]",
      "text/plain": [
       "<Figure size 640x480 with 1 Axes>"
      ]
     },
     "metadata": {},
     "output_type": "display_data"
    }
   ],
   "source": [
    "plt.plot(model,ac,'go--')\n",
    "plt.xlabel('Model')\n",
    "plt.ylabel('Accuracy obtained')\n",
    "plt.show()"
   ]
  }
 ],
 "metadata": {
  "kernelspec": {
   "display_name": "Python 3",
   "language": "python",
   "name": "python3"
  },
  "language_info": {
   "codemirror_mode": {
    "name": "ipython",
    "version": 3
   },
   "file_extension": ".py",
   "mimetype": "text/x-python",
   "name": "python",
   "nbconvert_exporter": "python",
   "pygments_lexer": "ipython3",
   "version": "3.7.12"
  },
  "papermill": {
   "default_parameters": {},
   "duration": 62.037359,
   "end_time": "2023-04-12T19:52:40.582224",
   "environment_variables": {},
   "exception": null,
   "input_path": "__notebook__.ipynb",
   "output_path": "__notebook__.ipynb",
   "parameters": {},
   "start_time": "2023-04-12T19:51:38.544865",
   "version": "2.4.0"
  }
 },
 "nbformat": 4,
 "nbformat_minor": 5
}
